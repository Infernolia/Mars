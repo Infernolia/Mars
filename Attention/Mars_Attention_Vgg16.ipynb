{
  "nbformat": 4,
  "nbformat_minor": 0,
  "metadata": {
    "colab": {
      "name": "Mars_Attention_Vgg16.ipynb",
      "provenance": [],
      "collapsed_sections": []
    },
    "kernelspec": {
      "display_name": "Python 3",
      "name": "python3"
    },
    "widgets": {
      "application/vnd.jupyter.widget-state+json": {
        "2877deaba43149c38d7d1cf4c7e2eb48": {
          "model_module": "@jupyter-widgets/controls",
          "model_name": "HBoxModel",
          "model_module_version": "1.5.0",
          "state": {
            "_view_name": "HBoxView",
            "_dom_classes": [],
            "_model_name": "HBoxModel",
            "_view_module": "@jupyter-widgets/controls",
            "_model_module_version": "1.5.0",
            "_view_count": null,
            "_view_module_version": "1.5.0",
            "box_style": "",
            "layout": "IPY_MODEL_4b4b16e2e1ee4c5fac3dd17bd5ee12e1",
            "_model_module": "@jupyter-widgets/controls",
            "children": [
              "IPY_MODEL_005d7877e0ed428cbbae45349cb6f43b",
              "IPY_MODEL_278246af045f42f089ac884e74f641e0",
              "IPY_MODEL_91f88d71ddc745778325a2a20bef74ee"
            ]
          }
        },
        "4b4b16e2e1ee4c5fac3dd17bd5ee12e1": {
          "model_module": "@jupyter-widgets/base",
          "model_name": "LayoutModel",
          "model_module_version": "1.2.0",
          "state": {
            "_view_name": "LayoutView",
            "grid_template_rows": null,
            "right": null,
            "justify_content": null,
            "_view_module": "@jupyter-widgets/base",
            "overflow": null,
            "_model_module_version": "1.2.0",
            "_view_count": null,
            "flex_flow": null,
            "width": null,
            "min_width": null,
            "border": null,
            "align_items": null,
            "bottom": null,
            "_model_module": "@jupyter-widgets/base",
            "top": null,
            "grid_column": null,
            "overflow_y": null,
            "overflow_x": null,
            "grid_auto_flow": null,
            "grid_area": null,
            "grid_template_columns": null,
            "flex": null,
            "_model_name": "LayoutModel",
            "justify_items": null,
            "grid_row": null,
            "max_height": null,
            "align_content": null,
            "visibility": null,
            "align_self": null,
            "height": null,
            "min_height": null,
            "padding": null,
            "grid_auto_rows": null,
            "grid_gap": null,
            "max_width": null,
            "order": null,
            "_view_module_version": "1.2.0",
            "grid_template_areas": null,
            "object_position": null,
            "object_fit": null,
            "grid_auto_columns": null,
            "margin": null,
            "display": null,
            "left": null
          }
        },
        "005d7877e0ed428cbbae45349cb6f43b": {
          "model_module": "@jupyter-widgets/controls",
          "model_name": "HTMLModel",
          "model_module_version": "1.5.0",
          "state": {
            "_view_name": "HTMLView",
            "style": "IPY_MODEL_7bb775ea760a4392bd1e4b3a37b00251",
            "_dom_classes": [],
            "description": "",
            "_model_name": "HTMLModel",
            "placeholder": "​",
            "_view_module": "@jupyter-widgets/controls",
            "_model_module_version": "1.5.0",
            "value": "100%",
            "_view_count": null,
            "_view_module_version": "1.5.0",
            "description_tooltip": null,
            "_model_module": "@jupyter-widgets/controls",
            "layout": "IPY_MODEL_7fc400bca13c43e4a814d084e52ad285"
          }
        },
        "278246af045f42f089ac884e74f641e0": {
          "model_module": "@jupyter-widgets/controls",
          "model_name": "FloatProgressModel",
          "model_module_version": "1.5.0",
          "state": {
            "_view_name": "ProgressView",
            "style": "IPY_MODEL_3f346826748140c7843cc9a7cfef668a",
            "_dom_classes": [],
            "description": "",
            "_model_name": "FloatProgressModel",
            "bar_style": "success",
            "max": 553507836,
            "_view_module": "@jupyter-widgets/controls",
            "_model_module_version": "1.5.0",
            "value": 553507836,
            "_view_count": null,
            "_view_module_version": "1.5.0",
            "orientation": "horizontal",
            "min": 0,
            "description_tooltip": null,
            "_model_module": "@jupyter-widgets/controls",
            "layout": "IPY_MODEL_f307db9eed75403e83339d0c369bfe77"
          }
        },
        "91f88d71ddc745778325a2a20bef74ee": {
          "model_module": "@jupyter-widgets/controls",
          "model_name": "HTMLModel",
          "model_module_version": "1.5.0",
          "state": {
            "_view_name": "HTMLView",
            "style": "IPY_MODEL_0b9f006c5f174a468261eb9aa3544192",
            "_dom_classes": [],
            "description": "",
            "_model_name": "HTMLModel",
            "placeholder": "​",
            "_view_module": "@jupyter-widgets/controls",
            "_model_module_version": "1.5.0",
            "value": " 528M/528M [00:07&lt;00:00, 81.7MB/s]",
            "_view_count": null,
            "_view_module_version": "1.5.0",
            "description_tooltip": null,
            "_model_module": "@jupyter-widgets/controls",
            "layout": "IPY_MODEL_9ac9811c82604977b388b12fcdf2d39f"
          }
        },
        "7bb775ea760a4392bd1e4b3a37b00251": {
          "model_module": "@jupyter-widgets/controls",
          "model_name": "DescriptionStyleModel",
          "model_module_version": "1.5.0",
          "state": {
            "_view_name": "StyleView",
            "_model_name": "DescriptionStyleModel",
            "description_width": "",
            "_view_module": "@jupyter-widgets/base",
            "_model_module_version": "1.5.0",
            "_view_count": null,
            "_view_module_version": "1.2.0",
            "_model_module": "@jupyter-widgets/controls"
          }
        },
        "7fc400bca13c43e4a814d084e52ad285": {
          "model_module": "@jupyter-widgets/base",
          "model_name": "LayoutModel",
          "model_module_version": "1.2.0",
          "state": {
            "_view_name": "LayoutView",
            "grid_template_rows": null,
            "right": null,
            "justify_content": null,
            "_view_module": "@jupyter-widgets/base",
            "overflow": null,
            "_model_module_version": "1.2.0",
            "_view_count": null,
            "flex_flow": null,
            "width": null,
            "min_width": null,
            "border": null,
            "align_items": null,
            "bottom": null,
            "_model_module": "@jupyter-widgets/base",
            "top": null,
            "grid_column": null,
            "overflow_y": null,
            "overflow_x": null,
            "grid_auto_flow": null,
            "grid_area": null,
            "grid_template_columns": null,
            "flex": null,
            "_model_name": "LayoutModel",
            "justify_items": null,
            "grid_row": null,
            "max_height": null,
            "align_content": null,
            "visibility": null,
            "align_self": null,
            "height": null,
            "min_height": null,
            "padding": null,
            "grid_auto_rows": null,
            "grid_gap": null,
            "max_width": null,
            "order": null,
            "_view_module_version": "1.2.0",
            "grid_template_areas": null,
            "object_position": null,
            "object_fit": null,
            "grid_auto_columns": null,
            "margin": null,
            "display": null,
            "left": null
          }
        },
        "3f346826748140c7843cc9a7cfef668a": {
          "model_module": "@jupyter-widgets/controls",
          "model_name": "ProgressStyleModel",
          "model_module_version": "1.5.0",
          "state": {
            "_view_name": "StyleView",
            "_model_name": "ProgressStyleModel",
            "description_width": "",
            "_view_module": "@jupyter-widgets/base",
            "_model_module_version": "1.5.0",
            "_view_count": null,
            "_view_module_version": "1.2.0",
            "bar_color": null,
            "_model_module": "@jupyter-widgets/controls"
          }
        },
        "f307db9eed75403e83339d0c369bfe77": {
          "model_module": "@jupyter-widgets/base",
          "model_name": "LayoutModel",
          "model_module_version": "1.2.0",
          "state": {
            "_view_name": "LayoutView",
            "grid_template_rows": null,
            "right": null,
            "justify_content": null,
            "_view_module": "@jupyter-widgets/base",
            "overflow": null,
            "_model_module_version": "1.2.0",
            "_view_count": null,
            "flex_flow": null,
            "width": null,
            "min_width": null,
            "border": null,
            "align_items": null,
            "bottom": null,
            "_model_module": "@jupyter-widgets/base",
            "top": null,
            "grid_column": null,
            "overflow_y": null,
            "overflow_x": null,
            "grid_auto_flow": null,
            "grid_area": null,
            "grid_template_columns": null,
            "flex": null,
            "_model_name": "LayoutModel",
            "justify_items": null,
            "grid_row": null,
            "max_height": null,
            "align_content": null,
            "visibility": null,
            "align_self": null,
            "height": null,
            "min_height": null,
            "padding": null,
            "grid_auto_rows": null,
            "grid_gap": null,
            "max_width": null,
            "order": null,
            "_view_module_version": "1.2.0",
            "grid_template_areas": null,
            "object_position": null,
            "object_fit": null,
            "grid_auto_columns": null,
            "margin": null,
            "display": null,
            "left": null
          }
        },
        "0b9f006c5f174a468261eb9aa3544192": {
          "model_module": "@jupyter-widgets/controls",
          "model_name": "DescriptionStyleModel",
          "model_module_version": "1.5.0",
          "state": {
            "_view_name": "StyleView",
            "_model_name": "DescriptionStyleModel",
            "description_width": "",
            "_view_module": "@jupyter-widgets/base",
            "_model_module_version": "1.5.0",
            "_view_count": null,
            "_view_module_version": "1.2.0",
            "_model_module": "@jupyter-widgets/controls"
          }
        },
        "9ac9811c82604977b388b12fcdf2d39f": {
          "model_module": "@jupyter-widgets/base",
          "model_name": "LayoutModel",
          "model_module_version": "1.2.0",
          "state": {
            "_view_name": "LayoutView",
            "grid_template_rows": null,
            "right": null,
            "justify_content": null,
            "_view_module": "@jupyter-widgets/base",
            "overflow": null,
            "_model_module_version": "1.2.0",
            "_view_count": null,
            "flex_flow": null,
            "width": null,
            "min_width": null,
            "border": null,
            "align_items": null,
            "bottom": null,
            "_model_module": "@jupyter-widgets/base",
            "top": null,
            "grid_column": null,
            "overflow_y": null,
            "overflow_x": null,
            "grid_auto_flow": null,
            "grid_area": null,
            "grid_template_columns": null,
            "flex": null,
            "_model_name": "LayoutModel",
            "justify_items": null,
            "grid_row": null,
            "max_height": null,
            "align_content": null,
            "visibility": null,
            "align_self": null,
            "height": null,
            "min_height": null,
            "padding": null,
            "grid_auto_rows": null,
            "grid_gap": null,
            "max_width": null,
            "order": null,
            "_view_module_version": "1.2.0",
            "grid_template_areas": null,
            "object_position": null,
            "object_fit": null,
            "grid_auto_columns": null,
            "margin": null,
            "display": null,
            "left": null
          }
        }
      }
    }
  },
  "cells": [
    {
      "cell_type": "code",
      "metadata": {
        "colab": {
          "base_uri": "https://localhost:8080/"
        },
        "id": "2NTvdP85hCDj",
        "outputId": "16bc477f-559c-4024-ffdd-d8431c7594a9"
      },
      "source": [
        "from google.colab import drive\n",
        "drive.mount('/content/gdrive', force_remount=True)"
      ],
      "execution_count": 1,
      "outputs": [
        {
          "output_type": "stream",
          "text": [
            "Mounted at /content/gdrive\n"
          ],
          "name": "stdout"
        }
      ]
    },
    {
      "cell_type": "code",
      "metadata": {
        "id": "o1d1s0TzhQpG"
      },
      "source": [
        "!cp -RT '/content/gdrive/My Drive/Space/msl-images' /"
      ],
      "execution_count": 2,
      "outputs": []
    },
    {
      "cell_type": "code",
      "metadata": {
        "colab": {
          "base_uri": "https://localhost:8080/",
          "height": 35
        },
        "id": "Y8xm4ZS86Aay",
        "outputId": "2d931cd2-5452-4041-922c-260918725406"
      },
      "source": [
        "import os\n",
        "os.getcwd()\n"
      ],
      "execution_count": 3,
      "outputs": [
        {
          "output_type": "execute_result",
          "data": {
            "application/vnd.google.colaboratory.intrinsic+json": {
              "type": "string"
            },
            "text/plain": [
              "'/content'"
            ]
          },
          "metadata": {
            "tags": []
          },
          "execution_count": 3
        }
      ]
    },
    {
      "cell_type": "code",
      "metadata": {
        "id": "Gtv-DSge6Hdd"
      },
      "source": [
        "os.chdir(\"../\")"
      ],
      "execution_count": 4,
      "outputs": []
    },
    {
      "cell_type": "code",
      "metadata": {
        "id": "Sthw7FO4zysB"
      },
      "source": [
        "import keras\n",
        "from keras.models import Sequential\n",
        "from keras.layers import Dense, Dropout, Flatten\n",
        "from keras.layers import Conv2D, MaxPooling2D\n",
        "from keras.preprocessing import image\n",
        "import numpy as np\n",
        "import pandas as pd\n",
        "import matplotlib.pyplot as plt\n",
        "from sklearn.model_selection import train_test_split\n",
        "from tensorflow.keras.utils import to_categorical\n",
        "from tqdm import tqdm"
      ],
      "execution_count": 5,
      "outputs": []
    },
    {
      "cell_type": "code",
      "metadata": {
        "id": "3BuQAYTZ9GLz"
      },
      "source": [
        "from tensorflow.keras.utils import to_categorical"
      ],
      "execution_count": 6,
      "outputs": []
    },
    {
      "cell_type": "code",
      "metadata": {
        "colab": {
          "base_uri": "https://localhost:8080/",
          "height": 35
        },
        "id": "YJ5PqSh_8LFG",
        "outputId": "5d86de65-0f7d-4c7f-e890-e0269b731def"
      },
      "source": [
        "os.getcwd()"
      ],
      "execution_count": 7,
      "outputs": [
        {
          "output_type": "execute_result",
          "data": {
            "application/vnd.google.colaboratory.intrinsic+json": {
              "type": "string"
            },
            "text/plain": [
              "'/'"
            ]
          },
          "metadata": {
            "tags": []
          },
          "execution_count": 7
        }
      ]
    },
    {
      "cell_type": "code",
      "metadata": {
        "id": "I00YfpPOY90t"
      },
      "source": [
        "os.chdir('../')"
      ],
      "execution_count": 8,
      "outputs": []
    },
    {
      "cell_type": "code",
      "metadata": {
        "id": "6xQJJoof8nZn"
      },
      "source": [
        "# Ignore  the warnings\n",
        "import warnings\n",
        "warnings.filterwarnings('always')\n",
        "warnings.filterwarnings('ignore')\n",
        "\n",
        "# data visualisation and manipulation\n",
        "import numpy as np\n",
        "import pandas as pd\n",
        "import matplotlib.pyplot as plt\n",
        "from matplotlib import style\n",
        "import seaborn as sns\n",
        " \n",
        "#configure\n",
        "# sets matplotlib to inline and displays graphs below the corressponding cell.\n",
        "%matplotlib inline  \n",
        "style.use('fivethirtyeight')\n",
        "sns.set(style='whitegrid',color_codes=True)\n",
        "\n",
        "#model selection\n",
        "from sklearn.model_selection import train_test_split\n",
        "from sklearn.model_selection import KFold\n",
        "from sklearn.metrics import accuracy_score,precision_score,recall_score,confusion_matrix,roc_curve,roc_auc_score\n",
        "from sklearn.model_selection import GridSearchCV\n",
        "from sklearn.preprocessing import LabelEncoder\n",
        "\n",
        "#preprocess.\n",
        "from keras.preprocessing.image import ImageDataGenerator\n",
        "\n",
        "#dl libraraies\n",
        "from keras import backend as K\n",
        "from keras.models import Sequential\n",
        "from keras.layers import Dense\n",
        "from keras.optimizers import Adam,SGD,Adagrad,Adadelta,RMSprop\n",
        "\n",
        "# specifically for cnn\n",
        "from keras.layers import Dropout, Flatten,Activation\n",
        "from keras.layers import Conv2D, MaxPooling2D, BatchNormalization\n",
        " \n",
        "import tensorflow as tf\n",
        "import random as rn\n",
        "\n",
        "# specifically for manipulating zipped images and getting numpy arrays of pixel values of images.\n",
        "import cv2                  \n",
        "import numpy as np  \n",
        "from tqdm import tqdm\n",
        "import os                   \n",
        "from random import shuffle  \n",
        "from zipfile import ZipFile\n",
        "from PIL import Image"
      ],
      "execution_count": 9,
      "outputs": []
    },
    {
      "cell_type": "code",
      "metadata": {
        "id": "apMvQrzsKm2M"
      },
      "source": [
        ""
      ],
      "execution_count": 9,
      "outputs": []
    },
    {
      "cell_type": "code",
      "metadata": {
        "id": "c139B45QKmyS"
      },
      "source": [
        ""
      ],
      "execution_count": 9,
      "outputs": []
    },
    {
      "cell_type": "code",
      "metadata": {
        "id": "mfUBxVyhhQld"
      },
      "source": [
        "import pandas as pd \n",
        "train = pd.read_csv(\"train-calibrated-shuffled.txt\", sep=\" \", header=None)"
      ],
      "execution_count": 10,
      "outputs": []
    },
    {
      "cell_type": "code",
      "metadata": {
        "colab": {
          "base_uri": "https://localhost:8080/",
          "height": 204
        },
        "id": "nWq00Uh56NyF",
        "outputId": "a2378486-1870-49f2-b76c-95756f221991"
      },
      "source": [
        "train.head()"
      ],
      "execution_count": 11,
      "outputs": [
        {
          "output_type": "execute_result",
          "data": {
            "text/html": [
              "<div>\n",
              "<style scoped>\n",
              "    .dataframe tbody tr th:only-of-type {\n",
              "        vertical-align: middle;\n",
              "    }\n",
              "\n",
              "    .dataframe tbody tr th {\n",
              "        vertical-align: top;\n",
              "    }\n",
              "\n",
              "    .dataframe thead th {\n",
              "        text-align: right;\n",
              "    }\n",
              "</style>\n",
              "<table border=\"1\" class=\"dataframe\">\n",
              "  <thead>\n",
              "    <tr style=\"text-align: right;\">\n",
              "      <th></th>\n",
              "      <th>0</th>\n",
              "      <th>1</th>\n",
              "    </tr>\n",
              "  </thead>\n",
              "  <tbody>\n",
              "    <tr>\n",
              "      <th>0</th>\n",
              "      <td>calibrated/0077ML0005780000102730I01_DRCL.JPG</td>\n",
              "      <td>15</td>\n",
              "    </tr>\n",
              "    <tr>\n",
              "      <th>1</th>\n",
              "      <td>calibrated/0072MR0005610170103642E01_DRCL.JPG</td>\n",
              "      <td>8</td>\n",
              "    </tr>\n",
              "    <tr>\n",
              "      <th>2</th>\n",
              "      <td>calibrated/0069MR0004130000103477I01_DRCL.JPG</td>\n",
              "      <td>21</td>\n",
              "    </tr>\n",
              "    <tr>\n",
              "      <th>3</th>\n",
              "      <td>calibrated/0154ML0008510010104492E01_DRCL.JPG</td>\n",
              "      <td>8</td>\n",
              "    </tr>\n",
              "    <tr>\n",
              "      <th>4</th>\n",
              "      <td>calibrated/0019MR0000530000100138C00_DRCL.JPG</td>\n",
              "      <td>8</td>\n",
              "    </tr>\n",
              "  </tbody>\n",
              "</table>\n",
              "</div>"
            ],
            "text/plain": [
              "                                               0   1\n",
              "0  calibrated/0077ML0005780000102730I01_DRCL.JPG  15\n",
              "1  calibrated/0072MR0005610170103642E01_DRCL.JPG   8\n",
              "2  calibrated/0069MR0004130000103477I01_DRCL.JPG  21\n",
              "3  calibrated/0154ML0008510010104492E01_DRCL.JPG   8\n",
              "4  calibrated/0019MR0000530000100138C00_DRCL.JPG   8"
            ]
          },
          "metadata": {
            "tags": []
          },
          "execution_count": 11
        }
      ]
    },
    {
      "cell_type": "code",
      "metadata": {
        "colab": {
          "base_uri": "https://localhost:8080/"
        },
        "id": "6H2j4VqlYR0r",
        "outputId": "b2a120fa-93ac-4ce7-fc39-eb545eaa1da6"
      },
      "source": [
        "len(train)"
      ],
      "execution_count": 12,
      "outputs": [
        {
          "output_type": "execute_result",
          "data": {
            "text/plain": [
              "3746"
            ]
          },
          "metadata": {
            "tags": []
          },
          "execution_count": 12
        }
      ]
    },
    {
      "cell_type": "code",
      "metadata": {
        "colab": {
          "base_uri": "https://localhost:8080/",
          "height": 204
        },
        "id": "0Hpn2VnrhQiY",
        "outputId": "411bb947-e29f-451f-c712-ab126f9e9b8c"
      },
      "source": [
        "train.columns=['id','label']\n",
        "train.head()"
      ],
      "execution_count": 13,
      "outputs": [
        {
          "output_type": "execute_result",
          "data": {
            "text/html": [
              "<div>\n",
              "<style scoped>\n",
              "    .dataframe tbody tr th:only-of-type {\n",
              "        vertical-align: middle;\n",
              "    }\n",
              "\n",
              "    .dataframe tbody tr th {\n",
              "        vertical-align: top;\n",
              "    }\n",
              "\n",
              "    .dataframe thead th {\n",
              "        text-align: right;\n",
              "    }\n",
              "</style>\n",
              "<table border=\"1\" class=\"dataframe\">\n",
              "  <thead>\n",
              "    <tr style=\"text-align: right;\">\n",
              "      <th></th>\n",
              "      <th>id</th>\n",
              "      <th>label</th>\n",
              "    </tr>\n",
              "  </thead>\n",
              "  <tbody>\n",
              "    <tr>\n",
              "      <th>0</th>\n",
              "      <td>calibrated/0077ML0005780000102730I01_DRCL.JPG</td>\n",
              "      <td>15</td>\n",
              "    </tr>\n",
              "    <tr>\n",
              "      <th>1</th>\n",
              "      <td>calibrated/0072MR0005610170103642E01_DRCL.JPG</td>\n",
              "      <td>8</td>\n",
              "    </tr>\n",
              "    <tr>\n",
              "      <th>2</th>\n",
              "      <td>calibrated/0069MR0004130000103477I01_DRCL.JPG</td>\n",
              "      <td>21</td>\n",
              "    </tr>\n",
              "    <tr>\n",
              "      <th>3</th>\n",
              "      <td>calibrated/0154ML0008510010104492E01_DRCL.JPG</td>\n",
              "      <td>8</td>\n",
              "    </tr>\n",
              "    <tr>\n",
              "      <th>4</th>\n",
              "      <td>calibrated/0019MR0000530000100138C00_DRCL.JPG</td>\n",
              "      <td>8</td>\n",
              "    </tr>\n",
              "  </tbody>\n",
              "</table>\n",
              "</div>"
            ],
            "text/plain": [
              "                                              id  label\n",
              "0  calibrated/0077ML0005780000102730I01_DRCL.JPG     15\n",
              "1  calibrated/0072MR0005610170103642E01_DRCL.JPG      8\n",
              "2  calibrated/0069MR0004130000103477I01_DRCL.JPG     21\n",
              "3  calibrated/0154ML0008510010104492E01_DRCL.JPG      8\n",
              "4  calibrated/0019MR0000530000100138C00_DRCL.JPG      8"
            ]
          },
          "metadata": {
            "tags": []
          },
          "execution_count": 13
        }
      ]
    },
    {
      "cell_type": "code",
      "metadata": {
        "colab": {
          "base_uri": "https://localhost:8080/"
        },
        "id": "N1PM0nCIFiT5",
        "outputId": "4da2b2e1-273f-4efc-9274-a7da1af3d902"
      },
      "source": [
        "test = pd.read_csv(\"test-calibrated-shuffled.txt\", sep=\" \")\n",
        "test.columns=['id','label']\n",
        "\n",
        "len(test)\n",
        "\n"
      ],
      "execution_count": 14,
      "outputs": [
        {
          "output_type": "execute_result",
          "data": {
            "text/plain": [
              "1304"
            ]
          },
          "metadata": {
            "tags": []
          },
          "execution_count": 14
        }
      ]
    },
    {
      "cell_type": "code",
      "metadata": {
        "colab": {
          "base_uri": "https://localhost:8080/",
          "height": 204
        },
        "id": "tY-fOjzkX4zL",
        "outputId": "55d91d75-c034-4b12-af69-b0d41f1be975"
      },
      "source": [
        "test.head()"
      ],
      "execution_count": 15,
      "outputs": [
        {
          "output_type": "execute_result",
          "data": {
            "text/html": [
              "<div>\n",
              "<style scoped>\n",
              "    .dataframe tbody tr th:only-of-type {\n",
              "        vertical-align: middle;\n",
              "    }\n",
              "\n",
              "    .dataframe tbody tr th {\n",
              "        vertical-align: top;\n",
              "    }\n",
              "\n",
              "    .dataframe thead th {\n",
              "        text-align: right;\n",
              "    }\n",
              "</style>\n",
              "<table border=\"1\" class=\"dataframe\">\n",
              "  <thead>\n",
              "    <tr style=\"text-align: right;\">\n",
              "      <th></th>\n",
              "      <th>id</th>\n",
              "      <th>label</th>\n",
              "    </tr>\n",
              "  </thead>\n",
              "  <tbody>\n",
              "    <tr>\n",
              "      <th>0</th>\n",
              "      <td>calibrated/0640MH0002640000203781I01_DRCL.JPG</td>\n",
              "      <td>24</td>\n",
              "    </tr>\n",
              "    <tr>\n",
              "      <th>1</th>\n",
              "      <td>calibrated/0647MH0003250050203806E01_DRCL.JPG</td>\n",
              "      <td>9</td>\n",
              "    </tr>\n",
              "    <tr>\n",
              "      <th>2</th>\n",
              "      <td>calibrated/0844MR0037590000501001I01_DRCL.JPG</td>\n",
              "      <td>7</td>\n",
              "    </tr>\n",
              "    <tr>\n",
              "      <th>3</th>\n",
              "      <td>calibrated/0618MR0026460020401253I01_DRCL.JPG</td>\n",
              "      <td>11</td>\n",
              "    </tr>\n",
              "    <tr>\n",
              "      <th>4</th>\n",
              "      <td>calibrated/0605MH0003060010203269I01_DRCL.JPG</td>\n",
              "      <td>8</td>\n",
              "    </tr>\n",
              "  </tbody>\n",
              "</table>\n",
              "</div>"
            ],
            "text/plain": [
              "                                              id  label\n",
              "0  calibrated/0640MH0002640000203781I01_DRCL.JPG     24\n",
              "1  calibrated/0647MH0003250050203806E01_DRCL.JPG      9\n",
              "2  calibrated/0844MR0037590000501001I01_DRCL.JPG      7\n",
              "3  calibrated/0618MR0026460020401253I01_DRCL.JPG     11\n",
              "4  calibrated/0605MH0003060010203269I01_DRCL.JPG      8"
            ]
          },
          "metadata": {
            "tags": []
          },
          "execution_count": 15
        }
      ]
    },
    {
      "cell_type": "code",
      "metadata": {
        "id": "-swdtLlOWR1i"
      },
      "source": [
        "val = pd.read_csv(\"val-calibrated-shuffled.txt\", sep=\" \")\n",
        "val.columns=['id','label']\n"
      ],
      "execution_count": 16,
      "outputs": []
    },
    {
      "cell_type": "code",
      "metadata": {
        "colab": {
          "base_uri": "https://localhost:8080/",
          "height": 204
        },
        "id": "IegQ3DUcXzhz",
        "outputId": "2f9757e5-fedd-479a-9ff2-dd8e00f83b64"
      },
      "source": [
        "val.head()"
      ],
      "execution_count": 17,
      "outputs": [
        {
          "output_type": "execute_result",
          "data": {
            "text/html": [
              "<div>\n",
              "<style scoped>\n",
              "    .dataframe tbody tr th:only-of-type {\n",
              "        vertical-align: middle;\n",
              "    }\n",
              "\n",
              "    .dataframe tbody tr th {\n",
              "        vertical-align: top;\n",
              "    }\n",
              "\n",
              "    .dataframe thead th {\n",
              "        text-align: right;\n",
              "    }\n",
              "</style>\n",
              "<table border=\"1\" class=\"dataframe\">\n",
              "  <thead>\n",
              "    <tr style=\"text-align: right;\">\n",
              "      <th></th>\n",
              "      <th>id</th>\n",
              "      <th>label</th>\n",
              "    </tr>\n",
              "  </thead>\n",
              "  <tbody>\n",
              "    <tr>\n",
              "      <th>0</th>\n",
              "      <td>calibrated/0270MH0002530050102760I01_DRCL.JPG</td>\n",
              "      <td>5</td>\n",
              "    </tr>\n",
              "    <tr>\n",
              "      <th>1</th>\n",
              "      <td>calibrated/0549MH0002620000201566E01_DRCL.JPG</td>\n",
              "      <td>24</td>\n",
              "    </tr>\n",
              "    <tr>\n",
              "      <th>2</th>\n",
              "      <td>calibrated/0229MR0009720000202913E01_DRCL.JPG</td>\n",
              "      <td>0</td>\n",
              "    </tr>\n",
              "    <tr>\n",
              "      <th>3</th>\n",
              "      <td>calibrated/0292MH0002810020103613C00_DRCL.JPG</td>\n",
              "      <td>5</td>\n",
              "    </tr>\n",
              "    <tr>\n",
              "      <th>4</th>\n",
              "      <td>calibrated/0552MH0002620000201620I01_DRCL.JPG</td>\n",
              "      <td>24</td>\n",
              "    </tr>\n",
              "  </tbody>\n",
              "</table>\n",
              "</div>"
            ],
            "text/plain": [
              "                                              id  label\n",
              "0  calibrated/0270MH0002530050102760I01_DRCL.JPG      5\n",
              "1  calibrated/0549MH0002620000201566E01_DRCL.JPG     24\n",
              "2  calibrated/0229MR0009720000202913E01_DRCL.JPG      0\n",
              "3  calibrated/0292MH0002810020103613C00_DRCL.JPG      5\n",
              "4  calibrated/0552MH0002620000201620I01_DRCL.JPG     24"
            ]
          },
          "metadata": {
            "tags": []
          },
          "execution_count": 17
        }
      ]
    },
    {
      "cell_type": "code",
      "metadata": {
        "colab": {
          "base_uri": "https://localhost:8080/"
        },
        "id": "Oklt-6EJYjtw",
        "outputId": "58856f09-e5b5-4f2f-e33d-7ae4824fd502"
      },
      "source": [
        "len(val)"
      ],
      "execution_count": 18,
      "outputs": [
        {
          "output_type": "execute_result",
          "data": {
            "text/plain": [
              "1639"
            ]
          },
          "metadata": {
            "tags": []
          },
          "execution_count": 18
        }
      ]
    },
    {
      "cell_type": "code",
      "metadata": {
        "id": "BFxuTcGDY0ze"
      },
      "source": [
        "import os"
      ],
      "execution_count": 19,
      "outputs": []
    },
    {
      "cell_type": "code",
      "metadata": {
        "id": "xf4V1qBqm612"
      },
      "source": [
        "import numpy as np # linear algebra\n",
        "import pandas as pd # data processing, CSV file I/O (e.g. pd.read_csv)\n",
        "import os\n",
        "import torch\n",
        "import torchvision\n",
        "import tarfile\n",
        "import torchvision\n",
        "from torch.utils.data import random_split\n",
        "from torchvision.datasets import ImageFolder\n",
        "from torchvision import transforms\n",
        "from torchvision.transforms import ToTensor\n",
        "from torch.utils.data.dataloader import DataLoader\n",
        "import torch.nn as nn\n",
        "from torchvision.utils import make_grid\n",
        "import torchvision.models as models\n",
        "import torch.nn.functional as F\n",
        "import matplotlib.pyplot as plt\n",
        "%matplotlib inline"
      ],
      "execution_count": 20,
      "outputs": []
    },
    {
      "cell_type": "code",
      "metadata": {
        "colab": {
          "base_uri": "https://localhost:8080/",
          "height": 35
        },
        "id": "46nzUbjAnoKn",
        "outputId": "a4853661-51d1-4a98-c7e9-3e0521e82b6d"
      },
      "source": [
        "os.getcwd()"
      ],
      "execution_count": 21,
      "outputs": [
        {
          "output_type": "execute_result",
          "data": {
            "application/vnd.google.colaboratory.intrinsic+json": {
              "type": "string"
            },
            "text/plain": [
              "'/'"
            ]
          },
          "metadata": {
            "tags": []
          },
          "execution_count": 21
        }
      ]
    },
    {
      "cell_type": "code",
      "metadata": {
        "id": "fWpMSEsr71WK"
      },
      "source": [
        "!rm -rf /aboli"
      ],
      "execution_count": 22,
      "outputs": []
    },
    {
      "cell_type": "code",
      "metadata": {
        "id": "Bqa_hvag5ucs"
      },
      "source": [
        "!mkdir /aboli"
      ],
      "execution_count": 23,
      "outputs": []
    },
    {
      "cell_type": "code",
      "metadata": {
        "id": "PUWcBrecoLma"
      },
      "source": [
        "!mkdir /aboli/class_0\n",
        "!mkdir /aboli/class_1\n",
        "!mkdir /aboli/class_2\n",
        "!mkdir /aboli/class_3\n",
        "!mkdir /aboli/class_4\n",
        "!mkdir /aboli/class_5\n",
        "!mkdir /aboli/class_6\n",
        "!mkdir /aboli/class_7\n",
        "!mkdir /aboli/class_8\n",
        "!mkdir /aboli/class_9\n",
        "!mkdir /aboli/class_10\n",
        "!mkdir /aboli/class_11\n",
        "!mkdir /aboli/class_12\n",
        "!mkdir /aboli/class_13\n",
        "!mkdir /aboli/class_14\n",
        "!mkdir /aboli/class_15\n",
        "!mkdir /aboli/class_16\n",
        "!mkdir /aboli/class_17\n",
        "!mkdir /aboli/class_18\n",
        "!mkdir /aboli/class_19\n",
        "!mkdir /aboli/class_20\n",
        "!mkdir /aboli/class_21\n",
        "!mkdir /aboli/class_23\n",
        "!mkdir /aboli/class_24"
      ],
      "execution_count": 24,
      "outputs": []
    },
    {
      "cell_type": "code",
      "metadata": {
        "colab": {
          "base_uri": "https://localhost:8080/",
          "height": 204
        },
        "id": "TEL9A76OWzd2",
        "outputId": "e9342996-3fdf-40ef-d4bc-6c20f1816551"
      },
      "source": [
        "val.head()"
      ],
      "execution_count": 25,
      "outputs": [
        {
          "output_type": "execute_result",
          "data": {
            "text/html": [
              "<div>\n",
              "<style scoped>\n",
              "    .dataframe tbody tr th:only-of-type {\n",
              "        vertical-align: middle;\n",
              "    }\n",
              "\n",
              "    .dataframe tbody tr th {\n",
              "        vertical-align: top;\n",
              "    }\n",
              "\n",
              "    .dataframe thead th {\n",
              "        text-align: right;\n",
              "    }\n",
              "</style>\n",
              "<table border=\"1\" class=\"dataframe\">\n",
              "  <thead>\n",
              "    <tr style=\"text-align: right;\">\n",
              "      <th></th>\n",
              "      <th>id</th>\n",
              "      <th>label</th>\n",
              "    </tr>\n",
              "  </thead>\n",
              "  <tbody>\n",
              "    <tr>\n",
              "      <th>0</th>\n",
              "      <td>calibrated/0270MH0002530050102760I01_DRCL.JPG</td>\n",
              "      <td>5</td>\n",
              "    </tr>\n",
              "    <tr>\n",
              "      <th>1</th>\n",
              "      <td>calibrated/0549MH0002620000201566E01_DRCL.JPG</td>\n",
              "      <td>24</td>\n",
              "    </tr>\n",
              "    <tr>\n",
              "      <th>2</th>\n",
              "      <td>calibrated/0229MR0009720000202913E01_DRCL.JPG</td>\n",
              "      <td>0</td>\n",
              "    </tr>\n",
              "    <tr>\n",
              "      <th>3</th>\n",
              "      <td>calibrated/0292MH0002810020103613C00_DRCL.JPG</td>\n",
              "      <td>5</td>\n",
              "    </tr>\n",
              "    <tr>\n",
              "      <th>4</th>\n",
              "      <td>calibrated/0552MH0002620000201620I01_DRCL.JPG</td>\n",
              "      <td>24</td>\n",
              "    </tr>\n",
              "  </tbody>\n",
              "</table>\n",
              "</div>"
            ],
            "text/plain": [
              "                                              id  label\n",
              "0  calibrated/0270MH0002530050102760I01_DRCL.JPG      5\n",
              "1  calibrated/0549MH0002620000201566E01_DRCL.JPG     24\n",
              "2  calibrated/0229MR0009720000202913E01_DRCL.JPG      0\n",
              "3  calibrated/0292MH0002810020103613C00_DRCL.JPG      5\n",
              "4  calibrated/0552MH0002620000201620I01_DRCL.JPG     24"
            ]
          },
          "metadata": {
            "tags": []
          },
          "execution_count": 25
        }
      ]
    },
    {
      "cell_type": "code",
      "metadata": {
        "colab": {
          "base_uri": "https://localhost:8080/",
          "height": 204
        },
        "id": "5DU4RPr2oJO-",
        "outputId": "b15f1f1c-b908-41c2-f508-6cbb27ec61dd"
      },
      "source": [
        "train.head()"
      ],
      "execution_count": 26,
      "outputs": [
        {
          "output_type": "execute_result",
          "data": {
            "text/html": [
              "<div>\n",
              "<style scoped>\n",
              "    .dataframe tbody tr th:only-of-type {\n",
              "        vertical-align: middle;\n",
              "    }\n",
              "\n",
              "    .dataframe tbody tr th {\n",
              "        vertical-align: top;\n",
              "    }\n",
              "\n",
              "    .dataframe thead th {\n",
              "        text-align: right;\n",
              "    }\n",
              "</style>\n",
              "<table border=\"1\" class=\"dataframe\">\n",
              "  <thead>\n",
              "    <tr style=\"text-align: right;\">\n",
              "      <th></th>\n",
              "      <th>id</th>\n",
              "      <th>label</th>\n",
              "    </tr>\n",
              "  </thead>\n",
              "  <tbody>\n",
              "    <tr>\n",
              "      <th>0</th>\n",
              "      <td>calibrated/0077ML0005780000102730I01_DRCL.JPG</td>\n",
              "      <td>15</td>\n",
              "    </tr>\n",
              "    <tr>\n",
              "      <th>1</th>\n",
              "      <td>calibrated/0072MR0005610170103642E01_DRCL.JPG</td>\n",
              "      <td>8</td>\n",
              "    </tr>\n",
              "    <tr>\n",
              "      <th>2</th>\n",
              "      <td>calibrated/0069MR0004130000103477I01_DRCL.JPG</td>\n",
              "      <td>21</td>\n",
              "    </tr>\n",
              "    <tr>\n",
              "      <th>3</th>\n",
              "      <td>calibrated/0154ML0008510010104492E01_DRCL.JPG</td>\n",
              "      <td>8</td>\n",
              "    </tr>\n",
              "    <tr>\n",
              "      <th>4</th>\n",
              "      <td>calibrated/0019MR0000530000100138C00_DRCL.JPG</td>\n",
              "      <td>8</td>\n",
              "    </tr>\n",
              "  </tbody>\n",
              "</table>\n",
              "</div>"
            ],
            "text/plain": [
              "                                              id  label\n",
              "0  calibrated/0077ML0005780000102730I01_DRCL.JPG     15\n",
              "1  calibrated/0072MR0005610170103642E01_DRCL.JPG      8\n",
              "2  calibrated/0069MR0004130000103477I01_DRCL.JPG     21\n",
              "3  calibrated/0154ML0008510010104492E01_DRCL.JPG      8\n",
              "4  calibrated/0019MR0000530000100138C00_DRCL.JPG      8"
            ]
          },
          "metadata": {
            "tags": []
          },
          "execution_count": 26
        }
      ]
    },
    {
      "cell_type": "code",
      "metadata": {
        "id": "REg-lHpHojbH"
      },
      "source": [
        "import os,shutil\n",
        "\n",
        "x = 0\n",
        "for i in train.index:\n",
        "  try:\n",
        "    fileo = '/' + str(train.at[i,\"id\"])   \n",
        "    shutil.copy2(fileo, \"/aboli/class_\" + str(train.at[i,\"label\"]) + \"/\")\n",
        "  except:\n",
        "    print( str(train.at[i,\"id\"]))\n",
        "    \n",
        "     "
      ],
      "execution_count": 27,
      "outputs": []
    },
    {
      "cell_type": "code",
      "metadata": {
        "id": "9-S8-uj8bdFu"
      },
      "source": [
        "x = 0\n",
        "for i in test.index:\n",
        "  try:\n",
        "    fileo = '/' + str(test.at[i,\"id\"])   \n",
        "    shutil.copy2(fileo, \"/aboli/class_\" + str(test.at[i,\"label\"]) + \"/\")\n",
        "  except:\n",
        "    print( str(test.at[i,\"id\"]))\n",
        "    "
      ],
      "execution_count": 28,
      "outputs": []
    },
    {
      "cell_type": "code",
      "metadata": {
        "id": "jTTfujCNbdCy"
      },
      "source": [
        "x = 0\n",
        "for i in val.index:\n",
        "  try:\n",
        "    fileo = '/' + str(val.at[i,\"id\"])   \n",
        "    shutil.copy2(fileo, \"/aboli/class_\" + str(val.at[i,\"label\"]) + \"/\")\n",
        "  except:\n",
        "    print( str(val.at[i,\"id\"]))"
      ],
      "execution_count": 29,
      "outputs": []
    },
    {
      "cell_type": "code",
      "metadata": {
        "id": "pmDBf5HUp5-M"
      },
      "source": [
        "data_dir =\"/aboli\"\n"
      ],
      "execution_count": 30,
      "outputs": []
    },
    {
      "cell_type": "code",
      "metadata": {
        "id": "_-ao6qUlm6vH"
      },
      "source": [
        "transformer = torchvision.transforms.Compose(\n",
        "    [  # Applying Augmentation\n",
        "        torchvision.transforms.Resize((224, 224)),\n",
        "        torchvision.transforms.RandomHorizontalFlip(p=0.5),\n",
        "        torchvision.transforms.RandomVerticalFlip(p=0.5),\n",
        "        torchvision.transforms.RandomRotation(40),\n",
        "        torchvision.transforms.ToTensor(),\n",
        "        torchvision.transforms.Normalize(\n",
        "            mean=[0.4914, 0.4822, 0.4465], std=[0.2023, 0.1994, 0.2010]\n",
        "        ),\n",
        "    ]\n",
        ")\n",
        "database = ImageFolder(data_dir, transform=transformer)"
      ],
      "execution_count": 31,
      "outputs": []
    },
    {
      "cell_type": "code",
      "metadata": {
        "colab": {
          "base_uri": "https://localhost:8080/"
        },
        "id": "ZQ0ufUYSm6oh",
        "outputId": "e80557c9-ae3c-4458-96d6-481c7ba20cb1"
      },
      "source": [
        "database.classes"
      ],
      "execution_count": 32,
      "outputs": [
        {
          "output_type": "execute_result",
          "data": {
            "text/plain": [
              "['class_0',\n",
              " 'class_1',\n",
              " 'class_10',\n",
              " 'class_11',\n",
              " 'class_12',\n",
              " 'class_13',\n",
              " 'class_14',\n",
              " 'class_15',\n",
              " 'class_16',\n",
              " 'class_17',\n",
              " 'class_18',\n",
              " 'class_19',\n",
              " 'class_2',\n",
              " 'class_20',\n",
              " 'class_21',\n",
              " 'class_23',\n",
              " 'class_24',\n",
              " 'class_3',\n",
              " 'class_4',\n",
              " 'class_5',\n",
              " 'class_6',\n",
              " 'class_7',\n",
              " 'class_8',\n",
              " 'class_9']"
            ]
          },
          "metadata": {
            "tags": []
          },
          "execution_count": 32
        }
      ]
    },
    {
      "cell_type": "code",
      "metadata": {
        "id": "BGJP3JsNm6k9"
      },
      "source": [
        "flower_name_dict={'class_0':0 ,\n",
        "                  'class_1':1,\n",
        "                  'class_2':2 ,\n",
        "                  'class_3':3 ,\n",
        "                  'class_4':4,\n",
        "                  'class_5':5 ,\n",
        "                  'class_6':6,\n",
        "                  'class_7':7 ,\n",
        "                  'class_8':8 ,\n",
        "                  'class_9':9,\n",
        "                  'class_10':10 ,\n",
        "                  'class_11':11,\n",
        "                  'class_12':12 ,\n",
        "                  'class_13':13 ,\n",
        "                  'class_14':14,\n",
        "                  'class_15':15 ,\n",
        "                  'class_16':16,\n",
        "                  'class_17':17 ,\n",
        "                  'class_18':18 ,\n",
        "                  'class_19':19,\n",
        "                  'class_20':20 ,\n",
        "                  'class_21':21,\n",
        "                  'class_23':22 ,\n",
        "                  'class_24':23                  \n",
        "                  \n",
        "                  }\n",
        "\n",
        "def encode_label(img_label):\n",
        "    return flower_name_dict[img_label] "
      ],
      "execution_count": 33,
      "outputs": []
    },
    {
      "cell_type": "code",
      "metadata": {
        "id": "X9MBAGx29dG5"
      },
      "source": [
        "flower_label = {\n",
        "                  0: 'class_0',\n",
        "                  1: 'class_1',\n",
        "                  2: 'class_2' ,\n",
        "                  3: 'class_3' ,\n",
        "                  4: 'class_4',\n",
        "                  5: 'class_5' ,\n",
        "                  6: 'class_6',\n",
        "                  7: 'class_7' ,\n",
        "                  8: 'class_8' ,\n",
        "                  9: 'class_9',\n",
        "                  10: 'class_10',\n",
        "                  11: 'class_11',\n",
        "                  12: 'class_12' ,\n",
        "                  13: 'class_13' ,\n",
        "                  14: 'class_14',\n",
        "                  15: 'class_15' ,\n",
        "                  16: 'class_16',\n",
        "                  17: 'class_17' ,\n",
        "                  18: 'class_18' ,\n",
        "                  19: 'class_19',\n",
        "                  20: 'class_20' ,\n",
        "                  21: 'class_21',\n",
        "        \n",
        "                  22: 'class_23' ,\n",
        "                  23: 'class_24'   \n",
        "}"
      ],
      "execution_count": 34,
      "outputs": []
    },
    {
      "cell_type": "code",
      "metadata": {
        "id": "taRg-qm79dCy"
      },
      "source": [
        "def show_batch(dl,invert=True):\n",
        "    for images, labels in dl:\n",
        "        fig, ax = plt.subplots(figsize=(12, 6))\n",
        "        ax.set_xticks([]); ax.set_yticks([])\n",
        "        ax.imshow(make_grid(images, nrow=16).permute(1, 2, 0))\n",
        "        break\n",
        "\n",
        "def show_sample(image, label,invert=True):\n",
        "    print(\"Label :\" +database.classes[label] + \"(\" + str(label) + \")\")\n",
        "    plt.imshow(image.permute(1, 2, 0))"
      ],
      "execution_count": 35,
      "outputs": []
    },
    {
      "cell_type": "code",
      "metadata": {
        "colab": {
          "base_uri": "https://localhost:8080/"
        },
        "id": "RkCZlJYPrhIw",
        "outputId": "864dcbda-2b6d-4b2f-ece8-a5681c34f25a"
      },
      "source": [
        "ls /calibrated | wc -l"
      ],
      "execution_count": 36,
      "outputs": [
        {
          "output_type": "stream",
          "text": [
            "6737\n"
          ],
          "name": "stdout"
        }
      ]
    },
    {
      "cell_type": "code",
      "metadata": {
        "colab": {
          "base_uri": "https://localhost:8080/",
          "height": 305
        },
        "id": "2MXN4tik6ImZ",
        "outputId": "deb4f7fd-390c-4f16-9119-70a15024fbf3"
      },
      "source": [
        "show_sample(*database[1])"
      ],
      "execution_count": 37,
      "outputs": [
        {
          "output_type": "stream",
          "text": [
            "Clipping input data to the valid range for imshow with RGB data ([0..1] for floats or [0..255] for integers).\n"
          ],
          "name": "stderr"
        },
        {
          "output_type": "stream",
          "text": [
            "Label :class_0(0)\n"
          ],
          "name": "stdout"
        },
        {
          "output_type": "display_data",
          "data": {
            "image/png": "[encoded data removed]",
            "text/plain": [
              "<Figure size 432x288 with 1 Axes>"
            ]
          },
          "metadata": {
            "tags": [],
            "needs_background": "light"
          }
        }
      ]
    },
    {
      "cell_type": "code",
      "metadata": {
        "id": "qD__tnB56Iie"
      },
      "source": [
        "validation_size = 2943\n",
        "training_size = len(database) - validation_size"
      ],
      "execution_count": 38,
      "outputs": []
    },
    {
      "cell_type": "code",
      "metadata": {
        "colab": {
          "base_uri": "https://localhost:8080/"
        },
        "id": "SZ-uvVHcrREJ",
        "outputId": "73a60285-5e50-4304-bd8e-bb667ff8d8cc"
      },
      "source": [
        "train_ds, val_ds_main = random_split(database,[training_size, validation_size])\n",
        "val_ds, test_ds  = random_split(val_ds_main,[1639, 1304])\n",
        "len(train_ds), len(val_ds)"
      ],
      "execution_count": 39,
      "outputs": [
        {
          "output_type": "execute_result",
          "data": {
            "text/plain": [
              "(3746, 1639)"
            ]
          },
          "metadata": {
            "tags": []
          },
          "execution_count": 39
        }
      ]
    },
    {
      "cell_type": "code",
      "metadata": {
        "id": "Eu2MxmUqrRBD"
      },
      "source": [
        "batch_size=32"
      ],
      "execution_count": 40,
      "outputs": []
    },
    {
      "cell_type": "code",
      "metadata": {
        "id": "8F6HY5gOrQ9k"
      },
      "source": [
        "train_dl = DataLoader(train_ds, batch_size , shuffle=True)\n",
        "val_dl = DataLoader(val_ds,batch_size)\n",
        "test_dl = DataLoader(test_ds, batch_size)"
      ],
      "execution_count": 41,
      "outputs": []
    },
    {
      "cell_type": "code",
      "metadata": {
        "colab": {
          "base_uri": "https://localhost:8080/",
          "height": 142
        },
        "id": "ntKk_cc-rQ6S",
        "outputId": "ae8dd86b-76d9-428e-9c23-4fdc69bbe9bf"
      },
      "source": [
        "show_batch(train_dl,invert=True)"
      ],
      "execution_count": 42,
      "outputs": [
        {
          "output_type": "stream",
          "text": [
            "Clipping input data to the valid range for imshow with RGB data ([0..1] for floats or [0..255] for integers).\n"
          ],
          "name": "stderr"
        },
        {
          "output_type": "display_data",
          "data": {
            "image/png": "[encoded data removed]",
            "text/plain": [
              "<Figure size 864x432 with 1 Axes>"
            ]
          },
          "metadata": {
            "tags": []
          }
        }
      ]
    },
    {
      "cell_type": "code",
      "metadata": {
        "id": "YN1YRCCRr8RO"
      },
      "source": [
        "@torch.no_grad()\n",
        "def evaluate(model, val_loader):\n",
        "    model.eval()\n",
        "    outputs = [model.validation_step(batch) for batch in val_loader]\n",
        "    return model.validation_epoch_end(outputs)\n",
        "\n",
        "def fit(epochs, lr, model, train_loader, val_loader, opt_func=torch.optim.SGD):\n",
        "    history = []\n",
        "    optimizer = opt_func(model.parameters(), lr)\n",
        "    for epoch in range(epochs):\n",
        "        # Training Phase \n",
        "        model.train()\n",
        "        train_losses = []\n",
        "        for batch in train_loader:\n",
        "            loss = model.training_step(batch)\n",
        "            train_losses.append(loss)\n",
        "            loss.backward()\n",
        "            optimizer.step()\n",
        "            optimizer.zero_grad()\n",
        "        # Validation phase\n",
        "        result = evaluate(model, val_loader)\n",
        "        result['train_loss'] = torch.stack(train_losses).mean().item()\n",
        "        model.epoch_end(epoch, result)\n",
        "        history.append(result)\n",
        "    return history\n"
      ],
      "execution_count": 43,
      "outputs": []
    },
    {
      "cell_type": "code",
      "metadata": {
        "id": "Cav44shfr8N_"
      },
      "source": [
        "def get_default_device():\n",
        "    \"\"\"Pick GPU if available, else CPU\"\"\"\n",
        "    if torch.cuda.is_available():\n",
        "        return torch.device('cuda')\n",
        "    else:\n",
        "        return torch.device('cpu')\n",
        "    \n",
        "def to_device(data, device):\n",
        "    \"\"\"Move tensor(s) to chosen device\"\"\"\n",
        "    if isinstance(data, (list,tuple)):\n",
        "        return [to_device(x, device) for x in data]\n",
        "    return data.to(device, non_blocking=True)\n",
        "\n",
        "class DeviceDataLoader():\n",
        "    \"\"\"Wrap a dataloader to move data to a device\"\"\"\n",
        "    def __init__(self, dl, device):\n",
        "        self.dl = dl\n",
        "        self.device = device\n",
        "        \n",
        "    def __iter__(self):\n",
        "        \"\"\"Yield a batch of data after moving it to device\"\"\"\n",
        "        for b in self.dl: \n",
        "            yield to_device(b, self.device)\n",
        "\n",
        "    def __len__(self):\n",
        "        \"\"\"Number of batches\"\"\"\n",
        "        return len(self.dl)\n",
        "device = get_default_device()"
      ],
      "execution_count": 44,
      "outputs": []
    },
    {
      "cell_type": "code",
      "metadata": {
        "colab": {
          "base_uri": "https://localhost:8080/"
        },
        "id": "NnD5dfhUrQp0",
        "outputId": "09c3bf12-7f13-40ad-ebe9-6020393ffbce"
      },
      "source": [
        "device = get_default_device()\n",
        "device"
      ],
      "execution_count": 45,
      "outputs": [
        {
          "output_type": "execute_result",
          "data": {
            "text/plain": [
              "device(type='cpu')"
            ]
          },
          "metadata": {
            "tags": []
          },
          "execution_count": 45
        }
      ]
    },
    {
      "cell_type": "code",
      "metadata": {
        "id": "IArCwvwfkPWQ"
      },
      "source": [
        "def accuracy(outputs, labels):\n",
        "    _, preds = torch.max(outputs, dim=1)\n",
        "    return torch.tensor(torch.sum(preds == labels).item() / len(preds))\n",
        "\n",
        "class FlowerClassification(nn.Module):\n",
        "    def training_step(self, batch):\n",
        "        images, labels = batch \n",
        "        out = self(images)                  # Generate predictions\n",
        "        loss = F.cross_entropy(out, labels) # Calculate loss\n",
        "        return loss\n",
        "    \n",
        "    def validation_step(self, batch):\n",
        "        images, labels = batch \n",
        "        out = self(images)                    # Generate predictions\n",
        "        loss = F.cross_entropy(out, labels)   # Calculate loss\n",
        "        acc = accuracy(out, labels)           # Calculate accuracy\n",
        "        return {'val_loss': loss.detach(), 'val_acc': acc}\n",
        "        \n",
        "    def validation_epoch_end(self, outputs):\n",
        "        batch_losses = [x['val_loss'] for x in outputs]\n",
        "        epoch_loss = torch.stack(batch_losses).mean()   # Combine losses\n",
        "        batch_accs = [x['val_acc'] for x in outputs]\n",
        "        epoch_acc = torch.stack(batch_accs).mean()      # Combine accuracies\n",
        "        return {'val_loss': epoch_loss.item(), 'val_acc': epoch_acc.item()}\n",
        "    \n",
        "    def epoch_end(self, epoch, result):\n",
        "        print(\"Epoch [{}], train_loss: {:.4f}, val_loss: {:.4f}, val_acc: {:.4f}\".format(\n",
        "            epoch, result['train_loss'], result['val_loss'], result['val_acc']))"
      ],
      "execution_count": 46,
      "outputs": []
    },
    {
      "cell_type": "code",
      "metadata": {
        "colab": {
          "base_uri": "https://localhost:8080/"
        },
        "id": "Gx52u2R8fJWN",
        "outputId": "ab3458b3-c2ca-4284-df5d-0e674bceec9f"
      },
      "source": [
        "!pip install efficientnet_pytorch"
      ],
      "execution_count": 47,
      "outputs": [
        {
          "output_type": "stream",
          "text": [
            "Collecting efficientnet_pytorch\n",
            "  Downloading efficientnet_pytorch-0.7.1.tar.gz (21 kB)\n",
            "Requirement already satisfied: torch in /usr/local/lib/python3.7/dist-packages (from efficientnet_pytorch) (1.9.0+cu102)\n",
            "Requirement already satisfied: typing-extensions in /usr/local/lib/python3.7/dist-packages (from torch->efficientnet_pytorch) (3.7.4.3)\n",
            "Building wheels for collected packages: efficientnet-pytorch\n",
            "  Building wheel for efficientnet-pytorch (setup.py) ... \u001b[?25l\u001b[?25hdone\n",
            "  Created wheel for efficientnet-pytorch: filename=efficientnet_pytorch-0.7.1-py3-none-any.whl size=16446 sha256=6e85f055a348065e3a5cd6535271da797721858d44d6776c70b02ff28157d32d\n",
            "  Stored in directory: /root/.cache/pip/wheels/0e/cc/b2/49e74588263573ff778da58cc99b9c6349b496636a7e165be6\n",
            "Successfully built efficientnet-pytorch\n",
            "Installing collected packages: efficientnet-pytorch\n",
            "Successfully installed efficientnet-pytorch-0.7.1\n"
          ],
          "name": "stdout"
        }
      ]
    },
    {
      "cell_type": "code",
      "metadata": {
        "id": "QEshexE2kWeI"
      },
      "source": [
        "from efficientnet_pytorch import EfficientNet"
      ],
      "execution_count": 48,
      "outputs": []
    },
    {
      "cell_type": "code",
      "metadata": {
        "id": "C9y8BbSl3HFe"
      },
      "source": [
        ""
      ],
      "execution_count": 48,
      "outputs": []
    },
    {
      "cell_type": "code",
      "metadata": {
        "id": "y_LyfcQQkaU3"
      },
      "source": [
        "#new efficientnet model\n",
        "class FlowerModel18(FlowerClassification):\n",
        "\n",
        "  def __init__(self, model, num_classes=24):\n",
        "    super().__init__()\n",
        "\n",
        "    # pool layer\n",
        "    self.pool = torch.nn.Sequential(torch.nn.MaxPool2d(kernel_size=2, stride=2))\n",
        "\n",
        "    # spatial attention\n",
        "    self.spatial_attention = torch.nn.Sequential(\n",
        "        torch.nn.Conv2d(2, 1, kernel_size=7, padding=3, stride=1),\n",
        "        torch.nn.BatchNorm2d(1),\n",
        "        torch.nn.Sigmoid()\n",
        "    )\n",
        "\n",
        "    # channel attention\n",
        "    self.max_pool_1 = torch.nn.Sequential(torch.nn.MaxPool2d(kernel_size=224, stride=224))\n",
        "    self.max_pool_2 = torch.nn.Sequential(torch.nn.MaxPool2d(kernel_size=112, stride=112))\n",
        "    self.max_pool_3 = torch.nn.Sequential(torch.nn.MaxPool2d(kernel_size=56, stride=56))\n",
        "    self.max_pool_4 = torch.nn.Sequential(torch.nn.MaxPool2d(kernel_size=28, stride=28))\n",
        "    self.max_pool_5 = torch.nn.Sequential(torch.nn.MaxPool2d(kernel_size=14, stride=14))\n",
        "    self.avg_pool_1 = torch.nn.Sequential(torch.nn.AvgPool2d(kernel_size=224, stride=224))\n",
        "    self.avg_pool_2 = torch.nn.Sequential(torch.nn.AvgPool2d(kernel_size=112, stride=112))\n",
        "    self.avg_pool_3 = torch.nn.Sequential(torch.nn.AvgPool2d(kernel_size=56, stride=56))\n",
        "    self.avg_pool_4 = torch.nn.Sequential(torch.nn.AvgPool2d(kernel_size=28, stride=28))\n",
        "    self.avg_pool_5 = torch.nn.Sequential(torch.nn.AvgPool2d(kernel_size=14, stride=14))\n",
        "\n",
        "    # features\n",
        "    self.features_1 = torch.nn.Sequential(*list(model.features.children())[:3])\n",
        "    self.features_2 = torch.nn.Sequential(*list(model.features.children())[3:6])\n",
        "    self.features_3 = torch.nn.Sequential(*list(model.features.children())[7:10])\n",
        "    self.features_4 = torch.nn.Sequential(*list(model.features.children())[10:13])\n",
        "    self.features_5 = torch.nn.Sequential(*list(model.features.children())[14:17])\n",
        "    self.features_6 = torch.nn.Sequential(*list(model.features.children())[17:20])\n",
        "    self.features_7 = torch.nn.Sequential(*list(model.features.children())[20:23])\n",
        "    self.features_8 = torch.nn.Sequential(*list(model.features.children())[24:27])\n",
        "    self.features_9 = torch.nn.Sequential(*list(model.features.children())[27:30])\n",
        "    self.features_10 = torch.nn.Sequential(*list(model.features.children())[30:33])\n",
        "    self.features_11 = torch.nn.Sequential(*list(model.features.children())[34:37])\n",
        "    self.features_12 = torch.nn.Sequential(*list(model.features.children())[37:40])\n",
        "    self.features_13 = torch.nn.Sequential(*list(model.features.children())[40:43])\n",
        "\n",
        "    self.avgpool = nn.AdaptiveAvgPool2d(7)\n",
        "\n",
        "    # classifier\n",
        "    self.classifier = torch.nn.Sequential(\n",
        "        torch.nn.Linear(25088, 4096),\n",
        "        torch.nn.ReLU(inplace=True),\n",
        "        torch.nn.Dropout(),\n",
        "        torch.nn.Linear(4096, 4096),\n",
        "        torch.nn.ReLU(inplace=True),\n",
        "        torch.nn.Dropout(),\n",
        "        torch.nn.Linear(4096, 24)\n",
        "    )\n",
        "\n",
        "\n",
        "  # forward\n",
        "  def forward(self, x):\n",
        "    x = self.features_1(x)\n",
        "    scale = torch.nn.functional.sigmoid(self.max_pool_1(x) + self.avg_pool_1(x)).expand_as(x)\n",
        "    x = x * scale\n",
        "    scale = torch.cat((torch.max(x, 1)[0].unsqueeze(1), torch.mean(x, 1).unsqueeze(1)), dim=1)\n",
        "    scale = self.spatial_attention(scale)\n",
        "    x = x * scale\n",
        "\n",
        "    x = self.features_2(x)\n",
        "    scale = torch.nn.functional.sigmoid(self.max_pool_1(x) + self.avg_pool_1(x)).expand_as(x)\n",
        "    x = x * scale\n",
        "    scale = torch.cat((torch.max(x, 1)[0].unsqueeze(1), torch.mean(x, 1).unsqueeze(1)), dim=1)\n",
        "    scale = self.spatial_attention(scale)\n",
        "    x = x * scale\n",
        "    x = self.pool(x)\n",
        "\n",
        "    x = self.features_3(x)\n",
        "    scale = torch.nn.functional.sigmoid(self.max_pool_2(x) + self.avg_pool_2(x)).expand_as(x)\n",
        "    x = x * scale\n",
        "    scale = torch.cat((torch.max(x, 1)[0].unsqueeze(1), torch.mean(x, 1).unsqueeze(1)), dim=1)\n",
        "    scale = self.spatial_attention(scale)\n",
        "    x = x * scale\n",
        "\n",
        "    x = self.features_4(x)\n",
        "    scale = torch.nn.functional.sigmoid(self.max_pool_2(x) + self.avg_pool_2(x)).expand_as(x)\n",
        "    x = x * scale\n",
        "    scale = torch.cat((torch.max(x, 1)[0].unsqueeze(1), torch.mean(x, 1).unsqueeze(1)), dim=1)\n",
        "    scale = self.spatial_attention(scale)\n",
        "    x = x * scale\n",
        "    x = self.pool(x)\n",
        "\n",
        "    x = self.features_5(x)\n",
        "    scale = torch.nn.functional.sigmoid(self.max_pool_3(x) + self.avg_pool_3(x)).expand_as(x)\n",
        "    x = x * scale\n",
        "    scale = torch.cat((torch.max(x, 1)[0].unsqueeze(1), torch.mean(x, 1).unsqueeze(1)), dim=1)\n",
        "    scale = self.spatial_attention(scale)\n",
        "    x = x * scale\n",
        "\n",
        "    x = self.features_6(x)\n",
        "    scale = torch.nn.functional.sigmoid(self.max_pool_3(x) + self.avg_pool_3(x)).expand_as(x)\n",
        "    x = x * scale\n",
        "    scale = torch.cat((torch.max(x, 1)[0].unsqueeze(1), torch.mean(x, 1).unsqueeze(1)), dim=1)\n",
        "    scale = self.spatial_attention(scale)\n",
        "    x = x * scale\n",
        "\n",
        "    x = self.features_7(x)\n",
        "    scale = torch.nn.functional.sigmoid(self.max_pool_3(x) + self.avg_pool_3(x)).expand_as(x)\n",
        "    x = x * scale\n",
        "    scale = torch.cat((torch.max(x, 1)[0].unsqueeze(1), torch.mean(x, 1).unsqueeze(1)), dim=1)\n",
        "    scale = self.spatial_attention(scale)\n",
        "    x = x * scale\n",
        "    x = self.pool(x)\n",
        "\n",
        "    x = self.features_8(x)\n",
        "    scale = torch.nn.functional.sigmoid(self.max_pool_4(x) + self.avg_pool_4(x)).expand_as(x)\n",
        "    x = x * scale\n",
        "    scale = torch.cat((torch.max(x, 1)[0].unsqueeze(1), torch.mean(x, 1).unsqueeze(1)), dim=1)\n",
        "    scale = self.spatial_attention(scale)\n",
        "    x = x * scale\n",
        "\n",
        "    x = self.features_9(x)\n",
        "    scale = torch.nn.functional.sigmoid(self.max_pool_4(x) + self.avg_pool_4(x)).expand_as(x)\n",
        "    x = x * scale\n",
        "    scale = torch.cat((torch.max(x, 1)[0].unsqueeze(1), torch.mean(x, 1).unsqueeze(1)), dim=1)\n",
        "    scale = self.spatial_attention(scale)\n",
        "    x = x * scale\n",
        "\n",
        "    x = self.features_10(x)\n",
        "    scale = torch.nn.functional.sigmoid(self.max_pool_4(x) + self.avg_pool_4(x)).expand_as(x)\n",
        "    x = x * scale\n",
        "    scale = torch.cat((torch.max(x, 1)[0].unsqueeze(1), torch.mean(x, 1).unsqueeze(1)), dim=1)\n",
        "    scale = self.spatial_attention(scale)\n",
        "    x = x * scale\n",
        "    x = self.pool(x)\n",
        "\n",
        "    x = self.features_11(x)\n",
        "    scale = torch.nn.functional.sigmoid(self.max_pool_5(x) + self.avg_pool_5(x)).expand_as(x)\n",
        "    x = x * scale\n",
        "    scale = torch.cat((torch.max(x, 1)[0].unsqueeze(1), torch.mean(x, 1).unsqueeze(1)), dim=1)\n",
        "    scale = self.spatial_attention(scale)\n",
        "    x = x * scale\n",
        "\n",
        "    x = self.features_12(x)\n",
        "    scale = torch.nn.functional.sigmoid(self.max_pool_5(x) + self.avg_pool_5(x)).expand_as(x)\n",
        "    x = x * scale\n",
        "    scale = torch.cat((torch.max(x, 1)[0].unsqueeze(1), torch.mean(x, 1).unsqueeze(1)), dim=1)\n",
        "    scale = self.spatial_attention(scale)\n",
        "    x = x * scale\n",
        "\n",
        "    x = self.features_13(x)\n",
        "    scale = torch.nn.functional.sigmoid(self.max_pool_5(x) + self.avg_pool_5(x)).expand_as(x)\n",
        "    x = x * scale\n",
        "    scale = torch.cat((torch.max(x, 1)[0].unsqueeze(1), torch.mean(x, 1).unsqueeze(1)), dim=1)\n",
        "    scale = self.spatial_attention(scale)\n",
        "    x = x * scale\n",
        "    x = self.pool(x)\n",
        "\n",
        "    x = self.avgpool(x)\n",
        "    x = x.view(x.shape[0], -1)\n",
        "    x = self.classifier(x)\n",
        "    return x"
      ],
      "execution_count": 49,
      "outputs": []
    },
    {
      "cell_type": "code",
      "metadata": {
        "colab": {
          "base_uri": "https://localhost:8080/",
          "height": 83,
          "referenced_widgets": [
            "2877deaba43149c38d7d1cf4c7e2eb48",
            "4b4b16e2e1ee4c5fac3dd17bd5ee12e1",
            "005d7877e0ed428cbbae45349cb6f43b",
            "278246af045f42f089ac884e74f641e0",
            "91f88d71ddc745778325a2a20bef74ee",
            "7bb775ea760a4392bd1e4b3a37b00251",
            "7fc400bca13c43e4a814d084e52ad285",
            "3f346826748140c7843cc9a7cfef668a",
            "f307db9eed75403e83339d0c369bfe77",
            "0b9f006c5f174a468261eb9aa3544192",
            "9ac9811c82604977b388b12fcdf2d39f"
          ]
        },
        "id": "JzmQzteJkaQk",
        "outputId": "cc9300eb-b6ce-4c7f-d526-406fe7ee0342"
      },
      "source": [
        "pretrained_model = torchvision.models.vgg16_bn(pretrained=True)\n",
        "model = FlowerModel18(pretrained_model, 24)\n",
        "model.to(device)\n",
        "evaluate(model, val_dl)"
      ],
      "execution_count": 50,
      "outputs": [
        {
          "output_type": "stream",
          "text": [
            "Downloading: \"https://download.pytorch.org/models/vgg16_bn-6c64b313.pth\" to /root/.cache/torch/hub/checkpoints/vgg16_bn-6c64b313.pth\n"
          ],
          "name": "stderr"
        },
        {
          "output_type": "display_data",
          "data": {
            "application/vnd.jupyter.widget-view+json": {
              "model_id": "2877deaba43149c38d7d1cf4c7e2eb48",
              "version_minor": 0,
              "version_major": 2
            },
            "text/plain": [
              "  0%|          | 0.00/528M [00:00<?, ?B/s]"
            ]
          },
          "metadata": {
            "tags": []
          }
        },
        {
          "output_type": "execute_result",
          "data": {
            "text/plain": [
              "{'val_acc': 0.1538461595773697, 'val_loss': 3.172752857208252}"
            ]
          },
          "metadata": {
            "tags": []
          },
          "execution_count": 50
        }
      ]
    },
    {
      "cell_type": "code",
      "metadata": {
        "id": "YWaUBL_7kaNp"
      },
      "source": [
        "num_epochs = 10\n",
        "opt_func = torch.optim.Adam\n",
        "lr = 0.001"
      ],
      "execution_count": 51,
      "outputs": []
    },
    {
      "cell_type": "code",
      "metadata": {
        "colab": {
          "background_save": true
        },
        "id": "MIMyEL1EkaKK"
      },
      "source": [
        "%%time\n",
        "try3 = fit(num_epochs, lr, model, train_dl, val_dl, opt_func)"
      ],
      "execution_count": null,
      "outputs": []
    },
    {
      "cell_type": "code",
      "metadata": {
        "id": "7ZZX2t7-kaHg"
      },
      "source": [
        "evaluate(model, train_dl)"
      ],
      "execution_count": null,
      "outputs": []
    },
    {
      "cell_type": "code",
      "metadata": {
        "id": "iOT_kJBxkaD8"
      },
      "source": [
        "evaluate(model, val_dl)"
      ],
      "execution_count": null,
      "outputs": []
    },
    {
      "cell_type": "code",
      "metadata": {
        "id": "HTv8MpQmkaAg"
      },
      "source": [
        "evaluate(model, test_dl)"
      ],
      "execution_count": null,
      "outputs": []
    },
    {
      "cell_type": "code",
      "metadata": {
        "colab": {
          "base_uri": "https://localhost:8080/",
          "height": 301
        },
        "id": "gPXWU5m5kPSL",
        "outputId": "bf741610-0835-4386-e32f-b6d5efc07250"
      },
      "source": [
        "def plot_accuracies(try3):\n",
        "    accuracies = [x['val_acc'] for x in try3]\n",
        "    plt.plot(accuracies, '-x')\n",
        "    plt.xlabel('epoch')\n",
        "    plt.ylabel('accuracy')\n",
        "    plt.title('Accuracy vs. No. of epochs');\n",
        "\n",
        "plot_accuracies(try3)"
      ],
      "execution_count": null,
      "outputs": [
        {
          "output_type": "display_data",
          "data": {
            "image/png": "[encoded data removed]",
            "text/plain": [
              "<Figure size 432x288 with 1 Axes>"
            ]
          },
          "metadata": {
            "tags": []
          }
        }
      ]
    },
    {
      "cell_type": "code",
      "metadata": {
        "colab": {
          "base_uri": "https://localhost:8080/",
          "height": 301
        },
        "id": "BsIQ5qO-kLCa",
        "outputId": "832017ea-49ac-460c-89cf-7fdd2366b90c"
      },
      "source": [
        "def plot_losses(try3):\n",
        "    train_losses = [x.get('train_loss') for x in try3]\n",
        "    val_losses = [x['val_loss'] for x in try3]\n",
        "    plt.plot(train_losses, '-bx')\n",
        "    plt.plot(val_losses, '-rx')\n",
        "    plt.xlabel('epoch')\n",
        "    plt.ylabel('loss')\n",
        "    plt.legend(['Training', 'Validation'])\n",
        "    plt.title('Loss vs. No. of epochs');\n",
        "plot_losses(try3)"
      ],
      "execution_count": null,
      "outputs": [
        {
          "output_type": "display_data",
          "data": {
            "image/png": "[encoded data removed]",
            "text/plain": [
              "<Figure size 432x288 with 1 Axes>"
            ]
          },
          "metadata": {
            "tags": []
          }
        }
      ]
    },
    {
      "cell_type": "code",
      "metadata": {
        "id": "54o_ku7wkwZw"
      },
      "source": [
        "def predict_image(img, model):\n",
        "    xb = img.unsqueeze(0)\n",
        "    yb = model(xb)\n",
        "    _, preds  = torch.max(yb, dim=1)\n",
        "    return flower_label[preds[0].item()]"
      ],
      "execution_count": null,
      "outputs": []
    },
    {
      "cell_type": "code",
      "metadata": {
        "colab": {
          "base_uri": "https://localhost:8080/",
          "height": 305
        },
        "id": "PiYgpRe3kwVU",
        "outputId": "858c121f-7f39-4b83-bba8-306b5c1cb495"
      },
      "source": [
        "img, label = test_ds[17]\n",
        "plt.imshow(img[0], cmap='gray')\n",
        "print('Label:', database.classes[label], ', Predicted:', predict_image(img, FlowerModel18()))\n"
      ],
      "execution_count": null,
      "outputs": [
        {
          "output_type": "stream",
          "text": [
            "Loaded pretrained weights for efficientnet-b0\n",
            "Label: class_8 , Predicted: class_9\n"
          ],
          "name": "stdout"
        },
        {
          "output_type": "display_data",
          "data": {
            "image/png": "[encoded data removed]",
            "text/plain": [
              "<Figure size 432x288 with 1 Axes>"
            ]
          },
          "metadata": {
            "tags": []
          }
        }
      ]
    },
    {
      "cell_type": "code",
      "metadata": {
        "colab": {
          "base_uri": "https://localhost:8080/",
          "height": 305
        },
        "id": "BjpdW6gpkK-k",
        "outputId": "3633d8b6-b026-4798-e87e-ea3f91ad5b10"
      },
      "source": [
        "img, label = test_ds[10]\n",
        "plt.imshow(img[0], cmap='gray')\n",
        "print('Label:', database.classes[label], ', Predicted:', predict_image(img, FlowerModel18()))\n",
        "\n"
      ],
      "execution_count": null,
      "outputs": [
        {
          "output_type": "stream",
          "text": [
            "Loaded pretrained weights for efficientnet-b0\n",
            "Label: class_8 , Predicted: class_2\n"
          ],
          "name": "stdout"
        },
        {
          "output_type": "display_data",
          "data": {
            "image/png": "[encoded data removed]",
            "text/plain": [
              "<Figure size 432x288 with 1 Axes>"
            ]
          },
          "metadata": {
            "tags": []
          }
        }
      ]
    },
    {
      "cell_type": "code",
      "metadata": {
        "id": "bxOs0nfLk1su"
      },
      "source": [
        "torch.save(model.state_dict(), '/content/gdrive/My Drive/Space/efficientnet.pth')"
      ],
      "execution_count": null,
      "outputs": []
    },
    {
      "cell_type": "code",
      "metadata": {
        "colab": {
          "base_uri": "https://localhost:8080/"
        },
        "id": "lddGzKMMawb_",
        "outputId": "15e37171-ec21-4930-807f-d69bf4dcd2ec"
      },
      "source": [
        "from sklearn import metrics as sk_metrics\n",
        "import seaborn as sn\n",
        "from sklearn.metrics import confusion_matrix, classification_report\n",
        "\n",
        "y_pred = []\n",
        "y_valid = []\n",
        "for ind, batch in enumerate(test_dl):\n",
        "    pred_probs = model(batch[0])\n",
        "    y_pred.extend(pred_probs.argmax(axis=-1).cpu().numpy())\n",
        "    y_valid.extend(batch[1])\n",
        "\n",
        "# Calculate needed metrics\n",
        "print(f'Accuracy score on test data:\\t{sk_metrics.accuracy_score(y_valid, y_pred)}')\n",
        "print(f'Macro F1 score on test data:\\t{sk_metrics.f1_score(y_valid, y_pred, average=\"macro\")}')"
      ],
      "execution_count": null,
      "outputs": [
        {
          "output_type": "stream",
          "text": [
            "Accuracy score on test data:\t0.8895705521472392\n",
            "Macro F1 score on test data:\t0.6170568707674969\n"
          ],
          "name": "stdout"
        }
      ]
    },
    {
      "cell_type": "code",
      "metadata": {
        "colab": {
          "base_uri": "https://localhost:8080/",
          "height": 838
        },
        "id": "8QF142WSZNsw",
        "outputId": "6f642dbd-8761-4318-ef04-60950716eae0"
      },
      "source": [
        "# Calculate confusion matrix\n",
        "labels = [\"apxs\",\"apxs cal target\",\"chemcam cal target\",\"chemin inlet open\",\"drill\",\"drill holes\",\"drt front\",\"drt side\",\"ground\",\"horizon\",\"inlet\",\"mahli\",\"mahli cal target\",\"mastcam\",\"mastcam cal target\",\"observation tray\",\"portion box\",\"portion tube\",\"portion tube opening\",\"rems uv sensor\",\"rover rear deck\",\"scoop\",\"turret\",\"wheel\"]\n",
        "confusion_matrix = sk_metrics.confusion_matrix(y_valid, y_pred)\n",
        "df_confusion_matrix = pd.DataFrame(confusion_matrix,index=labels,columns=labels)\n",
        "\n",
        "# Show confusion matrix\n",
        "plt.figure(figsize=(12, 12))\n",
        "sn.heatmap(df_confusion_matrix, annot=True, cbar=False, cmap='Oranges', linewidths=1, linecolor='black')\n",
        "plt.xlabel('Predicted labels', fontsize=15)\n",
        "plt.xticks(fontsize=12)\n",
        "plt.ylabel('True labels', fontsize=15)\n",
        "plt.yticks(fontsize=12);\n"
      ],
      "execution_count": null,
      "outputs": [
        {
          "output_type": "display_data",
          "data": {
            "image/png": "[encoded data removed]",
            "text/plain": [
              "<Figure size 864x864 with 1 Axes>"
            ]
          },
          "metadata": {
            "tags": []
          }
        }
      ]
    },
    {
      "cell_type": "code",
      "metadata": {
        "colab": {
          "base_uri": "https://localhost:8080/",
          "height": 881
        },
        "id": "X_f6chR7j5yW",
        "outputId": "4391fe0c-5b59-45f4-b56c-dcadc018b2c5"
      },
      "source": [
        "cm = confusion_matrix.astype('float') / confusion_matrix.sum(axis=1)[:, np.newaxis]\n",
        "accuracies = cm.diagonal()\n",
        "list_acc =  accuracies.tolist()\n",
        "list_acc.append(0)\n",
        "list_acc.append(0)\n",
        "list_acc.append(0)\n",
        "\n",
        "report = classification_report(y_valid, y_pred,                        \n",
        "                               output_dict=True,\n",
        "                               target_names=labels)\n",
        "report_df = pd.DataFrame(report).transpose()\n",
        "report_df[\"accuracy\"] = list_acc\n",
        "pd.set_option(\"display.max_rows\", None)\n",
        "report_df.head(134)"
      ],
      "execution_count": null,
      "outputs": [
        {
          "output_type": "execute_result",
          "data": {
            "text/html": [
              "<div>\n",
              "<style scoped>\n",
              "    .dataframe tbody tr th:only-of-type {\n",
              "        vertical-align: middle;\n",
              "    }\n",
              "\n",
              "    .dataframe tbody tr th {\n",
              "        vertical-align: top;\n",
              "    }\n",
              "\n",
              "    .dataframe thead th {\n",
              "        text-align: right;\n",
              "    }\n",
              "</style>\n",
              "<table border=\"1\" class=\"dataframe\">\n",
              "  <thead>\n",
              "    <tr style=\"text-align: right;\">\n",
              "      <th></th>\n",
              "      <th>precision</th>\n",
              "      <th>recall</th>\n",
              "      <th>f1-score</th>\n",
              "      <th>support</th>\n",
              "      <th>accuracy</th>\n",
              "    </tr>\n",
              "  </thead>\n",
              "  <tbody>\n",
              "    <tr>\n",
              "      <th>apxs</th>\n",
              "      <td>1.000000</td>\n",
              "      <td>0.222222</td>\n",
              "      <td>0.363636</td>\n",
              "      <td>18.000000</td>\n",
              "      <td>0.222222</td>\n",
              "    </tr>\n",
              "    <tr>\n",
              "      <th>apxs cal target</th>\n",
              "      <td>0.000000</td>\n",
              "      <td>0.000000</td>\n",
              "      <td>0.000000</td>\n",
              "      <td>5.000000</td>\n",
              "      <td>0.000000</td>\n",
              "    </tr>\n",
              "    <tr>\n",
              "      <th>chemcam cal target</th>\n",
              "      <td>0.701493</td>\n",
              "      <td>0.886792</td>\n",
              "      <td>0.783333</td>\n",
              "      <td>53.000000</td>\n",
              "      <td>0.886792</td>\n",
              "    </tr>\n",
              "    <tr>\n",
              "      <th>chemin inlet open</th>\n",
              "      <td>0.000000</td>\n",
              "      <td>0.000000</td>\n",
              "      <td>0.000000</td>\n",
              "      <td>4.000000</td>\n",
              "      <td>0.000000</td>\n",
              "    </tr>\n",
              "    <tr>\n",
              "      <th>drill</th>\n",
              "      <td>0.894737</td>\n",
              "      <td>0.809524</td>\n",
              "      <td>0.850000</td>\n",
              "      <td>21.000000</td>\n",
              "      <td>0.809524</td>\n",
              "    </tr>\n",
              "    <tr>\n",
              "      <th>drill holes</th>\n",
              "      <td>1.000000</td>\n",
              "      <td>0.714286</td>\n",
              "      <td>0.833333</td>\n",
              "      <td>7.000000</td>\n",
              "      <td>0.714286</td>\n",
              "    </tr>\n",
              "    <tr>\n",
              "      <th>drt front</th>\n",
              "      <td>0.833333</td>\n",
              "      <td>0.892857</td>\n",
              "      <td>0.862069</td>\n",
              "      <td>28.000000</td>\n",
              "      <td>0.892857</td>\n",
              "    </tr>\n",
              "    <tr>\n",
              "      <th>drt side</th>\n",
              "      <td>0.766667</td>\n",
              "      <td>1.000000</td>\n",
              "      <td>0.867925</td>\n",
              "      <td>23.000000</td>\n",
              "      <td>1.000000</td>\n",
              "    </tr>\n",
              "    <tr>\n",
              "      <th>ground</th>\n",
              "      <td>0.440000</td>\n",
              "      <td>0.785714</td>\n",
              "      <td>0.564103</td>\n",
              "      <td>14.000000</td>\n",
              "      <td>0.785714</td>\n",
              "    </tr>\n",
              "    <tr>\n",
              "      <th>horizon</th>\n",
              "      <td>0.956522</td>\n",
              "      <td>0.814815</td>\n",
              "      <td>0.880000</td>\n",
              "      <td>27.000000</td>\n",
              "      <td>0.814815</td>\n",
              "    </tr>\n",
              "    <tr>\n",
              "      <th>inlet</th>\n",
              "      <td>0.000000</td>\n",
              "      <td>0.000000</td>\n",
              "      <td>0.000000</td>\n",
              "      <td>3.000000</td>\n",
              "      <td>0.000000</td>\n",
              "    </tr>\n",
              "    <tr>\n",
              "      <th>mahli</th>\n",
              "      <td>0.545455</td>\n",
              "      <td>0.600000</td>\n",
              "      <td>0.571429</td>\n",
              "      <td>10.000000</td>\n",
              "      <td>0.600000</td>\n",
              "    </tr>\n",
              "    <tr>\n",
              "      <th>mahli cal target</th>\n",
              "      <td>0.000000</td>\n",
              "      <td>0.000000</td>\n",
              "      <td>0.000000</td>\n",
              "      <td>3.000000</td>\n",
              "      <td>0.000000</td>\n",
              "    </tr>\n",
              "    <tr>\n",
              "      <th>mastcam</th>\n",
              "      <td>0.888889</td>\n",
              "      <td>0.615385</td>\n",
              "      <td>0.727273</td>\n",
              "      <td>13.000000</td>\n",
              "      <td>0.615385</td>\n",
              "    </tr>\n",
              "    <tr>\n",
              "      <th>mastcam cal target</th>\n",
              "      <td>0.737705</td>\n",
              "      <td>0.833333</td>\n",
              "      <td>0.782609</td>\n",
              "      <td>54.000000</td>\n",
              "      <td>0.833333</td>\n",
              "    </tr>\n",
              "    <tr>\n",
              "      <th>observation tray</th>\n",
              "      <td>1.000000</td>\n",
              "      <td>0.558824</td>\n",
              "      <td>0.716981</td>\n",
              "      <td>34.000000</td>\n",
              "      <td>0.558824</td>\n",
              "    </tr>\n",
              "    <tr>\n",
              "      <th>portion box</th>\n",
              "      <td>1.000000</td>\n",
              "      <td>0.963731</td>\n",
              "      <td>0.981530</td>\n",
              "      <td>193.000000</td>\n",
              "      <td>0.963731</td>\n",
              "    </tr>\n",
              "    <tr>\n",
              "      <th>portion tube</th>\n",
              "      <td>0.968750</td>\n",
              "      <td>0.939394</td>\n",
              "      <td>0.953846</td>\n",
              "      <td>33.000000</td>\n",
              "      <td>0.939394</td>\n",
              "    </tr>\n",
              "    <tr>\n",
              "      <th>portion tube opening</th>\n",
              "      <td>0.000000</td>\n",
              "      <td>0.000000</td>\n",
              "      <td>0.000000</td>\n",
              "      <td>7.000000</td>\n",
              "      <td>0.000000</td>\n",
              "    </tr>\n",
              "    <tr>\n",
              "      <th>rems uv sensor</th>\n",
              "      <td>1.000000</td>\n",
              "      <td>0.971698</td>\n",
              "      <td>0.985646</td>\n",
              "      <td>106.000000</td>\n",
              "      <td>0.971698</td>\n",
              "    </tr>\n",
              "    <tr>\n",
              "      <th>rover rear deck</th>\n",
              "      <td>1.000000</td>\n",
              "      <td>0.307692</td>\n",
              "      <td>0.470588</td>\n",
              "      <td>13.000000</td>\n",
              "      <td>0.307692</td>\n",
              "    </tr>\n",
              "    <tr>\n",
              "      <th>scoop</th>\n",
              "      <td>0.861111</td>\n",
              "      <td>1.000000</td>\n",
              "      <td>0.925373</td>\n",
              "      <td>31.000000</td>\n",
              "      <td>1.000000</td>\n",
              "    </tr>\n",
              "    <tr>\n",
              "      <th>turret</th>\n",
              "      <td>0.898799</td>\n",
              "      <td>0.988679</td>\n",
              "      <td>0.941599</td>\n",
              "      <td>530.000000</td>\n",
              "      <td>0.988679</td>\n",
              "    </tr>\n",
              "    <tr>\n",
              "      <th>wheel</th>\n",
              "      <td>0.859649</td>\n",
              "      <td>0.662162</td>\n",
              "      <td>0.748092</td>\n",
              "      <td>74.000000</td>\n",
              "      <td>0.662162</td>\n",
              "    </tr>\n",
              "    <tr>\n",
              "      <th>accuracy</th>\n",
              "      <td>0.889571</td>\n",
              "      <td>0.889571</td>\n",
              "      <td>0.889571</td>\n",
              "      <td>0.889571</td>\n",
              "      <td>0.000000</td>\n",
              "    </tr>\n",
              "    <tr>\n",
              "      <th>macro avg</th>\n",
              "      <td>0.681380</td>\n",
              "      <td>0.606963</td>\n",
              "      <td>0.617057</td>\n",
              "      <td>1304.000000</td>\n",
              "      <td>0.000000</td>\n",
              "    </tr>\n",
              "    <tr>\n",
              "      <th>weighted avg</th>\n",
              "      <td>0.886049</td>\n",
              "      <td>0.889571</td>\n",
              "      <td>0.877233</td>\n",
              "      <td>1304.000000</td>\n",
              "      <td>0.000000</td>\n",
              "    </tr>\n",
              "  </tbody>\n",
              "</table>\n",
              "</div>"
            ],
            "text/plain": [
              "                      precision    recall  f1-score      support  accuracy\n",
              "apxs                   1.000000  0.222222  0.363636    18.000000  0.222222\n",
              "apxs cal target        0.000000  0.000000  0.000000     5.000000  0.000000\n",
              "chemcam cal target     0.701493  0.886792  0.783333    53.000000  0.886792\n",
              "chemin inlet open      0.000000  0.000000  0.000000     4.000000  0.000000\n",
              "drill                  0.894737  0.809524  0.850000    21.000000  0.809524\n",
              "drill holes            1.000000  0.714286  0.833333     7.000000  0.714286\n",
              "drt front              0.833333  0.892857  0.862069    28.000000  0.892857\n",
              "drt side               0.766667  1.000000  0.867925    23.000000  1.000000\n",
              "ground                 0.440000  0.785714  0.564103    14.000000  0.785714\n",
              "horizon                0.956522  0.814815  0.880000    27.000000  0.814815\n",
              "inlet                  0.000000  0.000000  0.000000     3.000000  0.000000\n",
              "mahli                  0.545455  0.600000  0.571429    10.000000  0.600000\n",
              "mahli cal target       0.000000  0.000000  0.000000     3.000000  0.000000\n",
              "mastcam                0.888889  0.615385  0.727273    13.000000  0.615385\n",
              "mastcam cal target     0.737705  0.833333  0.782609    54.000000  0.833333\n",
              "observation tray       1.000000  0.558824  0.716981    34.000000  0.558824\n",
              "portion box            1.000000  0.963731  0.981530   193.000000  0.963731\n",
              "portion tube           0.968750  0.939394  0.953846    33.000000  0.939394\n",
              "portion tube opening   0.000000  0.000000  0.000000     7.000000  0.000000\n",
              "rems uv sensor         1.000000  0.971698  0.985646   106.000000  0.971698\n",
              "rover rear deck        1.000000  0.307692  0.470588    13.000000  0.307692\n",
              "scoop                  0.861111  1.000000  0.925373    31.000000  1.000000\n",
              "turret                 0.898799  0.988679  0.941599   530.000000  0.988679\n",
              "wheel                  0.859649  0.662162  0.748092    74.000000  0.662162\n",
              "accuracy               0.889571  0.889571  0.889571     0.889571  0.000000\n",
              "macro avg              0.681380  0.606963  0.617057  1304.000000  0.000000\n",
              "weighted avg           0.886049  0.889571  0.877233  1304.000000  0.000000"
            ]
          },
          "metadata": {
            "tags": []
          },
          "execution_count": 159
        }
      ]
    },
    {
      "cell_type": "code",
      "metadata": {
        "id": "97ycUXilwIf8"
      },
      "source": [
        ""
      ],
      "execution_count": null,
      "outputs": []
    }
  ]
}