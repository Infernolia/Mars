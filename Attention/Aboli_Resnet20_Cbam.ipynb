{
  "nbformat": 4,
  "nbformat_minor": 0,
  "metadata": {
    "colab": {
      "name": "Aboli_Resnet20_Cbam.ipynb",
      "provenance": [],
      "collapsed_sections": [],
      "machine_shape": "hm"
    },
    "kernelspec": {
      "display_name": "Python 3",
      "name": "python3"
    }
  },
  "cells": [
    {
      "cell_type": "code",
      "metadata": {
        "colab": {
          "base_uri": "https://localhost:8080/"
        },
        "id": "5fRlIcChWhbo",
        "outputId": "118c5864-8e52-430d-f9c0-057f227b2308"
      },
      "source": [
        "from google.colab import drive\n",
        "drive.mount('/content/gdrive')"
      ],
      "execution_count": 2,
      "outputs": [
        {
          "output_type": "stream",
          "text": [
            "Mounted at /content/gdrive\n"
          ],
          "name": "stdout"
        }
      ]
    },
    {
      "cell_type": "code",
      "metadata": {
        "id": "6H-7fyNL6ULU"
      },
      "source": [
        "!cp -RT '/content/gdrive/My Drive/Space/msl-images' /"
      ],
      "execution_count": 3,
      "outputs": []
    },
    {
      "cell_type": "code",
      "metadata": {
        "id": "zl-EYP-y-VqB"
      },
      "source": [
        "!cp -R '/content/gdrive/My Drive/Space/models' /"
      ],
      "execution_count": 4,
      "outputs": []
    },
    {
      "cell_type": "code",
      "metadata": {
        "id": "GELwGOvb6sEc"
      },
      "source": [
        "import os\n",
        "os.getcwd()\n",
        "os.chdir(\"../\")"
      ],
      "execution_count": 5,
      "outputs": []
    },
    {
      "cell_type": "code",
      "metadata": {
        "id": "hB1dSA8Z8PqS",
        "colab": {
          "base_uri": "https://localhost:8080/"
        },
        "outputId": "e9fd543e-c611-4ce2-af62-dac77a8f8a70"
      },
      "source": [
        "!pip install efficientnet_pytorch"
      ],
      "execution_count": 6,
      "outputs": [
        {
          "output_type": "stream",
          "text": [
            "Collecting efficientnet_pytorch\n",
            "  Downloading efficientnet_pytorch-0.7.1.tar.gz (21 kB)\n",
            "Requirement already satisfied: torch in /usr/local/lib/python3.7/dist-packages (from efficientnet_pytorch) (1.9.0+cu102)\n",
            "Requirement already satisfied: typing-extensions in /usr/local/lib/python3.7/dist-packages (from torch->efficientnet_pytorch) (3.7.4.3)\n",
            "Building wheels for collected packages: efficientnet-pytorch\n",
            "  Building wheel for efficientnet-pytorch (setup.py) ... \u001b[?25l\u001b[?25hdone\n",
            "  Created wheel for efficientnet-pytorch: filename=efficientnet_pytorch-0.7.1-py3-none-any.whl size=16446 sha256=d67c78ff16e4a3cd245a231db1d61ce8a86466d99bd8cc76dfd223bc437eee2a\n",
            "  Stored in directory: /root/.cache/pip/wheels/0e/cc/b2/49e74588263573ff778da58cc99b9c6349b496636a7e165be6\n",
            "Successfully built efficientnet-pytorch\n",
            "Installing collected packages: efficientnet-pytorch\n",
            "Successfully installed efficientnet-pytorch-0.7.1\n"
          ],
          "name": "stdout"
        }
      ]
    },
    {
      "cell_type": "code",
      "metadata": {
        "id": "1MMolSnW6sAg"
      },
      "source": [
        "import keras\n",
        "from keras.models import Sequential\n",
        "from keras.layers import Dense, Dropout, Flatten\n",
        "from keras.layers import Conv2D, MaxPooling2D\n",
        "from keras.preprocessing import image\n",
        "import numpy as np\n",
        "import pandas as pd\n",
        "import matplotlib.pyplot as plt\n",
        "from sklearn.model_selection import train_test_split\n",
        "from tensorflow.keras.utils import to_categorical\n",
        "from tqdm import tqdm\n",
        "from tensorflow.keras.utils import to_categorical\n",
        "# Ignore  the warnings\n",
        "import warnings\n",
        "warnings.filterwarnings('always')\n",
        "warnings.filterwarnings('ignore')\n",
        "\n",
        "# data visualisation and manipulation\n",
        "import numpy as np\n",
        "import pandas as pd\n",
        "from efficientnet_pytorch import EfficientNet\n",
        "import matplotlib.pyplot as plt\n",
        "from matplotlib import style\n",
        "import seaborn as sns\n",
        " \n",
        "#configure\n",
        "# sets matplotlib to inline and displays graphs below the corressponding cell.\n",
        "%matplotlib inline  \n",
        "style.use('fivethirtyeight')\n",
        "sns.set(style='whitegrid',color_codes=True)\n",
        "\n",
        "#model selection\n",
        "from sklearn.model_selection import train_test_split\n",
        "from sklearn.model_selection import KFold\n",
        "from sklearn.metrics import accuracy_score,precision_score,recall_score,confusion_matrix,roc_curve,roc_auc_score\n",
        "from sklearn.model_selection import GridSearchCV\n",
        "from sklearn.preprocessing import LabelEncoder\n",
        "\n",
        "#preprocess.\n",
        "from keras.preprocessing.image import ImageDataGenerator\n",
        "\n",
        "#dl libraraies\n",
        "from keras import backend as K\n",
        "from keras.models import Sequential\n",
        "from keras.layers import Dense\n",
        "from keras.optimizers import Adam,SGD,Adagrad,Adadelta,RMSprop\n",
        "\n",
        "# specifically for cnn\n",
        "from keras.layers import Dropout, Flatten,Activation\n",
        "from keras.layers import Conv2D, MaxPooling2D, BatchNormalization\n",
        " \n",
        "import tensorflow as tf\n",
        "import random as rn\n",
        "\n",
        "# specifically for manipulating zipped images and getting numpy arrays of pixel values of images.\n",
        "import cv2                  \n",
        "import numpy as np  \n",
        "from tqdm import tqdm\n",
        "import os                   \n",
        "from random import shuffle  \n",
        "from zipfile import ZipFile\n",
        "from PIL import Image\n",
        "import numpy as np # linear algebra\n",
        "import pandas as pd # data processing, CSV file I/O (e.g. pd.read_csv)\n",
        "import os\n",
        "import torch\n",
        "import torchvision\n",
        "import tarfile\n",
        "import torchvision\n",
        "from torch.utils.data import random_split\n",
        "from torchvision.datasets import ImageFolder\n",
        "from torchvision import transforms\n",
        "from torchvision.transforms import ToTensor\n",
        "from torch.utils.data.dataloader import DataLoader\n",
        "import torch.nn as nn\n",
        "from torchvision.utils import make_grid\n",
        "import torchvision.models as models\n",
        "import torch.nn.functional as F\n",
        "import matplotlib.pyplot as plt\n",
        "import os\n",
        "\n",
        "import os\n",
        "import tensorflow\n",
        "from tensorflow import keras\n",
        "from tensorflow.keras.models import Model\n",
        "from keras.layers import Input\n",
        "from keras.models import Sequential, Model\n",
        "from keras.layers import Conv2D, Dense, MaxPooling2D, Flatten, Dropout, GlobalAveragePooling2D\n",
        "from keras.preprocessing.image import ImageDataGenerator\n",
        "from models import resnet_v1, resnet_v2"
      ],
      "execution_count": 8,
      "outputs": []
    },
    {
      "cell_type": "code",
      "metadata": {
        "id": "PUmzC_Cp6r8v",
        "colab": {
          "base_uri": "https://localhost:8080/",
          "height": 204
        },
        "outputId": "da4d0374-b2b6-4b1a-82c0-ee8e32e1986c"
      },
      "source": [
        "import pandas as pd \n",
        "train = pd.read_csv(\"train-calibrated-shuffled.txt\", sep=\" \", header=None)\n",
        "train.columns=['id','label']\n",
        "train.head()"
      ],
      "execution_count": 9,
      "outputs": [
        {
          "output_type": "execute_result",
          "data": {
            "text/html": [
              "<div>\n",
              "<style scoped>\n",
              "    .dataframe tbody tr th:only-of-type {\n",
              "        vertical-align: middle;\n",
              "    }\n",
              "\n",
              "    .dataframe tbody tr th {\n",
              "        vertical-align: top;\n",
              "    }\n",
              "\n",
              "    .dataframe thead th {\n",
              "        text-align: right;\n",
              "    }\n",
              "</style>\n",
              "<table border=\"1\" class=\"dataframe\">\n",
              "  <thead>\n",
              "    <tr style=\"text-align: right;\">\n",
              "      <th></th>\n",
              "      <th>id</th>\n",
              "      <th>label</th>\n",
              "    </tr>\n",
              "  </thead>\n",
              "  <tbody>\n",
              "    <tr>\n",
              "      <th>0</th>\n",
              "      <td>calibrated/0077ML0005780000102730I01_DRCL.JPG</td>\n",
              "      <td>15</td>\n",
              "    </tr>\n",
              "    <tr>\n",
              "      <th>1</th>\n",
              "      <td>calibrated/0072MR0005610170103642E01_DRCL.JPG</td>\n",
              "      <td>8</td>\n",
              "    </tr>\n",
              "    <tr>\n",
              "      <th>2</th>\n",
              "      <td>calibrated/0069MR0004130000103477I01_DRCL.JPG</td>\n",
              "      <td>21</td>\n",
              "    </tr>\n",
              "    <tr>\n",
              "      <th>3</th>\n",
              "      <td>calibrated/0154ML0008510010104492E01_DRCL.JPG</td>\n",
              "      <td>8</td>\n",
              "    </tr>\n",
              "    <tr>\n",
              "      <th>4</th>\n",
              "      <td>calibrated/0019MR0000530000100138C00_DRCL.JPG</td>\n",
              "      <td>8</td>\n",
              "    </tr>\n",
              "  </tbody>\n",
              "</table>\n",
              "</div>"
            ],
            "text/plain": [
              "                                              id  label\n",
              "0  calibrated/0077ML0005780000102730I01_DRCL.JPG     15\n",
              "1  calibrated/0072MR0005610170103642E01_DRCL.JPG      8\n",
              "2  calibrated/0069MR0004130000103477I01_DRCL.JPG     21\n",
              "3  calibrated/0154ML0008510010104492E01_DRCL.JPG      8\n",
              "4  calibrated/0019MR0000530000100138C00_DRCL.JPG      8"
            ]
          },
          "metadata": {
            "tags": []
          },
          "execution_count": 9
        }
      ]
    },
    {
      "cell_type": "code",
      "metadata": {
        "id": "C55G3q3b6r4s",
        "colab": {
          "base_uri": "https://localhost:8080/",
          "height": 204
        },
        "outputId": "6ca6016a-41a2-4271-cb2e-af79c84ba7c4"
      },
      "source": [
        "test = pd.read_csv(\"test-calibrated-shuffled.txt\", sep=\" \")\n",
        "test.columns=['id','label']\n",
        "test.head()"
      ],
      "execution_count": 10,
      "outputs": [
        {
          "output_type": "execute_result",
          "data": {
            "text/html": [
              "<div>\n",
              "<style scoped>\n",
              "    .dataframe tbody tr th:only-of-type {\n",
              "        vertical-align: middle;\n",
              "    }\n",
              "\n",
              "    .dataframe tbody tr th {\n",
              "        vertical-align: top;\n",
              "    }\n",
              "\n",
              "    .dataframe thead th {\n",
              "        text-align: right;\n",
              "    }\n",
              "</style>\n",
              "<table border=\"1\" class=\"dataframe\">\n",
              "  <thead>\n",
              "    <tr style=\"text-align: right;\">\n",
              "      <th></th>\n",
              "      <th>id</th>\n",
              "      <th>label</th>\n",
              "    </tr>\n",
              "  </thead>\n",
              "  <tbody>\n",
              "    <tr>\n",
              "      <th>0</th>\n",
              "      <td>calibrated/0640MH0002640000203781I01_DRCL.JPG</td>\n",
              "      <td>24</td>\n",
              "    </tr>\n",
              "    <tr>\n",
              "      <th>1</th>\n",
              "      <td>calibrated/0647MH0003250050203806E01_DRCL.JPG</td>\n",
              "      <td>9</td>\n",
              "    </tr>\n",
              "    <tr>\n",
              "      <th>2</th>\n",
              "      <td>calibrated/0844MR0037590000501001I01_DRCL.JPG</td>\n",
              "      <td>7</td>\n",
              "    </tr>\n",
              "    <tr>\n",
              "      <th>3</th>\n",
              "      <td>calibrated/0618MR0026460020401253I01_DRCL.JPG</td>\n",
              "      <td>11</td>\n",
              "    </tr>\n",
              "    <tr>\n",
              "      <th>4</th>\n",
              "      <td>calibrated/0605MH0003060010203269I01_DRCL.JPG</td>\n",
              "      <td>8</td>\n",
              "    </tr>\n",
              "  </tbody>\n",
              "</table>\n",
              "</div>"
            ],
            "text/plain": [
              "                                              id  label\n",
              "0  calibrated/0640MH0002640000203781I01_DRCL.JPG     24\n",
              "1  calibrated/0647MH0003250050203806E01_DRCL.JPG      9\n",
              "2  calibrated/0844MR0037590000501001I01_DRCL.JPG      7\n",
              "3  calibrated/0618MR0026460020401253I01_DRCL.JPG     11\n",
              "4  calibrated/0605MH0003060010203269I01_DRCL.JPG      8"
            ]
          },
          "metadata": {
            "tags": []
          },
          "execution_count": 10
        }
      ]
    },
    {
      "cell_type": "code",
      "metadata": {
        "id": "vb9Rjmox6r1C",
        "colab": {
          "base_uri": "https://localhost:8080/",
          "height": 204
        },
        "outputId": "468c6fe2-b2d6-432f-addb-575cc98c6b6b"
      },
      "source": [
        "val = pd.read_csv(\"val-calibrated-shuffled.txt\", sep=\" \")\n",
        "val.columns=['id','label']\n",
        "val.head()"
      ],
      "execution_count": 11,
      "outputs": [
        {
          "output_type": "execute_result",
          "data": {
            "text/html": [
              "<div>\n",
              "<style scoped>\n",
              "    .dataframe tbody tr th:only-of-type {\n",
              "        vertical-align: middle;\n",
              "    }\n",
              "\n",
              "    .dataframe tbody tr th {\n",
              "        vertical-align: top;\n",
              "    }\n",
              "\n",
              "    .dataframe thead th {\n",
              "        text-align: right;\n",
              "    }\n",
              "</style>\n",
              "<table border=\"1\" class=\"dataframe\">\n",
              "  <thead>\n",
              "    <tr style=\"text-align: right;\">\n",
              "      <th></th>\n",
              "      <th>id</th>\n",
              "      <th>label</th>\n",
              "    </tr>\n",
              "  </thead>\n",
              "  <tbody>\n",
              "    <tr>\n",
              "      <th>0</th>\n",
              "      <td>calibrated/0270MH0002530050102760I01_DRCL.JPG</td>\n",
              "      <td>5</td>\n",
              "    </tr>\n",
              "    <tr>\n",
              "      <th>1</th>\n",
              "      <td>calibrated/0549MH0002620000201566E01_DRCL.JPG</td>\n",
              "      <td>24</td>\n",
              "    </tr>\n",
              "    <tr>\n",
              "      <th>2</th>\n",
              "      <td>calibrated/0229MR0009720000202913E01_DRCL.JPG</td>\n",
              "      <td>0</td>\n",
              "    </tr>\n",
              "    <tr>\n",
              "      <th>3</th>\n",
              "      <td>calibrated/0292MH0002810020103613C00_DRCL.JPG</td>\n",
              "      <td>5</td>\n",
              "    </tr>\n",
              "    <tr>\n",
              "      <th>4</th>\n",
              "      <td>calibrated/0552MH0002620000201620I01_DRCL.JPG</td>\n",
              "      <td>24</td>\n",
              "    </tr>\n",
              "  </tbody>\n",
              "</table>\n",
              "</div>"
            ],
            "text/plain": [
              "                                              id  label\n",
              "0  calibrated/0270MH0002530050102760I01_DRCL.JPG      5\n",
              "1  calibrated/0549MH0002620000201566E01_DRCL.JPG     24\n",
              "2  calibrated/0229MR0009720000202913E01_DRCL.JPG      0\n",
              "3  calibrated/0292MH0002810020103613C00_DRCL.JPG      5\n",
              "4  calibrated/0552MH0002620000201620I01_DRCL.JPG     24"
            ]
          },
          "metadata": {
            "tags": []
          },
          "execution_count": 11
        }
      ]
    },
    {
      "cell_type": "code",
      "metadata": {
        "id": "2e7wPMk87H45"
      },
      "source": [
        "!rm -rf /aboli\n",
        "!mkdir /aboli\n",
        "!mkdir /aboli/train\n",
        "!mkdir /aboli/test\n",
        "!mkdir /aboli/val\n",
        "!mkdir /aboli/train/class_0\n",
        "!mkdir /aboli/train/class_1\n",
        "!mkdir /aboli/train/class_2\n",
        "!mkdir /aboli/train/class_3\n",
        "!mkdir /aboli/train/class_4\n",
        "!mkdir /aboli/train/class_5\n",
        "!mkdir /aboli/train/class_6\n",
        "!mkdir /aboli/train/class_7\n",
        "!mkdir /aboli/train/class_8\n",
        "!mkdir /aboli/train/class_9\n",
        "!mkdir /aboli/train/class_10\n",
        "!mkdir /aboli/train/class_11\n",
        "!mkdir /aboli/train/class_12\n",
        "!mkdir /aboli/train/class_13\n",
        "!mkdir /aboli/train/class_14\n",
        "!mkdir /aboli/train/class_15\n",
        "!mkdir /aboli/train/class_16\n",
        "!mkdir /aboli/train/class_17\n",
        "!mkdir /aboli/train/class_18\n",
        "!mkdir /aboli/train/class_19\n",
        "!mkdir /aboli/train/class_20\n",
        "!mkdir /aboli/train/class_21\n",
        "!mkdir /aboli/train/class_23\n",
        "!mkdir /aboli/train/class_24\n",
        "!mkdir /aboli/test/class_0\n",
        "!mkdir /aboli/test/class_1\n",
        "!mkdir /aboli/test/class_2\n",
        "!mkdir /aboli/test/class_3\n",
        "!mkdir /aboli/test/class_4\n",
        "!mkdir /aboli/test/class_5\n",
        "!mkdir /aboli/test/class_6\n",
        "!mkdir /aboli/test/class_7\n",
        "!mkdir /aboli/test/class_8\n",
        "!mkdir /aboli/test/class_9\n",
        "!mkdir /aboli/test/class_10\n",
        "!mkdir /aboli/test/class_11\n",
        "!mkdir /aboli/test/class_12\n",
        "!mkdir /aboli/test/class_13\n",
        "!mkdir /aboli/test/class_14\n",
        "!mkdir /aboli/test/class_15\n",
        "!mkdir /aboli/test/class_16\n",
        "!mkdir /aboli/test/class_17\n",
        "!mkdir /aboli/test/class_18\n",
        "!mkdir /aboli/test/class_19\n",
        "!mkdir /aboli/test/class_20\n",
        "!mkdir /aboli/test/class_21\n",
        "!mkdir /aboli/test/class_23\n",
        "!mkdir /aboli/test/class_24\n",
        "!mkdir /aboli/val/class_0\n",
        "!mkdir /aboli/val/class_1\n",
        "!mkdir /aboli/val/class_2\n",
        "!mkdir /aboli/val/class_3\n",
        "!mkdir /aboli/val/class_4\n",
        "!mkdir /aboli/val/class_5\n",
        "!mkdir /aboli/val/class_6\n",
        "!mkdir /aboli/val/class_7\n",
        "!mkdir /aboli/val/class_8\n",
        "!mkdir /aboli/val/class_9\n",
        "!mkdir /aboli/val/class_10\n",
        "!mkdir /aboli/val/class_11\n",
        "!mkdir /aboli/val/class_12\n",
        "!mkdir /aboli/val/class_13\n",
        "!mkdir /aboli/val/class_14\n",
        "!mkdir /aboli/val/class_15\n",
        "!mkdir /aboli/val/class_16\n",
        "!mkdir /aboli/val/class_17\n",
        "!mkdir /aboli/val/class_18\n",
        "!mkdir /aboli/val/class_19\n",
        "!mkdir /aboli/val/class_20\n",
        "!mkdir /aboli/val/class_21\n",
        "!mkdir /aboli/val/class_23\n",
        "!mkdir /aboli/val/class_24"
      ],
      "execution_count": 7,
      "outputs": []
    },
    {
      "cell_type": "code",
      "metadata": {
        "colab": {
          "base_uri": "https://localhost:8080/"
        },
        "id": "mOqfDUuXTsdh",
        "outputId": "5fad9282-3c53-4bb6-ef4f-7160b611b1e4"
      },
      "source": [
        "import os,shutil\n",
        "\n",
        "x = 0\n",
        "\n",
        "for i in train.index:\n",
        "  try:\n",
        "    fileo = '/' + str(train.at[i,\"id\"])   \n",
        "    shutil.copy2(fileo, \"/aboli/train/class_\" + str(train.at[i,\"label\"]) + \"/\")\n",
        "  except:\n",
        "    print( str(train.at[i,\"id\"]))\n",
        "\n",
        "x = 0\n",
        "for i in test.index:\n",
        "  try:\n",
        "    fileo = '/' + str(test.at[i,\"id\"])   \n",
        "    shutil.copy2(fileo, \"/aboli/test/class_\" + str(test.at[i,\"label\"]) + \"/\")\n",
        "  except:\n",
        "    print( str(test.at[i,\"id\"]))\n",
        "\n",
        "x = 0\n",
        "for i in val.index:\n",
        "  try:\n",
        "    fileo = '/' + str(val.at[i,\"id\"])   \n",
        "    shutil.copy2(fileo, \"/aboli/val/class_\" + str(val.at[i,\"label\"]) + \"/\")\n",
        "  except:\n",
        "    print( str(val.at[i,\"id\"]))\n",
        "\n",
        "train_dir = os.path.dirname('/aboli/train/')\n",
        "test_dir = os.path.dirname('/aboli/test/')\n",
        "val_dir = os.path.dirname('/aboli/val/')\n",
        "## Generators ##\n",
        " \n",
        "train_datagen = ImageDataGenerator(\n",
        "    rescale = 1./255,\n",
        "\n",
        ")\n",
        "\n",
        "test_datagen = ImageDataGenerator(\n",
        "    rescale = 1./255,\n",
        ")\n",
        "\n",
        "val_datagen = ImageDataGenerator(\n",
        "    rescale = 1./255,\n",
        ")\n",
        "\n",
        "\n",
        "train_dataset = train_datagen.flow_from_directory(\n",
        "    train_dir,\n",
        "    #class_mode='binary',\n",
        "    class_mode='categorical',\n",
        "    batch_size = 32,\n",
        "    shuffle=True,\n",
        "    target_size = (224, 224)\n",
        ")\n",
        "\n",
        "valid_dataset = val_datagen.flow_from_directory(\n",
        "    val_dir,\n",
        "    #class_mode='binary',\n",
        "    class_mode='categorical',\n",
        "    batch_size = 32,\n",
        "    shuffle=False,\n",
        "    target_size = (224, 224)\n",
        ")\n",
        "\n",
        "test_dataset = test_datagen.flow_from_directory(\n",
        "    test_dir,\n",
        "    #class_mode='binary',\n",
        "    class_mode='categorical',\n",
        "    batch_size = 32,\n",
        "    shuffle=False,\n",
        "    target_size = (224, 224)\n",
        ")"
      ],
      "execution_count": 12,
      "outputs": [
        {
          "output_type": "stream",
          "text": [
            "Found 3746 images belonging to 24 classes.\n",
            "Found 1639 images belonging to 24 classes.\n",
            "Found 1304 images belonging to 24 classes.\n"
          ],
          "name": "stdout"
        }
      ]
    },
    {
      "cell_type": "code",
      "metadata": {
        "id": "SPour1bTEv2O"
      },
      "source": [
        "# define model\n",
        "input_shape = (224,224,3)\n",
        "depth = 20 # For ResNet, specify the depth (e.g. ResNet50: depth=50)\n",
        "num_classes = 24\n",
        "attention_module = 'cbam_block'\n",
        "model = resnet_v1.resnet_v1(input_shape=input_shape, depth=depth, num_classes=num_classes, attention_module=attention_module)\n",
        "# model = resnet_v2.resnet_v2(input_shape=input_shape, depth=depth, num_classes=num_classes, attention_module=attention_module)   \n",
        "# model = inception_v3.InceptionV3(input_shape=input_shape, classes=num_classes, attention_module=attention_module)\n",
        "\n",
        "model.summary()"
      ],
      "execution_count": null,
      "outputs": []
    },
    {
      "cell_type": "code",
      "metadata": {
        "id": "rWPKsK-vpX0a"
      },
      "source": [
        "from keras.utils.vis_utils import plot_model\n",
        "plot_model(model, to_file='model_resent20_cbam.png', show_shapes=True)"
      ],
      "execution_count": null,
      "outputs": []
    },
    {
      "cell_type": "code",
      "metadata": {
        "id": "HxIvEv3YHG9-"
      },
      "source": [
        "from keras.optimizers import SGD, Adam\n",
        "import numpy\n",
        "sgd = SGD(lr=0.0001, decay=1e-7, momentum=.9)\n",
        "adam = Adam(learning_rate=0.0001)\n",
        "model.compile(loss='categorical_crossentropy', optimizer=sgd, metrics=['accuracy'])"
      ],
      "execution_count": 16,
      "outputs": []
    },
    {
      "cell_type": "code",
      "metadata": {
        "id": "g1tJcw-P7WCS"
      },
      "source": [
        "from keras.callbacks import ReduceLROnPlateau\n",
        "from keras.callbacks import ModelCheckpoint\n",
        "from keras.callbacks import TensorBoard\n",
        "learning_rate_reduction = ReduceLROnPlateau(monitor='val_accuracy',\n",
        "                                            patience=1,\n",
        "                                            verbose=1,\n",
        "                                            factor=0.25,\n",
        "                                            min_lr=0.00001)\n",
        "logs = TensorBoard(log_dir='./logs')\n",
        "\n",
        "cb_checkpointer = ModelCheckpoint(filepath = 'resnetv1_checkpoint.h5', monitor = 'val_accuracy', save_best_only = True, mode = 'max')"
      ],
      "execution_count": 17,
      "outputs": []
    },
    {
      "cell_type": "code",
      "metadata": {
        "colab": {
          "base_uri": "https://localhost:8080/"
        },
        "id": "0_cB2UZeFaKb",
        "outputId": "27cd52a3-7837-4276-eca3-00a154e0b161"
      },
      "source": [
        "history = model.fit(train_dataset, validation_data=valid_dataset , epochs = 10, callbacks=[cb_checkpointer, learning_rate_reduction, logs])"
      ],
      "execution_count": null,
      "outputs": [
        {
          "output_type": "stream",
          "text": [
            "Epoch 1/10\n",
            " 10/118 [=>............................] - ETA: 27:15 - loss: 4.5274 - accuracy: 0.0620"
          ],
          "name": "stdout"
        }
      ]
    },
    {
      "cell_type": "code",
      "metadata": {
        "colab": {
          "base_uri": "https://localhost:8080/",
          "height": 299
        },
        "id": "okluhxizqWOE",
        "outputId": "d42579d3-04dd-45df-8e63-26779694fda4"
      },
      "source": [
        "import matplotlib.pyplot as plt\n",
        "import numpy as np\n",
        "N = np.arange(0, 10)\n",
        "plt.style.use('ggplot')\n",
        "plt.figure()\n",
        "plt.plot(N, history.history['loss'], label='train_loss')\n",
        "plt.plot(N, history.history['val_loss'], label='val_loss')\n",
        "plt.title('Training loss')\n",
        "plt.xlabel('Epoch #')\n",
        "plt.ylabel('Loss')\n",
        "plt.legend()\n",
        "plt.show()"
      ],
      "execution_count": null,
      "outputs": [
        {
          "output_type": "display_data",
          "data": {
            "image/png": "[encoded data removed]",
            "text/plain": [
              "<Figure size 432x288 with 1 Axes>"
            ]
          },
          "metadata": {
            "tags": []
          }
        }
      ]
    },
    {
      "cell_type": "code",
      "metadata": {
        "colab": {
          "base_uri": "https://localhost:8080/",
          "height": 299
        },
        "id": "GHvpAhjwvG2-",
        "outputId": "0229ca0a-a070-419e-a1b4-01cb48fba744"
      },
      "source": [
        "import matplotlib.pyplot as plt\n",
        "import numpy as np\n",
        "N = np.arange(0, 10)\n",
        "plt.style.use('ggplot')\n",
        "plt.figure()\n",
        "plt.plot(N, history.history['accuracy'], label='train_accuracy')\n",
        "plt.plot(N, history.history['val_accuracy'], label='val_accuracy')\n",
        "plt.title('Training accuracy')\n",
        "plt.xlabel('Epoch #')\n",
        "plt.ylabel('Accuracy')\n",
        "plt.legend()\n",
        "plt.show()"
      ],
      "execution_count": null,
      "outputs": [
        {
          "output_type": "display_data",
          "data": {
            "image/png": "[encoded data removed]",
            "text/plain": [
              "<Figure size 432x288 with 1 Axes>"
            ]
          },
          "metadata": {
            "tags": []
          }
        }
      ]
    },
    {
      "cell_type": "code",
      "metadata": {
        "id": "p0QBBps7sLiB"
      },
      "source": [
        "score = model.evaluate(test_dl, batch_size=32)\n",
        "print('Test Loss = ', score[0])\n",
        "print('Test Accuracy = ', score[1])"
      ],
      "execution_count": null,
      "outputs": []
    },
    {
      "cell_type": "code",
      "metadata": {
        "id": "Z6uBe4bD-m9_"
      },
      "source": [
        ""
      ],
      "execution_count": null,
      "outputs": []
    },
    {
      "cell_type": "code",
      "metadata": {
        "id": "e9I5mQHc-m6g"
      },
      "source": [
        "evaluate(model, val_dl)"
      ],
      "execution_count": null,
      "outputs": []
    },
    {
      "cell_type": "code",
      "metadata": {
        "id": "APQhQPyW-m3E"
      },
      "source": [
        "num_epochs = 10\n",
        "opt_func = torch.optim.Adam\n",
        "lr = 0.0001"
      ],
      "execution_count": null,
      "outputs": []
    },
    {
      "cell_type": "code",
      "metadata": {
        "id": "KDzaiDQ--mzG"
      },
      "source": [
        "%%time\n",
        "try3 = fit(num_epochs, lr, model, train_dl, val_dl, opt_func)"
      ],
      "execution_count": null,
      "outputs": []
    },
    {
      "cell_type": "code",
      "metadata": {
        "id": "ZjHecz_8-1DC"
      },
      "source": [
        "evaluate(model, train_dl)"
      ],
      "execution_count": null,
      "outputs": []
    },
    {
      "cell_type": "code",
      "metadata": {
        "id": "bDBnpjys-0_A"
      },
      "source": [
        "evaluate(model, val_dl)"
      ],
      "execution_count": null,
      "outputs": []
    },
    {
      "cell_type": "code",
      "metadata": {
        "id": "x0KURtLU-07o"
      },
      "source": [
        "evaluate(model, test_dl)"
      ],
      "execution_count": null,
      "outputs": []
    },
    {
      "cell_type": "code",
      "metadata": {
        "id": "nxgQ3phL-7z_"
      },
      "source": [
        "def plot_accuracies(try3):\n",
        "    accuracies = [x['val_acc'] for x in try3]\n",
        "    plt.plot(accuracies, '-x')\n",
        "    plt.xlabel('epoch')\n",
        "    plt.ylabel('accuracy')\n",
        "    plt.title('Accuracy vs. No. of epochs');\n",
        "\n",
        "plot_accuracies(try3)"
      ],
      "execution_count": null,
      "outputs": []
    },
    {
      "cell_type": "code",
      "metadata": {
        "id": "_-snIjiM-7w6"
      },
      "source": [
        "def plot_losses(try3):\n",
        "    train_losses = [x.get('train_loss') for x in try3]\n",
        "    val_losses = [x['val_loss'] for x in try3]\n",
        "    plt.plot(train_losses, '-bx')\n",
        "    plt.plot(val_losses, '-rx')\n",
        "    plt.xlabel('epoch')\n",
        "    plt.ylabel('loss')\n",
        "    plt.legend(['Training', 'Validation'])\n",
        "    plt.title('Loss vs. No. of epochs');\n",
        "plot_losses(try3)"
      ],
      "execution_count": null,
      "outputs": []
    },
    {
      "cell_type": "code",
      "metadata": {
        "id": "xYcUD_sm-7qY"
      },
      "source": [
        "from sklearn import metrics as sk_metrics\n",
        "import seaborn as sn\n",
        "from sklearn.metrics import confusion_matrix, classification_report\n",
        "\n",
        "y_pred = []\n",
        "y_valid = []\n",
        "for ind, batch in enumerate(test_dl):\n",
        "    pred_probs = model(batch[0])\n",
        "    y_pred.extend(pred_probs.argmax(axis=-1).cpu().numpy())\n",
        "    y_valid.extend(batch[1])\n",
        "\n",
        "# Calculate needed metrics\n",
        "print(f'Accuracy score on test data:\\t{sk_metrics.accuracy_score(y_valid, y_pred)}')\n",
        "print(f'Macro F1 score on test data:\\t{sk_metrics.f1_score(y_valid, y_pred, average=\"macro\")}')"
      ],
      "execution_count": null,
      "outputs": []
    },
    {
      "cell_type": "code",
      "metadata": {
        "id": "3d8FAmfB-03m"
      },
      "source": [
        "# Calculate confusion matrix\n",
        "labels = [\"apxs\",\"apxs cal target\",\"chemcam cal target\",\"chemin inlet open\",\"drill\",\"drill holes\",\"drt front\",\"drt side\",\"ground\",\"horizon\",\"inlet\",\"mahli\",\"mahli cal target\",\"mastcam\",\"mastcam cal target\",\"observation tray\",\"portion box\",\"portion tube\",\"portion tube opening\",\"rems uv sensor\",\"rover rear deck\",\"scoop\",\"turret\",\"wheel\"]\n",
        "confusion_matrix = sk_metrics.confusion_matrix(y_valid, y_pred)\n",
        "df_confusion_matrix = pd.DataFrame(confusion_matrix,index=labels,columns=labels)\n",
        "\n",
        "# Show confusion matrix\n",
        "plt.figure(figsize=(12, 12))\n",
        "sn.heatmap(df_confusion_matrix, annot=True, cbar=False, cmap='Oranges', linewidths=1, linecolor='black')\n",
        "plt.xlabel('Predicted labels', fontsize=15)\n",
        "plt.xticks(fontsize=12)\n",
        "plt.ylabel('True labels', fontsize=15)\n",
        "plt.yticks(fontsize=12);"
      ],
      "execution_count": null,
      "outputs": []
    },
    {
      "cell_type": "code",
      "metadata": {
        "id": "eVDKcKQk-0zY"
      },
      "source": [
        "cm = confusion_matrix.astype('float') / confusion_matrix.sum(axis=1)[:, np.newaxis]\n",
        "accuracies = cm.diagonal()\n",
        "list_acc =  accuracies.tolist()\n",
        "list_acc.append(0)\n",
        "list_acc.append(0)\n",
        "list_acc.append(0)\n",
        "\n",
        "report = classification_report(y_valid, y_pred,                        \n",
        "                               output_dict=True,\n",
        "                               target_names=labels)\n",
        "report_df = pd.DataFrame(report).transpose()\n",
        "report_df[\"accuracy\"] = list_acc\n",
        "pd.set_option(\"display.max_rows\", None)\n",
        "report_df.head(134)"
      ],
      "execution_count": null,
      "outputs": []
    }
  ]
}