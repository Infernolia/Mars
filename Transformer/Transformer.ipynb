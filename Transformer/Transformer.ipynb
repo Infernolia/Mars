{
  "nbformat": 4,
  "nbformat_minor": 0,
  "metadata": {
    "colab": {
      "name": "Mars_Classification_(1).ipynb",
      "provenance": [],
      "collapsed_sections": []
    },
    "kernelspec": {
      "display_name": "Python 3",
      "name": "python3"
    },
    "widgets": {
      "application/vnd.jupyter.widget-state+json": {
        "934c2e3a4b6c424ca05e837de8bd2041": {
          "model_module": "@jupyter-widgets/controls",
          "model_name": "HBoxModel",
          "state": {
            "_view_name": "HBoxView",
            "_dom_classes": [],
            "_model_name": "HBoxModel",
            "_view_module": "@jupyter-widgets/controls",
            "_model_module_version": "1.5.0",
            "_view_count": null,
            "_view_module_version": "1.5.0",
            "box_style": "",
            "layout": "IPY_MODEL_35b79d037eba4e1480e8c27bd87457cf",
            "_model_module": "@jupyter-widgets/controls",
            "children": [
              "IPY_MODEL_c596db52b2bf49e9bdb4ed10a81b7df5",
              "IPY_MODEL_1f41a328de214c128ddf4bb8d412cbcd"
            ]
          }
        },
        "35b79d037eba4e1480e8c27bd87457cf": {
          "model_module": "@jupyter-widgets/base",
          "model_name": "LayoutModel",
          "state": {
            "_view_name": "LayoutView",
            "grid_template_rows": null,
            "right": null,
            "justify_content": null,
            "_view_module": "@jupyter-widgets/base",
            "overflow": null,
            "_model_module_version": "1.2.0",
            "_view_count": null,
            "flex_flow": null,
            "width": null,
            "min_width": null,
            "border": null,
            "align_items": null,
            "bottom": null,
            "_model_module": "@jupyter-widgets/base",
            "top": null,
            "grid_column": null,
            "overflow_y": null,
            "overflow_x": null,
            "grid_auto_flow": null,
            "grid_area": null,
            "grid_template_columns": null,
            "flex": null,
            "_model_name": "LayoutModel",
            "justify_items": null,
            "grid_row": null,
            "max_height": null,
            "align_content": null,
            "visibility": null,
            "align_self": null,
            "height": null,
            "min_height": null,
            "padding": null,
            "grid_auto_rows": null,
            "grid_gap": null,
            "max_width": null,
            "order": null,
            "_view_module_version": "1.2.0",
            "grid_template_areas": null,
            "object_position": null,
            "object_fit": null,
            "grid_auto_columns": null,
            "margin": null,
            "display": null,
            "left": null
          }
        },
        "c596db52b2bf49e9bdb4ed10a81b7df5": {
          "model_module": "@jupyter-widgets/controls",
          "model_name": "FloatProgressModel",
          "state": {
            "_view_name": "ProgressView",
            "style": "IPY_MODEL_bd642ba64c204fe4adadd1f6a40d5a84",
            "_dom_classes": [],
            "description": "100%",
            "_model_name": "FloatProgressModel",
            "bar_style": "success",
            "max": 46830571,
            "_view_module": "@jupyter-widgets/controls",
            "_model_module_version": "1.5.0",
            "value": 46830571,
            "_view_count": null,
            "_view_module_version": "1.5.0",
            "orientation": "horizontal",
            "min": 0,
            "description_tooltip": null,
            "_model_module": "@jupyter-widgets/controls",
            "layout": "IPY_MODEL_fb0f949afbae426bbd3d74216cd3b5fd"
          }
        },
        "1f41a328de214c128ddf4bb8d412cbcd": {
          "model_module": "@jupyter-widgets/controls",
          "model_name": "HTMLModel",
          "state": {
            "_view_name": "HTMLView",
            "style": "IPY_MODEL_04a29d3294dd4ec9b130ffecb23bbfe7",
            "_dom_classes": [],
            "description": "",
            "_model_name": "HTMLModel",
            "placeholder": "​",
            "_view_module": "@jupyter-widgets/controls",
            "_model_module_version": "1.5.0",
            "value": " 44.7M/44.7M [6:17:26&lt;00:00, 2.07kB/s]",
            "_view_count": null,
            "_view_module_version": "1.5.0",
            "description_tooltip": null,
            "_model_module": "@jupyter-widgets/controls",
            "layout": "IPY_MODEL_81675fbc938c48a9beeba2ae8fe4e4fd"
          }
        },
        "bd642ba64c204fe4adadd1f6a40d5a84": {
          "model_module": "@jupyter-widgets/controls",
          "model_name": "ProgressStyleModel",
          "state": {
            "_view_name": "StyleView",
            "_model_name": "ProgressStyleModel",
            "description_width": "initial",
            "_view_module": "@jupyter-widgets/base",
            "_model_module_version": "1.5.0",
            "_view_count": null,
            "_view_module_version": "1.2.0",
            "bar_color": null,
            "_model_module": "@jupyter-widgets/controls"
          }
        },
        "fb0f949afbae426bbd3d74216cd3b5fd": {
          "model_module": "@jupyter-widgets/base",
          "model_name": "LayoutModel",
          "state": {
            "_view_name": "LayoutView",
            "grid_template_rows": null,
            "right": null,
            "justify_content": null,
            "_view_module": "@jupyter-widgets/base",
            "overflow": null,
            "_model_module_version": "1.2.0",
            "_view_count": null,
            "flex_flow": null,
            "width": null,
            "min_width": null,
            "border": null,
            "align_items": null,
            "bottom": null,
            "_model_module": "@jupyter-widgets/base",
            "top": null,
            "grid_column": null,
            "overflow_y": null,
            "overflow_x": null,
            "grid_auto_flow": null,
            "grid_area": null,
            "grid_template_columns": null,
            "flex": null,
            "_model_name": "LayoutModel",
            "justify_items": null,
            "grid_row": null,
            "max_height": null,
            "align_content": null,
            "visibility": null,
            "align_self": null,
            "height": null,
            "min_height": null,
            "padding": null,
            "grid_auto_rows": null,
            "grid_gap": null,
            "max_width": null,
            "order": null,
            "_view_module_version": "1.2.0",
            "grid_template_areas": null,
            "object_position": null,
            "object_fit": null,
            "grid_auto_columns": null,
            "margin": null,
            "display": null,
            "left": null
          }
        },
        "04a29d3294dd4ec9b130ffecb23bbfe7": {
          "model_module": "@jupyter-widgets/controls",
          "model_name": "DescriptionStyleModel",
          "state": {
            "_view_name": "StyleView",
            "_model_name": "DescriptionStyleModel",
            "description_width": "",
            "_view_module": "@jupyter-widgets/base",
            "_model_module_version": "1.5.0",
            "_view_count": null,
            "_view_module_version": "1.2.0",
            "_model_module": "@jupyter-widgets/controls"
          }
        },
        "81675fbc938c48a9beeba2ae8fe4e4fd": {
          "model_module": "@jupyter-widgets/base",
          "model_name": "LayoutModel",
          "state": {
            "_view_name": "LayoutView",
            "grid_template_rows": null,
            "right": null,
            "justify_content": null,
            "_view_module": "@jupyter-widgets/base",
            "overflow": null,
            "_model_module_version": "1.2.0",
            "_view_count": null,
            "flex_flow": null,
            "width": null,
            "min_width": null,
            "border": null,
            "align_items": null,
            "bottom": null,
            "_model_module": "@jupyter-widgets/base",
            "top": null,
            "grid_column": null,
            "overflow_y": null,
            "overflow_x": null,
            "grid_auto_flow": null,
            "grid_area": null,
            "grid_template_columns": null,
            "flex": null,
            "_model_name": "LayoutModel",
            "justify_items": null,
            "grid_row": null,
            "max_height": null,
            "align_content": null,
            "visibility": null,
            "align_self": null,
            "height": null,
            "min_height": null,
            "padding": null,
            "grid_auto_rows": null,
            "grid_gap": null,
            "max_width": null,
            "order": null,
            "_view_module_version": "1.2.0",
            "grid_template_areas": null,
            "object_position": null,
            "object_fit": null,
            "grid_auto_columns": null,
            "margin": null,
            "display": null,
            "left": null
          }
        }
      }
    }
  },
  "cells": [
    {
      "cell_type": "code",
      "metadata": {
        "colab": {
          "base_uri": "https://localhost:8080/"
        },
        "id": "2NTvdP85hCDj",
        "outputId": "cc766ac1-8388-4dda-d662-915c859e63e7"
      },
      "source": [
        "from google.colab import drive\n",
        "drive.mount('/content/gdrive', force_remount=True)"
      ],
      "execution_count": 1,
      "outputs": [
        {
          "output_type": "stream",
          "text": [
            "Mounted at /content/gdrive\n"
          ],
          "name": "stdout"
        }
      ]
    },
    {
      "cell_type": "code",
      "metadata": {
        "id": "o1d1s0TzhQpG"
      },
      "source": [
        "!cp -RT '/content/gdrive/My Drive/Space/msl-images' /"
      ],
      "execution_count": 2,
      "outputs": []
    },
    {
      "cell_type": "code",
      "metadata": {
        "colab": {
          "base_uri": "https://localhost:8080/",
          "height": 35
        },
        "id": "Y8xm4ZS86Aay",
        "outputId": "64d3c0a8-47cd-4c7e-c9ad-414b779d05c8"
      },
      "source": [
        "import os\n",
        "os.getcwd()\n"
      ],
      "execution_count": 3,
      "outputs": [
        {
          "output_type": "execute_result",
          "data": {
            "application/vnd.google.colaboratory.intrinsic+json": {
              "type": "string"
            },
            "text/plain": [
              "'/content'"
            ]
          },
          "metadata": {
            "tags": []
          },
          "execution_count": 3
        }
      ]
    },
    {
      "cell_type": "code",
      "metadata": {
        "id": "Gtv-DSge6Hdd"
      },
      "source": [
        "os.chdir(\"../\")"
      ],
      "execution_count": 4,
      "outputs": []
    },
    {
      "cell_type": "code",
      "metadata": {
        "id": "Sthw7FO4zysB"
      },
      "source": [
        "import keras\n",
        "from keras.models import Sequential\n",
        "from keras.layers import Dense, Dropout, Flatten\n",
        "from keras.layers import Conv2D, MaxPooling2D\n",
        "# from tensorflow.keras.utils import to_categorical\n",
        "from keras.preprocessing import image\n",
        "import numpy as np\n",
        "import pandas as pd\n",
        "import matplotlib.pyplot as plt\n",
        "from sklearn.model_selection import train_test_split\n",
        "from tensorflow.keras.utils import to_categorical\n",
        "from tqdm import tqdm"
      ],
      "execution_count": 5,
      "outputs": []
    },
    {
      "cell_type": "code",
      "metadata": {
        "colab": {
          "base_uri": "https://localhost:8080/",
          "height": 35
        },
        "id": "YJ5PqSh_8LFG",
        "outputId": "275797ab-e51c-465c-ab6e-5a71551ccd18"
      },
      "source": [
        "os.getcwd()"
      ],
      "execution_count": 6,
      "outputs": [
        {
          "output_type": "execute_result",
          "data": {
            "application/vnd.google.colaboratory.intrinsic+json": {
              "type": "string"
            },
            "text/plain": [
              "'/'"
            ]
          },
          "metadata": {
            "tags": []
          },
          "execution_count": 6
        }
      ]
    },
    {
      "cell_type": "code",
      "metadata": {
        "id": "I00YfpPOY90t"
      },
      "source": [
        "os.chdir('../')"
      ],
      "execution_count": 7,
      "outputs": []
    },
    {
      "cell_type": "code",
      "metadata": {
        "id": "6xQJJoof8nZn"
      },
      "source": [
        "# Ignore  the warnings\n",
        "import warnings\n",
        "warnings.filterwarnings('always')\n",
        "warnings.filterwarnings('ignore')\n",
        "\n",
        "# data visualisation and manipulation\n",
        "import numpy as np\n",
        "import pandas as pd\n",
        "import matplotlib.pyplot as plt\n",
        "from matplotlib import style\n",
        "import seaborn as sns\n",
        " \n",
        "#configure\n",
        "# sets matplotlib to inline and displays graphs below the corressponding cell.\n",
        "%matplotlib inline  \n",
        "style.use('fivethirtyeight')\n",
        "sns.set(style='whitegrid',color_codes=True)\n",
        "\n",
        "#model selection\n",
        "from sklearn.model_selection import train_test_split\n",
        "from sklearn.model_selection import KFold\n",
        "from sklearn.metrics import accuracy_score,precision_score,recall_score,confusion_matrix,roc_curve,roc_auc_score\n",
        "from sklearn.model_selection import GridSearchCV\n",
        "from sklearn.preprocessing import LabelEncoder\n",
        "\n",
        "#preprocess.\n",
        "from keras.preprocessing.image import ImageDataGenerator\n",
        "\n",
        "#dl libraraies\n",
        "from keras import backend as K\n",
        "from keras.models import Sequential\n",
        "from keras.layers import Dense\n",
        "from keras.optimizers import Adam,SGD,Adagrad,Adadelta,RMSprop\n",
        "from tensorflow.keras.utils import to_categorical\n",
        "\n",
        "# specifically for cnn\n",
        "from keras.layers import Dropout, Flatten,Activation\n",
        "from keras.layers import Conv2D, MaxPooling2D, BatchNormalization\n",
        " \n",
        "import tensorflow as tf\n",
        "import random as rn\n",
        "\n",
        "# specifically for manipulating zipped images and getting numpy arrays of pixel values of images.\n",
        "import cv2                  \n",
        "import numpy as np  \n",
        "from tqdm import tqdm\n",
        "import os                   \n",
        "from random import shuffle  \n",
        "from zipfile import ZipFile\n",
        "from PIL import Image"
      ],
      "execution_count": 8,
      "outputs": []
    },
    {
      "cell_type": "code",
      "metadata": {
        "id": "mfUBxVyhhQld"
      },
      "source": [
        "import pandas as pd \n",
        "train = pd.read_csv(\"train-calibrated-shuffled.txt\", sep=\" \", header=None)"
      ],
      "execution_count": 9,
      "outputs": []
    },
    {
      "cell_type": "code",
      "metadata": {
        "colab": {
          "base_uri": "https://localhost:8080/",
          "height": 204
        },
        "id": "nWq00Uh56NyF",
        "outputId": "52f411e9-6ce8-4617-fde6-ab5e17a225b8"
      },
      "source": [
        "train.head()"
      ],
      "execution_count": 10,
      "outputs": [
        {
          "output_type": "execute_result",
          "data": {
            "text/html": [
              "<div>\n",
              "<style scoped>\n",
              "    .dataframe tbody tr th:only-of-type {\n",
              "        vertical-align: middle;\n",
              "    }\n",
              "\n",
              "    .dataframe tbody tr th {\n",
              "        vertical-align: top;\n",
              "    }\n",
              "\n",
              "    .dataframe thead th {\n",
              "        text-align: right;\n",
              "    }\n",
              "</style>\n",
              "<table border=\"1\" class=\"dataframe\">\n",
              "  <thead>\n",
              "    <tr style=\"text-align: right;\">\n",
              "      <th></th>\n",
              "      <th>0</th>\n",
              "      <th>1</th>\n",
              "    </tr>\n",
              "  </thead>\n",
              "  <tbody>\n",
              "    <tr>\n",
              "      <th>0</th>\n",
              "      <td>calibrated/0077ML0005780000102730I01_DRCL.JPG</td>\n",
              "      <td>15</td>\n",
              "    </tr>\n",
              "    <tr>\n",
              "      <th>1</th>\n",
              "      <td>calibrated/0072MR0005610170103642E01_DRCL.JPG</td>\n",
              "      <td>8</td>\n",
              "    </tr>\n",
              "    <tr>\n",
              "      <th>2</th>\n",
              "      <td>calibrated/0069MR0004130000103477I01_DRCL.JPG</td>\n",
              "      <td>21</td>\n",
              "    </tr>\n",
              "    <tr>\n",
              "      <th>3</th>\n",
              "      <td>calibrated/0154ML0008510010104492E01_DRCL.JPG</td>\n",
              "      <td>8</td>\n",
              "    </tr>\n",
              "    <tr>\n",
              "      <th>4</th>\n",
              "      <td>calibrated/0019MR0000530000100138C00_DRCL.JPG</td>\n",
              "      <td>8</td>\n",
              "    </tr>\n",
              "  </tbody>\n",
              "</table>\n",
              "</div>"
            ],
            "text/plain": [
              "                                               0   1\n",
              "0  calibrated/0077ML0005780000102730I01_DRCL.JPG  15\n",
              "1  calibrated/0072MR0005610170103642E01_DRCL.JPG   8\n",
              "2  calibrated/0069MR0004130000103477I01_DRCL.JPG  21\n",
              "3  calibrated/0154ML0008510010104492E01_DRCL.JPG   8\n",
              "4  calibrated/0019MR0000530000100138C00_DRCL.JPG   8"
            ]
          },
          "metadata": {
            "tags": []
          },
          "execution_count": 10
        }
      ]
    },
    {
      "cell_type": "code",
      "metadata": {
        "colab": {
          "base_uri": "https://localhost:8080/"
        },
        "id": "6H2j4VqlYR0r",
        "outputId": "cf6a70f6-d51d-4808-808c-ef2bcd773c10"
      },
      "source": [
        "len(train)"
      ],
      "execution_count": 11,
      "outputs": [
        {
          "output_type": "execute_result",
          "data": {
            "text/plain": [
              "3746"
            ]
          },
          "metadata": {
            "tags": []
          },
          "execution_count": 11
        }
      ]
    },
    {
      "cell_type": "code",
      "metadata": {
        "colab": {
          "base_uri": "https://localhost:8080/",
          "height": 204
        },
        "id": "0Hpn2VnrhQiY",
        "outputId": "70461bc5-7a41-43b7-fecd-c0293a4a27a5"
      },
      "source": [
        "train.columns=['id','label']\n",
        "train.head()"
      ],
      "execution_count": 12,
      "outputs": [
        {
          "output_type": "execute_result",
          "data": {
            "text/html": [
              "<div>\n",
              "<style scoped>\n",
              "    .dataframe tbody tr th:only-of-type {\n",
              "        vertical-align: middle;\n",
              "    }\n",
              "\n",
              "    .dataframe tbody tr th {\n",
              "        vertical-align: top;\n",
              "    }\n",
              "\n",
              "    .dataframe thead th {\n",
              "        text-align: right;\n",
              "    }\n",
              "</style>\n",
              "<table border=\"1\" class=\"dataframe\">\n",
              "  <thead>\n",
              "    <tr style=\"text-align: right;\">\n",
              "      <th></th>\n",
              "      <th>id</th>\n",
              "      <th>label</th>\n",
              "    </tr>\n",
              "  </thead>\n",
              "  <tbody>\n",
              "    <tr>\n",
              "      <th>0</th>\n",
              "      <td>calibrated/0077ML0005780000102730I01_DRCL.JPG</td>\n",
              "      <td>15</td>\n",
              "    </tr>\n",
              "    <tr>\n",
              "      <th>1</th>\n",
              "      <td>calibrated/0072MR0005610170103642E01_DRCL.JPG</td>\n",
              "      <td>8</td>\n",
              "    </tr>\n",
              "    <tr>\n",
              "      <th>2</th>\n",
              "      <td>calibrated/0069MR0004130000103477I01_DRCL.JPG</td>\n",
              "      <td>21</td>\n",
              "    </tr>\n",
              "    <tr>\n",
              "      <th>3</th>\n",
              "      <td>calibrated/0154ML0008510010104492E01_DRCL.JPG</td>\n",
              "      <td>8</td>\n",
              "    </tr>\n",
              "    <tr>\n",
              "      <th>4</th>\n",
              "      <td>calibrated/0019MR0000530000100138C00_DRCL.JPG</td>\n",
              "      <td>8</td>\n",
              "    </tr>\n",
              "  </tbody>\n",
              "</table>\n",
              "</div>"
            ],
            "text/plain": [
              "                                              id  label\n",
              "0  calibrated/0077ML0005780000102730I01_DRCL.JPG     15\n",
              "1  calibrated/0072MR0005610170103642E01_DRCL.JPG      8\n",
              "2  calibrated/0069MR0004130000103477I01_DRCL.JPG     21\n",
              "3  calibrated/0154ML0008510010104492E01_DRCL.JPG      8\n",
              "4  calibrated/0019MR0000530000100138C00_DRCL.JPG      8"
            ]
          },
          "metadata": {
            "tags": []
          },
          "execution_count": 12
        }
      ]
    },
    {
      "cell_type": "code",
      "metadata": {
        "colab": {
          "base_uri": "https://localhost:8080/"
        },
        "id": "N1PM0nCIFiT5",
        "outputId": "0b4a0f5a-8294-4bf9-930b-cf0779d04608"
      },
      "source": [
        "test = pd.read_csv(\"test-calibrated-shuffled.txt\", sep=\" \")\n",
        "test.columns=['id','label']\n",
        "\n",
        "len(test)\n",
        "\n"
      ],
      "execution_count": 13,
      "outputs": [
        {
          "output_type": "execute_result",
          "data": {
            "text/plain": [
              "1304"
            ]
          },
          "metadata": {
            "tags": []
          },
          "execution_count": 13
        }
      ]
    },
    {
      "cell_type": "code",
      "metadata": {
        "colab": {
          "base_uri": "https://localhost:8080/",
          "height": 204
        },
        "id": "tY-fOjzkX4zL",
        "outputId": "0128c2e1-047c-435f-de1d-8ac52f130a4a"
      },
      "source": [
        "test.head()"
      ],
      "execution_count": 14,
      "outputs": [
        {
          "output_type": "execute_result",
          "data": {
            "text/html": [
              "<div>\n",
              "<style scoped>\n",
              "    .dataframe tbody tr th:only-of-type {\n",
              "        vertical-align: middle;\n",
              "    }\n",
              "\n",
              "    .dataframe tbody tr th {\n",
              "        vertical-align: top;\n",
              "    }\n",
              "\n",
              "    .dataframe thead th {\n",
              "        text-align: right;\n",
              "    }\n",
              "</style>\n",
              "<table border=\"1\" class=\"dataframe\">\n",
              "  <thead>\n",
              "    <tr style=\"text-align: right;\">\n",
              "      <th></th>\n",
              "      <th>id</th>\n",
              "      <th>label</th>\n",
              "    </tr>\n",
              "  </thead>\n",
              "  <tbody>\n",
              "    <tr>\n",
              "      <th>0</th>\n",
              "      <td>calibrated/0640MH0002640000203781I01_DRCL.JPG</td>\n",
              "      <td>24</td>\n",
              "    </tr>\n",
              "    <tr>\n",
              "      <th>1</th>\n",
              "      <td>calibrated/0647MH0003250050203806E01_DRCL.JPG</td>\n",
              "      <td>9</td>\n",
              "    </tr>\n",
              "    <tr>\n",
              "      <th>2</th>\n",
              "      <td>calibrated/0844MR0037590000501001I01_DRCL.JPG</td>\n",
              "      <td>7</td>\n",
              "    </tr>\n",
              "    <tr>\n",
              "      <th>3</th>\n",
              "      <td>calibrated/0618MR0026460020401253I01_DRCL.JPG</td>\n",
              "      <td>11</td>\n",
              "    </tr>\n",
              "    <tr>\n",
              "      <th>4</th>\n",
              "      <td>calibrated/0605MH0003060010203269I01_DRCL.JPG</td>\n",
              "      <td>8</td>\n",
              "    </tr>\n",
              "  </tbody>\n",
              "</table>\n",
              "</div>"
            ],
            "text/plain": [
              "                                              id  label\n",
              "0  calibrated/0640MH0002640000203781I01_DRCL.JPG     24\n",
              "1  calibrated/0647MH0003250050203806E01_DRCL.JPG      9\n",
              "2  calibrated/0844MR0037590000501001I01_DRCL.JPG      7\n",
              "3  calibrated/0618MR0026460020401253I01_DRCL.JPG     11\n",
              "4  calibrated/0605MH0003060010203269I01_DRCL.JPG      8"
            ]
          },
          "metadata": {
            "tags": []
          },
          "execution_count": 14
        }
      ]
    },
    {
      "cell_type": "code",
      "metadata": {
        "id": "-swdtLlOWR1i"
      },
      "source": [
        "val = pd.read_csv(\"val-calibrated-shuffled.txt\", sep=\" \")\n",
        "val.columns=['id','label']\n"
      ],
      "execution_count": 15,
      "outputs": []
    },
    {
      "cell_type": "code",
      "metadata": {
        "colab": {
          "base_uri": "https://localhost:8080/",
          "height": 204
        },
        "id": "IegQ3DUcXzhz",
        "outputId": "bba302ca-3060-4450-db52-adf4476536c1"
      },
      "source": [
        "val.head()"
      ],
      "execution_count": 16,
      "outputs": [
        {
          "output_type": "execute_result",
          "data": {
            "text/html": [
              "<div>\n",
              "<style scoped>\n",
              "    .dataframe tbody tr th:only-of-type {\n",
              "        vertical-align: middle;\n",
              "    }\n",
              "\n",
              "    .dataframe tbody tr th {\n",
              "        vertical-align: top;\n",
              "    }\n",
              "\n",
              "    .dataframe thead th {\n",
              "        text-align: right;\n",
              "    }\n",
              "</style>\n",
              "<table border=\"1\" class=\"dataframe\">\n",
              "  <thead>\n",
              "    <tr style=\"text-align: right;\">\n",
              "      <th></th>\n",
              "      <th>id</th>\n",
              "      <th>label</th>\n",
              "    </tr>\n",
              "  </thead>\n",
              "  <tbody>\n",
              "    <tr>\n",
              "      <th>0</th>\n",
              "      <td>calibrated/0270MH0002530050102760I01_DRCL.JPG</td>\n",
              "      <td>5</td>\n",
              "    </tr>\n",
              "    <tr>\n",
              "      <th>1</th>\n",
              "      <td>calibrated/0549MH0002620000201566E01_DRCL.JPG</td>\n",
              "      <td>24</td>\n",
              "    </tr>\n",
              "    <tr>\n",
              "      <th>2</th>\n",
              "      <td>calibrated/0229MR0009720000202913E01_DRCL.JPG</td>\n",
              "      <td>0</td>\n",
              "    </tr>\n",
              "    <tr>\n",
              "      <th>3</th>\n",
              "      <td>calibrated/0292MH0002810020103613C00_DRCL.JPG</td>\n",
              "      <td>5</td>\n",
              "    </tr>\n",
              "    <tr>\n",
              "      <th>4</th>\n",
              "      <td>calibrated/0552MH0002620000201620I01_DRCL.JPG</td>\n",
              "      <td>24</td>\n",
              "    </tr>\n",
              "  </tbody>\n",
              "</table>\n",
              "</div>"
            ],
            "text/plain": [
              "                                              id  label\n",
              "0  calibrated/0270MH0002530050102760I01_DRCL.JPG      5\n",
              "1  calibrated/0549MH0002620000201566E01_DRCL.JPG     24\n",
              "2  calibrated/0229MR0009720000202913E01_DRCL.JPG      0\n",
              "3  calibrated/0292MH0002810020103613C00_DRCL.JPG      5\n",
              "4  calibrated/0552MH0002620000201620I01_DRCL.JPG     24"
            ]
          },
          "metadata": {
            "tags": []
          },
          "execution_count": 16
        }
      ]
    },
    {
      "cell_type": "code",
      "metadata": {
        "colab": {
          "base_uri": "https://localhost:8080/"
        },
        "id": "Oklt-6EJYjtw",
        "outputId": "ae16acaf-b30f-4ccf-a9e4-eb9876871017"
      },
      "source": [
        "len(val)"
      ],
      "execution_count": 17,
      "outputs": [
        {
          "output_type": "execute_result",
          "data": {
            "text/plain": [
              "1639"
            ]
          },
          "metadata": {
            "tags": []
          },
          "execution_count": 17
        }
      ]
    },
    {
      "cell_type": "code",
      "metadata": {
        "id": "BFxuTcGDY0ze"
      },
      "source": [
        "import os"
      ],
      "execution_count": 18,
      "outputs": []
    },
    {
      "cell_type": "code",
      "metadata": {
        "id": "xf4V1qBqm612"
      },
      "source": [
        "import numpy as np # linear algebra\n",
        "import pandas as pd # data processing, CSV file I/O (e.g. pd.read_csv)\n",
        "import os\n",
        "import torch\n",
        "import torchvision\n",
        "import tarfile\n",
        "import torchvision\n",
        "import torchvision.transforms as transforms\n",
        "from torch.utils.data import random_split\n",
        "from torchvision.datasets import ImageFolder\n",
        "from torchvision import transforms\n",
        "from torchvision.transforms import ToTensor\n",
        "from torch.utils.data.dataloader import DataLoader\n",
        "import torch.nn as nn\n",
        "from torchvision.utils import make_grid\n",
        "import torchvision.models as models\n",
        "import torch.nn.functional as F\n",
        "import matplotlib.pyplot as plt\n",
        "%matplotlib inline"
      ],
      "execution_count": 19,
      "outputs": []
    },
    {
      "cell_type": "code",
      "metadata": {
        "id": "sCUPpyltm6x-"
      },
      "source": [
        ""
      ],
      "execution_count": 19,
      "outputs": []
    },
    {
      "cell_type": "code",
      "metadata": {
        "colab": {
          "base_uri": "https://localhost:8080/",
          "height": 35
        },
        "id": "46nzUbjAnoKn",
        "outputId": "498db65c-9b32-48bf-c1f6-52281e83371c"
      },
      "source": [
        "os.getcwd()"
      ],
      "execution_count": 20,
      "outputs": [
        {
          "output_type": "execute_result",
          "data": {
            "application/vnd.google.colaboratory.intrinsic+json": {
              "type": "string"
            },
            "text/plain": [
              "'/'"
            ]
          },
          "metadata": {
            "tags": []
          },
          "execution_count": 20
        }
      ]
    },
    {
      "cell_type": "code",
      "metadata": {
        "id": "fWpMSEsr71WK"
      },
      "source": [
        "!rm -rf /aboli"
      ],
      "execution_count": 21,
      "outputs": []
    },
    {
      "cell_type": "code",
      "metadata": {
        "id": "Bqa_hvag5ucs"
      },
      "source": [
        "!mkdir /aboli"
      ],
      "execution_count": 22,
      "outputs": []
    },
    {
      "cell_type": "code",
      "metadata": {
        "id": "PUWcBrecoLma"
      },
      "source": [
        "!mkdir /aboli/class_0\n",
        "!mkdir /aboli/class_1\n",
        "!mkdir /aboli/class_2\n",
        "!mkdir /aboli/class_3\n",
        "!mkdir /aboli/class_4\n",
        "!mkdir /aboli/class_5\n",
        "!mkdir /aboli/class_6\n",
        "!mkdir /aboli/class_7\n",
        "!mkdir /aboli/class_8\n",
        "!mkdir /aboli/class_9\n",
        "!mkdir /aboli/class_10\n",
        "!mkdir /aboli/class_11\n",
        "!mkdir /aboli/class_12\n",
        "!mkdir /aboli/class_13\n",
        "!mkdir /aboli/class_14\n",
        "!mkdir /aboli/class_15\n",
        "!mkdir /aboli/class_16\n",
        "!mkdir /aboli/class_17\n",
        "!mkdir /aboli/class_18\n",
        "!mkdir /aboli/class_19\n",
        "!mkdir /aboli/class_20\n",
        "!mkdir /aboli/class_21\n",
        "!mkdir /aboli/class_23\n",
        "!mkdir /aboli/class_24"
      ],
      "execution_count": 23,
      "outputs": []
    },
    {
      "cell_type": "code",
      "metadata": {
        "colab": {
          "base_uri": "https://localhost:8080/",
          "height": 204
        },
        "id": "TEL9A76OWzd2",
        "outputId": "e0aab383-4bc5-46ad-fcdd-470cb5d1590d"
      },
      "source": [
        "val.head()"
      ],
      "execution_count": 24,
      "outputs": [
        {
          "output_type": "execute_result",
          "data": {
            "text/html": [
              "<div>\n",
              "<style scoped>\n",
              "    .dataframe tbody tr th:only-of-type {\n",
              "        vertical-align: middle;\n",
              "    }\n",
              "\n",
              "    .dataframe tbody tr th {\n",
              "        vertical-align: top;\n",
              "    }\n",
              "\n",
              "    .dataframe thead th {\n",
              "        text-align: right;\n",
              "    }\n",
              "</style>\n",
              "<table border=\"1\" class=\"dataframe\">\n",
              "  <thead>\n",
              "    <tr style=\"text-align: right;\">\n",
              "      <th></th>\n",
              "      <th>id</th>\n",
              "      <th>label</th>\n",
              "    </tr>\n",
              "  </thead>\n",
              "  <tbody>\n",
              "    <tr>\n",
              "      <th>0</th>\n",
              "      <td>calibrated/0270MH0002530050102760I01_DRCL.JPG</td>\n",
              "      <td>5</td>\n",
              "    </tr>\n",
              "    <tr>\n",
              "      <th>1</th>\n",
              "      <td>calibrated/0549MH0002620000201566E01_DRCL.JPG</td>\n",
              "      <td>24</td>\n",
              "    </tr>\n",
              "    <tr>\n",
              "      <th>2</th>\n",
              "      <td>calibrated/0229MR0009720000202913E01_DRCL.JPG</td>\n",
              "      <td>0</td>\n",
              "    </tr>\n",
              "    <tr>\n",
              "      <th>3</th>\n",
              "      <td>calibrated/0292MH0002810020103613C00_DRCL.JPG</td>\n",
              "      <td>5</td>\n",
              "    </tr>\n",
              "    <tr>\n",
              "      <th>4</th>\n",
              "      <td>calibrated/0552MH0002620000201620I01_DRCL.JPG</td>\n",
              "      <td>24</td>\n",
              "    </tr>\n",
              "  </tbody>\n",
              "</table>\n",
              "</div>"
            ],
            "text/plain": [
              "                                              id  label\n",
              "0  calibrated/0270MH0002530050102760I01_DRCL.JPG      5\n",
              "1  calibrated/0549MH0002620000201566E01_DRCL.JPG     24\n",
              "2  calibrated/0229MR0009720000202913E01_DRCL.JPG      0\n",
              "3  calibrated/0292MH0002810020103613C00_DRCL.JPG      5\n",
              "4  calibrated/0552MH0002620000201620I01_DRCL.JPG     24"
            ]
          },
          "metadata": {
            "tags": []
          },
          "execution_count": 24
        }
      ]
    },
    {
      "cell_type": "code",
      "metadata": {
        "colab": {
          "base_uri": "https://localhost:8080/",
          "height": 204
        },
        "id": "5DU4RPr2oJO-",
        "outputId": "38ef6d72-8407-4aaa-8981-eb840b89b5bd"
      },
      "source": [
        "train.head()"
      ],
      "execution_count": 25,
      "outputs": [
        {
          "output_type": "execute_result",
          "data": {
            "text/html": [
              "<div>\n",
              "<style scoped>\n",
              "    .dataframe tbody tr th:only-of-type {\n",
              "        vertical-align: middle;\n",
              "    }\n",
              "\n",
              "    .dataframe tbody tr th {\n",
              "        vertical-align: top;\n",
              "    }\n",
              "\n",
              "    .dataframe thead th {\n",
              "        text-align: right;\n",
              "    }\n",
              "</style>\n",
              "<table border=\"1\" class=\"dataframe\">\n",
              "  <thead>\n",
              "    <tr style=\"text-align: right;\">\n",
              "      <th></th>\n",
              "      <th>id</th>\n",
              "      <th>label</th>\n",
              "    </tr>\n",
              "  </thead>\n",
              "  <tbody>\n",
              "    <tr>\n",
              "      <th>0</th>\n",
              "      <td>calibrated/0077ML0005780000102730I01_DRCL.JPG</td>\n",
              "      <td>15</td>\n",
              "    </tr>\n",
              "    <tr>\n",
              "      <th>1</th>\n",
              "      <td>calibrated/0072MR0005610170103642E01_DRCL.JPG</td>\n",
              "      <td>8</td>\n",
              "    </tr>\n",
              "    <tr>\n",
              "      <th>2</th>\n",
              "      <td>calibrated/0069MR0004130000103477I01_DRCL.JPG</td>\n",
              "      <td>21</td>\n",
              "    </tr>\n",
              "    <tr>\n",
              "      <th>3</th>\n",
              "      <td>calibrated/0154ML0008510010104492E01_DRCL.JPG</td>\n",
              "      <td>8</td>\n",
              "    </tr>\n",
              "    <tr>\n",
              "      <th>4</th>\n",
              "      <td>calibrated/0019MR0000530000100138C00_DRCL.JPG</td>\n",
              "      <td>8</td>\n",
              "    </tr>\n",
              "  </tbody>\n",
              "</table>\n",
              "</div>"
            ],
            "text/plain": [
              "                                              id  label\n",
              "0  calibrated/0077ML0005780000102730I01_DRCL.JPG     15\n",
              "1  calibrated/0072MR0005610170103642E01_DRCL.JPG      8\n",
              "2  calibrated/0069MR0004130000103477I01_DRCL.JPG     21\n",
              "3  calibrated/0154ML0008510010104492E01_DRCL.JPG      8\n",
              "4  calibrated/0019MR0000530000100138C00_DRCL.JPG      8"
            ]
          },
          "metadata": {
            "tags": []
          },
          "execution_count": 25
        }
      ]
    },
    {
      "cell_type": "code",
      "metadata": {
        "id": "REg-lHpHojbH"
      },
      "source": [
        "import os,shutil\n",
        "\n",
        "x = 0\n",
        "for i in train.index:\n",
        "  try:\n",
        "    fileo = '/' + str(train.at[i,\"id\"])   \n",
        "    shutil.copy2(fileo, \"/aboli/class_\" + str(train.at[i,\"label\"]) + \"/\")\n",
        "  except:\n",
        "    print( str(train.at[i,\"id\"]))\n",
        "    \n",
        "     "
      ],
      "execution_count": 26,
      "outputs": []
    },
    {
      "cell_type": "code",
      "metadata": {
        "id": "9-S8-uj8bdFu"
      },
      "source": [
        "x = 0\n",
        "for i in test.index:\n",
        "  try:\n",
        "    fileo = '/' + str(test.at[i,\"id\"])   \n",
        "    shutil.copy2(fileo, \"/aboli/class_\" + str(test.at[i,\"label\"]) + \"/\")\n",
        "  except:\n",
        "    print( str(test.at[i,\"id\"]))\n",
        "    "
      ],
      "execution_count": 27,
      "outputs": []
    },
    {
      "cell_type": "code",
      "metadata": {
        "id": "jTTfujCNbdCy"
      },
      "source": [
        "x = 0\n",
        "for i in val.index:\n",
        "  try:\n",
        "    fileo = '/' + str(val.at[i,\"id\"])   \n",
        "    shutil.copy2(fileo, \"/aboli/class_\" + str(val.at[i,\"label\"]) + \"/\")\n",
        "  except:\n",
        "    print( str(val.at[i,\"id\"]))"
      ],
      "execution_count": 28,
      "outputs": []
    },
    {
      "cell_type": "code",
      "metadata": {
        "id": "pmDBf5HUp5-M"
      },
      "source": [
        "data_dir =\"/aboli\"\n"
      ],
      "execution_count": 29,
      "outputs": []
    },
    {
      "cell_type": "code",
      "metadata": {
        "id": "_-ao6qUlm6vH"
      },
      "source": [
        "transformer = torchvision.transforms.Compose(\n",
        "    [  # Applying Augmentation\n",
        "        torchvision.transforms.Resize((224, 224)),\n",
        "        torchvision.transforms.RandomHorizontalFlip(p=0.5),\n",
        "        torchvision.transforms.RandomVerticalFlip(p=0.5),\n",
        "        torchvision.transforms.RandomRotation(40),\n",
        "        torchvision.transforms.ToTensor(),\n",
        "        torchvision.transforms.Normalize(\n",
        "            mean=[0.4914, 0.4822, 0.4465], std=[0.2023, 0.1994, 0.2010]\n",
        "        ),\n",
        "    ]\n",
        ")\n",
        "database = ImageFolder(data_dir, transform=transformer)"
      ],
      "execution_count": 30,
      "outputs": []
    },
    {
      "cell_type": "code",
      "metadata": {
        "colab": {
          "base_uri": "https://localhost:8080/"
        },
        "id": "ZQ0ufUYSm6oh",
        "outputId": "273161b6-daf4-4d70-8a0b-e77b0abc3032"
      },
      "source": [
        "database.classes"
      ],
      "execution_count": 31,
      "outputs": [
        {
          "output_type": "execute_result",
          "data": {
            "text/plain": [
              "['class_0',\n",
              " 'class_1',\n",
              " 'class_10',\n",
              " 'class_11',\n",
              " 'class_12',\n",
              " 'class_13',\n",
              " 'class_14',\n",
              " 'class_15',\n",
              " 'class_16',\n",
              " 'class_17',\n",
              " 'class_18',\n",
              " 'class_19',\n",
              " 'class_2',\n",
              " 'class_20',\n",
              " 'class_21',\n",
              " 'class_23',\n",
              " 'class_24',\n",
              " 'class_3',\n",
              " 'class_4',\n",
              " 'class_5',\n",
              " 'class_6',\n",
              " 'class_7',\n",
              " 'class_8',\n",
              " 'class_9']"
            ]
          },
          "metadata": {
            "tags": []
          },
          "execution_count": 31
        }
      ]
    },
    {
      "cell_type": "code",
      "metadata": {
        "id": "BGJP3JsNm6k9"
      },
      "source": [
        "flower_name_dict={'class_0':0 ,\n",
        "                  'class_1':1,\n",
        "                  'class_2':2 ,\n",
        "                  'class_3':3 ,\n",
        "                  'class_4':4,\n",
        "                  'class_5':5 ,\n",
        "                  'class_6':6,\n",
        "                  'class_7':7 ,\n",
        "                  'class_8':8 ,\n",
        "                  'class_9':9,\n",
        "                  'class_10':10 ,\n",
        "                  'class_11':11,\n",
        "                  'class_12':12 ,\n",
        "                  'class_13':13 ,\n",
        "                  'class_14':14,\n",
        "                  'class_15':15 ,\n",
        "                  'class_16':16,\n",
        "                  'class_17':17 ,\n",
        "                  'class_18':18 ,\n",
        "                  'class_19':19,\n",
        "                  'class_20':20 ,\n",
        "                  'class_21':21,\n",
        "                  'class_23':22 ,\n",
        "                  'class_24':23                  \n",
        "                  \n",
        "                  }\n",
        "\n",
        "def encode_label(img_label):\n",
        "    return flower_name_dict[img_label] "
      ],
      "execution_count": 32,
      "outputs": []
    },
    {
      "cell_type": "code",
      "metadata": {
        "id": "X9MBAGx29dG5"
      },
      "source": [
        "flower_label = {\n",
        "                  0: 'class_0',\n",
        "                  1: 'class_1',\n",
        "                  2: 'class_2' ,\n",
        "                  3: 'class_3' ,\n",
        "                  4: 'class_4',\n",
        "                  5: 'class_5' ,\n",
        "                  6: 'class_6',\n",
        "                  7: 'class_7' ,\n",
        "                  8: 'class_8' ,\n",
        "                  9: 'class_9',\n",
        "                  10: 'class_10',\n",
        "                  11: 'class_11',\n",
        "                  12: 'class_12' ,\n",
        "                  13: 'class_13' ,\n",
        "                  14: 'class_14',\n",
        "                  15: 'class_15' ,\n",
        "                  16: 'class_16',\n",
        "                  17: 'class_17' ,\n",
        "                  18: 'class_18' ,\n",
        "                  19: 'class_19',\n",
        "                  20: 'class_20' ,\n",
        "                  21: 'class_21',\n",
        "        \n",
        "                  22: 'class_23' ,\n",
        "                  23: 'class_24'   \n",
        "}"
      ],
      "execution_count": 33,
      "outputs": []
    },
    {
      "cell_type": "code",
      "metadata": {
        "id": "taRg-qm79dCy"
      },
      "source": [
        "def show_batch(dl,invert=True):\n",
        "    for images, labels in dl:\n",
        "        fig, ax = plt.subplots(figsize=(12, 6))\n",
        "        ax.set_xticks([]); ax.set_yticks([])\n",
        "        ax.imshow(make_grid(images, nrow=16).permute(1, 2, 0))\n",
        "        break\n",
        "\n",
        "def show_sample(image, label,invert=True):\n",
        "    print(\"Label :\" +database.classes[label] + \"(\" + str(label) + \")\")\n",
        "    plt.imshow(image.permute(1, 2, 0))"
      ],
      "execution_count": 34,
      "outputs": []
    },
    {
      "cell_type": "code",
      "metadata": {
        "colab": {
          "base_uri": "https://localhost:8080/"
        },
        "id": "RkCZlJYPrhIw",
        "outputId": "513d97fb-b8f5-4c08-ad39-a97eb4b2ee69"
      },
      "source": [
        "ls /calibrated | wc -l"
      ],
      "execution_count": 35,
      "outputs": [
        {
          "output_type": "stream",
          "text": [
            "6752\n"
          ],
          "name": "stdout"
        }
      ]
    },
    {
      "cell_type": "code",
      "metadata": {
        "colab": {
          "base_uri": "https://localhost:8080/",
          "height": 305
        },
        "id": "2MXN4tik6ImZ",
        "outputId": "5349d8ac-6f63-4433-9701-3e63ce57ab2b"
      },
      "source": [
        "show_sample(*database[1])"
      ],
      "execution_count": 36,
      "outputs": [
        {
          "output_type": "stream",
          "text": [
            "Clipping input data to the valid range for imshow with RGB data ([0..1] for floats or [0..255] for integers).\n"
          ],
          "name": "stderr"
        },
        {
          "output_type": "stream",
          "text": [
            "Label :class_0(0)\n"
          ],
          "name": "stdout"
        },
        {
          "output_type": "display_data",
          "data": {
            "image/png": "[encoded data removed]",
            "text/plain": [
              "<Figure size 432x288 with 1 Axes>"
            ]
          },
          "metadata": {
            "tags": [],
            "needs_background": "light"
          }
        }
      ]
    },
    {
      "cell_type": "code",
      "metadata": {
        "id": "qD__tnB56Iie"
      },
      "source": [
        "validation_size = 2943\n",
        "training_size = len(database) - validation_size"
      ],
      "execution_count": 37,
      "outputs": []
    },
    {
      "cell_type": "code",
      "metadata": {
        "colab": {
          "base_uri": "https://localhost:8080/"
        },
        "id": "SZ-uvVHcrREJ",
        "outputId": "7cfdb2d0-924a-408d-c276-56193594c46b"
      },
      "source": [
        "train_ds, val_ds_main = random_split(database,[training_size, validation_size])\n",
        "val_ds, test_ds  = random_split(val_ds_main,[1639, 1304])\n",
        "len(train_ds), len(val_ds)"
      ],
      "execution_count": 38,
      "outputs": [
        {
          "output_type": "execute_result",
          "data": {
            "text/plain": [
              "(3746, 1639)"
            ]
          },
          "metadata": {
            "tags": []
          },
          "execution_count": 38
        }
      ]
    },
    {
      "cell_type": "code",
      "metadata": {
        "id": "Eu2MxmUqrRBD"
      },
      "source": [
        "batch_size=32"
      ],
      "execution_count": 39,
      "outputs": []
    },
    {
      "cell_type": "code",
      "metadata": {
        "id": "8F6HY5gOrQ9k"
      },
      "source": [
        "train_dl = DataLoader(train_ds, batch_size , shuffle=True)\n",
        "val_dl = DataLoader(val_ds,batch_size)\n",
        "test_dl = DataLoader(test_ds, batch_size)"
      ],
      "execution_count": 40,
      "outputs": []
    },
    {
      "cell_type": "code",
      "metadata": {
        "colab": {
          "base_uri": "https://localhost:8080/",
          "height": 142
        },
        "id": "ntKk_cc-rQ6S",
        "outputId": "e1bd0037-20cf-45f8-dc57-ff8db19b4ce7"
      },
      "source": [
        "show_batch(train_dl,invert=True)"
      ],
      "execution_count": 41,
      "outputs": [
        {
          "output_type": "stream",
          "text": [
            "Clipping input data to the valid range for imshow with RGB data ([0..1] for floats or [0..255] for integers).\n"
          ],
          "name": "stderr"
        },
        {
          "output_type": "display_data",
          "data": {
            "image/png": "[encoded data removed]",
            "text/plain": [
              "<Figure size 864x432 with 1 Axes>"
            ]
          },
          "metadata": {
            "tags": []
          }
        }
      ]
    },
    {
      "cell_type": "code",
      "metadata": {
        "id": "-TyJnlEmrQ3P"
      },
      "source": [
        "def accuracy(outputs, labels):\n",
        "    _, preds = torch.max(outputs, dim=1)\n",
        "    return torch.tensor(torch.sum(preds == labels).item() / len(preds))\n",
        "\n",
        "class ImageClassification(nn.Module):\n",
        "    def training_step(self, batch):\n",
        "        images, labels = batch \n",
        "        out = self(images)                  # Generate predictions\n",
        "        loss = F.cross_entropy(out, labels) # Calculate loss\n",
        "        return loss\n",
        "    \n",
        "    def validation_step(self, batch):\n",
        "        images, labels = batch \n",
        "        out = self(images)                    # Generate predictions\n",
        "        loss = F.cross_entropy(out, labels)   # Calculate loss\n",
        "        acc = accuracy(out, labels)           # Calculate accuracy\n",
        "        return {'val_loss': loss.detach(), 'val_acc': acc}\n",
        "        \n",
        "    def validation_epoch_end(self, outputs):\n",
        "        batch_losses = [x['val_loss'] for x in outputs]\n",
        "        epoch_loss = torch.stack(batch_losses).mean()   # Combine losses\n",
        "        batch_accs = [x['val_acc'] for x in outputs]\n",
        "        epoch_acc = torch.stack(batch_accs).mean()      # Combine accuracies\n",
        "        return {'val_loss': epoch_loss.item(), 'val_acc': epoch_acc.item()}\n",
        "    \n",
        "    def epoch_end(self, epoch, result):\n",
        "        print(\"Epoch [{}], train_loss: {:.4f}, val_loss: {:.4f}, val_acc: {:.4f}\".format(\n",
        "            epoch, result['train_loss'], result['val_loss'], result['val_acc']))"
      ],
      "execution_count": 42,
      "outputs": []
    },
    {
      "cell_type": "code",
      "metadata": {
        "id": "iFkXoXSYrQzb",
        "colab": {
          "base_uri": "https://localhost:8080/"
        },
        "outputId": "84bb46d8-3090-47ae-bc0d-3b70b0b8510c"
      },
      "source": [
        "!pip install timm\n",
        "import timm\n",
        "class FlowerModel(ImageClassification):\n",
        "    def __init__(self, n_classes, pretrained=False):\n",
        "\n",
        "        super(FlowerModel, self).__init__()\n",
        "\n",
        "        self.model = timm.create_model(\"vit_base_patch16_224\", pretrained=True)\n",
        "        # if pretrained:\n",
        "        #     self.model.load_state_dict(torch.load(MODEL_PATH))\n",
        "\n",
        "        self.model.head = nn.Linear(self.model.head.in_features, n_classes)\n",
        "        \n",
        "    def forward(self, xb):\n",
        "        return self.model(xb)"
      ],
      "execution_count": 43,
      "outputs": [
        {
          "output_type": "stream",
          "text": [
            "Collecting timm\n",
            "  Downloading timm-0.4.12-py3-none-any.whl (376 kB)\n",
            "\u001b[?25l\r\u001b[K     |▉                               | 10 kB 26.2 MB/s eta 0:00:01\r\u001b[K     |█▊                              | 20 kB 29.9 MB/s eta 0:00:01\r\u001b[K     |██▋                             | 30 kB 11.7 MB/s eta 0:00:01\r\u001b[K     |███▌                            | 40 kB 9.0 MB/s eta 0:00:01\r\u001b[K     |████▍                           | 51 kB 5.1 MB/s eta 0:00:01\r\u001b[K     |█████▏                          | 61 kB 5.3 MB/s eta 0:00:01\r\u001b[K     |██████                          | 71 kB 5.7 MB/s eta 0:00:01\r\u001b[K     |███████                         | 81 kB 6.2 MB/s eta 0:00:01\r\u001b[K     |███████▉                        | 92 kB 4.6 MB/s eta 0:00:01\r\u001b[K     |████████▊                       | 102 kB 5.1 MB/s eta 0:00:01\r\u001b[K     |█████████▋                      | 112 kB 5.1 MB/s eta 0:00:01\r\u001b[K     |██████████▍                     | 122 kB 5.1 MB/s eta 0:00:01\r\u001b[K     |███████████▎                    | 133 kB 5.1 MB/s eta 0:00:01\r\u001b[K     |████████████▏                   | 143 kB 5.1 MB/s eta 0:00:01\r\u001b[K     |█████████████                   | 153 kB 5.1 MB/s eta 0:00:01\r\u001b[K     |██████████████                  | 163 kB 5.1 MB/s eta 0:00:01\r\u001b[K     |██████████████▊                 | 174 kB 5.1 MB/s eta 0:00:01\r\u001b[K     |███████████████▋                | 184 kB 5.1 MB/s eta 0:00:01\r\u001b[K     |████████████████▌               | 194 kB 5.1 MB/s eta 0:00:01\r\u001b[K     |█████████████████▍              | 204 kB 5.1 MB/s eta 0:00:01\r\u001b[K     |██████████████████▎             | 215 kB 5.1 MB/s eta 0:00:01\r\u001b[K     |███████████████████▏            | 225 kB 5.1 MB/s eta 0:00:01\r\u001b[K     |████████████████████            | 235 kB 5.1 MB/s eta 0:00:01\r\u001b[K     |████████████████████▉           | 245 kB 5.1 MB/s eta 0:00:01\r\u001b[K     |█████████████████████▊          | 256 kB 5.1 MB/s eta 0:00:01\r\u001b[K     |██████████████████████▋         | 266 kB 5.1 MB/s eta 0:00:01\r\u001b[K     |███████████████████████▌        | 276 kB 5.1 MB/s eta 0:00:01\r\u001b[K     |████████████████████████▍       | 286 kB 5.1 MB/s eta 0:00:01\r\u001b[K     |█████████████████████████▏      | 296 kB 5.1 MB/s eta 0:00:01\r\u001b[K     |██████████████████████████      | 307 kB 5.1 MB/s eta 0:00:01\r\u001b[K     |███████████████████████████     | 317 kB 5.1 MB/s eta 0:00:01\r\u001b[K     |███████████████████████████▉    | 327 kB 5.1 MB/s eta 0:00:01\r\u001b[K     |████████████████████████████▊   | 337 kB 5.1 MB/s eta 0:00:01\r\u001b[K     |█████████████████████████████▌  | 348 kB 5.1 MB/s eta 0:00:01\r\u001b[K     |██████████████████████████████▍ | 358 kB 5.1 MB/s eta 0:00:01\r\u001b[K     |███████████████████████████████▎| 368 kB 5.1 MB/s eta 0:00:01\r\u001b[K     |████████████████████████████████| 376 kB 5.1 MB/s \n",
            "\u001b[?25hRequirement already satisfied: torchvision in /usr/local/lib/python3.7/dist-packages (from timm) (0.10.0+cu102)\n",
            "Requirement already satisfied: torch>=1.4 in /usr/local/lib/python3.7/dist-packages (from timm) (1.9.0+cu102)\n",
            "Requirement already satisfied: typing-extensions in /usr/local/lib/python3.7/dist-packages (from torch>=1.4->timm) (3.7.4.3)\n",
            "Requirement already satisfied: pillow>=5.3.0 in /usr/local/lib/python3.7/dist-packages (from torchvision->timm) (7.1.2)\n",
            "Requirement already satisfied: numpy in /usr/local/lib/python3.7/dist-packages (from torchvision->timm) (1.19.5)\n",
            "Installing collected packages: timm\n",
            "Successfully installed timm-0.4.12\n"
          ],
          "name": "stdout"
        }
      ]
    },
    {
      "cell_type": "code",
      "metadata": {
        "colab": {
          "base_uri": "https://localhost:8080/"
        },
        "id": "uI1_QGYSrQwv",
        "outputId": "6557d22d-5be7-42af-8111-c6d9bbc4f423"
      },
      "source": [
        "model = FlowerModel(n_classes=24, pretrained=True)\n",
        "model"
      ],
      "execution_count": 44,
      "outputs": [
        {
          "output_type": "execute_result",
          "data": {
            "text/plain": [
              "FlowerModel(\n",
              "  (model): VisionTransformer(\n",
              "    (patch_embed): PatchEmbed(\n",
              "      (proj): Conv2d(3, 768, kernel_size=(16, 16), stride=(16, 16))\n",
              "      (norm): Identity()\n",
              "    )\n",
              "    (pos_drop): Dropout(p=0.0, inplace=False)\n",
              "    (blocks): Sequential(\n",
              "      (0): Block(\n",
              "        (norm1): LayerNorm((768,), eps=1e-06, elementwise_affine=True)\n",
              "        (attn): Attention(\n",
              "          (qkv): Linear(in_features=768, out_features=2304, bias=True)\n",
              "          (attn_drop): Dropout(p=0.0, inplace=False)\n",
              "          (proj): Linear(in_features=768, out_features=768, bias=True)\n",
              "          (proj_drop): Dropout(p=0.0, inplace=False)\n",
              "        )\n",
              "        (drop_path): Identity()\n",
              "        (norm2): LayerNorm((768,), eps=1e-06, elementwise_affine=True)\n",
              "        (mlp): Mlp(\n",
              "          (fc1): Linear(in_features=768, out_features=3072, bias=True)\n",
              "          (act): GELU()\n",
              "          (fc2): Linear(in_features=3072, out_features=768, bias=True)\n",
              "          (drop): Dropout(p=0.0, inplace=False)\n",
              "        )\n",
              "      )\n",
              "      (1): Block(\n",
              "        (norm1): LayerNorm((768,), eps=1e-06, elementwise_affine=True)\n",
              "        (attn): Attention(\n",
              "          (qkv): Linear(in_features=768, out_features=2304, bias=True)\n",
              "          (attn_drop): Dropout(p=0.0, inplace=False)\n",
              "          (proj): Linear(in_features=768, out_features=768, bias=True)\n",
              "          (proj_drop): Dropout(p=0.0, inplace=False)\n",
              "        )\n",
              "        (drop_path): Identity()\n",
              "        (norm2): LayerNorm((768,), eps=1e-06, elementwise_affine=True)\n",
              "        (mlp): Mlp(\n",
              "          (fc1): Linear(in_features=768, out_features=3072, bias=True)\n",
              "          (act): GELU()\n",
              "          (fc2): Linear(in_features=3072, out_features=768, bias=True)\n",
              "          (drop): Dropout(p=0.0, inplace=False)\n",
              "        )\n",
              "      )\n",
              "      (2): Block(\n",
              "        (norm1): LayerNorm((768,), eps=1e-06, elementwise_affine=True)\n",
              "        (attn): Attention(\n",
              "          (qkv): Linear(in_features=768, out_features=2304, bias=True)\n",
              "          (attn_drop): Dropout(p=0.0, inplace=False)\n",
              "          (proj): Linear(in_features=768, out_features=768, bias=True)\n",
              "          (proj_drop): Dropout(p=0.0, inplace=False)\n",
              "        )\n",
              "        (drop_path): Identity()\n",
              "        (norm2): LayerNorm((768,), eps=1e-06, elementwise_affine=True)\n",
              "        (mlp): Mlp(\n",
              "          (fc1): Linear(in_features=768, out_features=3072, bias=True)\n",
              "          (act): GELU()\n",
              "          (fc2): Linear(in_features=3072, out_features=768, bias=True)\n",
              "          (drop): Dropout(p=0.0, inplace=False)\n",
              "        )\n",
              "      )\n",
              "      (3): Block(\n",
              "        (norm1): LayerNorm((768,), eps=1e-06, elementwise_affine=True)\n",
              "        (attn): Attention(\n",
              "          (qkv): Linear(in_features=768, out_features=2304, bias=True)\n",
              "          (attn_drop): Dropout(p=0.0, inplace=False)\n",
              "          (proj): Linear(in_features=768, out_features=768, bias=True)\n",
              "          (proj_drop): Dropout(p=0.0, inplace=False)\n",
              "        )\n",
              "        (drop_path): Identity()\n",
              "        (norm2): LayerNorm((768,), eps=1e-06, elementwise_affine=True)\n",
              "        (mlp): Mlp(\n",
              "          (fc1): Linear(in_features=768, out_features=3072, bias=True)\n",
              "          (act): GELU()\n",
              "          (fc2): Linear(in_features=3072, out_features=768, bias=True)\n",
              "          (drop): Dropout(p=0.0, inplace=False)\n",
              "        )\n",
              "      )\n",
              "      (4): Block(\n",
              "        (norm1): LayerNorm((768,), eps=1e-06, elementwise_affine=True)\n",
              "        (attn): Attention(\n",
              "          (qkv): Linear(in_features=768, out_features=2304, bias=True)\n",
              "          (attn_drop): Dropout(p=0.0, inplace=False)\n",
              "          (proj): Linear(in_features=768, out_features=768, bias=True)\n",
              "          (proj_drop): Dropout(p=0.0, inplace=False)\n",
              "        )\n",
              "        (drop_path): Identity()\n",
              "        (norm2): LayerNorm((768,), eps=1e-06, elementwise_affine=True)\n",
              "        (mlp): Mlp(\n",
              "          (fc1): Linear(in_features=768, out_features=3072, bias=True)\n",
              "          (act): GELU()\n",
              "          (fc2): Linear(in_features=3072, out_features=768, bias=True)\n",
              "          (drop): Dropout(p=0.0, inplace=False)\n",
              "        )\n",
              "      )\n",
              "      (5): Block(\n",
              "        (norm1): LayerNorm((768,), eps=1e-06, elementwise_affine=True)\n",
              "        (attn): Attention(\n",
              "          (qkv): Linear(in_features=768, out_features=2304, bias=True)\n",
              "          (attn_drop): Dropout(p=0.0, inplace=False)\n",
              "          (proj): Linear(in_features=768, out_features=768, bias=True)\n",
              "          (proj_drop): Dropout(p=0.0, inplace=False)\n",
              "        )\n",
              "        (drop_path): Identity()\n",
              "        (norm2): LayerNorm((768,), eps=1e-06, elementwise_affine=True)\n",
              "        (mlp): Mlp(\n",
              "          (fc1): Linear(in_features=768, out_features=3072, bias=True)\n",
              "          (act): GELU()\n",
              "          (fc2): Linear(in_features=3072, out_features=768, bias=True)\n",
              "          (drop): Dropout(p=0.0, inplace=False)\n",
              "        )\n",
              "      )\n",
              "      (6): Block(\n",
              "        (norm1): LayerNorm((768,), eps=1e-06, elementwise_affine=True)\n",
              "        (attn): Attention(\n",
              "          (qkv): Linear(in_features=768, out_features=2304, bias=True)\n",
              "          (attn_drop): Dropout(p=0.0, inplace=False)\n",
              "          (proj): Linear(in_features=768, out_features=768, bias=True)\n",
              "          (proj_drop): Dropout(p=0.0, inplace=False)\n",
              "        )\n",
              "        (drop_path): Identity()\n",
              "        (norm2): LayerNorm((768,), eps=1e-06, elementwise_affine=True)\n",
              "        (mlp): Mlp(\n",
              "          (fc1): Linear(in_features=768, out_features=3072, bias=True)\n",
              "          (act): GELU()\n",
              "          (fc2): Linear(in_features=3072, out_features=768, bias=True)\n",
              "          (drop): Dropout(p=0.0, inplace=False)\n",
              "        )\n",
              "      )\n",
              "      (7): Block(\n",
              "        (norm1): LayerNorm((768,), eps=1e-06, elementwise_affine=True)\n",
              "        (attn): Attention(\n",
              "          (qkv): Linear(in_features=768, out_features=2304, bias=True)\n",
              "          (attn_drop): Dropout(p=0.0, inplace=False)\n",
              "          (proj): Linear(in_features=768, out_features=768, bias=True)\n",
              "          (proj_drop): Dropout(p=0.0, inplace=False)\n",
              "        )\n",
              "        (drop_path): Identity()\n",
              "        (norm2): LayerNorm((768,), eps=1e-06, elementwise_affine=True)\n",
              "        (mlp): Mlp(\n",
              "          (fc1): Linear(in_features=768, out_features=3072, bias=True)\n",
              "          (act): GELU()\n",
              "          (fc2): Linear(in_features=3072, out_features=768, bias=True)\n",
              "          (drop): Dropout(p=0.0, inplace=False)\n",
              "        )\n",
              "      )\n",
              "      (8): Block(\n",
              "        (norm1): LayerNorm((768,), eps=1e-06, elementwise_affine=True)\n",
              "        (attn): Attention(\n",
              "          (qkv): Linear(in_features=768, out_features=2304, bias=True)\n",
              "          (attn_drop): Dropout(p=0.0, inplace=False)\n",
              "          (proj): Linear(in_features=768, out_features=768, bias=True)\n",
              "          (proj_drop): Dropout(p=0.0, inplace=False)\n",
              "        )\n",
              "        (drop_path): Identity()\n",
              "        (norm2): LayerNorm((768,), eps=1e-06, elementwise_affine=True)\n",
              "        (mlp): Mlp(\n",
              "          (fc1): Linear(in_features=768, out_features=3072, bias=True)\n",
              "          (act): GELU()\n",
              "          (fc2): Linear(in_features=3072, out_features=768, bias=True)\n",
              "          (drop): Dropout(p=0.0, inplace=False)\n",
              "        )\n",
              "      )\n",
              "      (9): Block(\n",
              "        (norm1): LayerNorm((768,), eps=1e-06, elementwise_affine=True)\n",
              "        (attn): Attention(\n",
              "          (qkv): Linear(in_features=768, out_features=2304, bias=True)\n",
              "          (attn_drop): Dropout(p=0.0, inplace=False)\n",
              "          (proj): Linear(in_features=768, out_features=768, bias=True)\n",
              "          (proj_drop): Dropout(p=0.0, inplace=False)\n",
              "        )\n",
              "        (drop_path): Identity()\n",
              "        (norm2): LayerNorm((768,), eps=1e-06, elementwise_affine=True)\n",
              "        (mlp): Mlp(\n",
              "          (fc1): Linear(in_features=768, out_features=3072, bias=True)\n",
              "          (act): GELU()\n",
              "          (fc2): Linear(in_features=3072, out_features=768, bias=True)\n",
              "          (drop): Dropout(p=0.0, inplace=False)\n",
              "        )\n",
              "      )\n",
              "      (10): Block(\n",
              "        (norm1): LayerNorm((768,), eps=1e-06, elementwise_affine=True)\n",
              "        (attn): Attention(\n",
              "          (qkv): Linear(in_features=768, out_features=2304, bias=True)\n",
              "          (attn_drop): Dropout(p=0.0, inplace=False)\n",
              "          (proj): Linear(in_features=768, out_features=768, bias=True)\n",
              "          (proj_drop): Dropout(p=0.0, inplace=False)\n",
              "        )\n",
              "        (drop_path): Identity()\n",
              "        (norm2): LayerNorm((768,), eps=1e-06, elementwise_affine=True)\n",
              "        (mlp): Mlp(\n",
              "          (fc1): Linear(in_features=768, out_features=3072, bias=True)\n",
              "          (act): GELU()\n",
              "          (fc2): Linear(in_features=3072, out_features=768, bias=True)\n",
              "          (drop): Dropout(p=0.0, inplace=False)\n",
              "        )\n",
              "      )\n",
              "      (11): Block(\n",
              "        (norm1): LayerNorm((768,), eps=1e-06, elementwise_affine=True)\n",
              "        (attn): Attention(\n",
              "          (qkv): Linear(in_features=768, out_features=2304, bias=True)\n",
              "          (attn_drop): Dropout(p=0.0, inplace=False)\n",
              "          (proj): Linear(in_features=768, out_features=768, bias=True)\n",
              "          (proj_drop): Dropout(p=0.0, inplace=False)\n",
              "        )\n",
              "        (drop_path): Identity()\n",
              "        (norm2): LayerNorm((768,), eps=1e-06, elementwise_affine=True)\n",
              "        (mlp): Mlp(\n",
              "          (fc1): Linear(in_features=768, out_features=3072, bias=True)\n",
              "          (act): GELU()\n",
              "          (fc2): Linear(in_features=3072, out_features=768, bias=True)\n",
              "          (drop): Dropout(p=0.0, inplace=False)\n",
              "        )\n",
              "      )\n",
              "    )\n",
              "    (norm): LayerNorm((768,), eps=1e-06, elementwise_affine=True)\n",
              "    (pre_logits): Identity()\n",
              "    (head): Linear(in_features=768, out_features=24, bias=True)\n",
              "  )\n",
              ")"
            ]
          },
          "metadata": {
            "tags": []
          },
          "execution_count": 44
        }
      ]
    },
    {
      "cell_type": "code",
      "metadata": {
        "colab": {
          "base_uri": "https://localhost:8080/"
        },
        "id": "gs-15l-WrQs-",
        "outputId": "a74a0d4b-8046-4fbd-9a87-a47df06c09c9"
      },
      "source": [
        " for images, labels in train_dl:\n",
        "    print('images.shape:', images.shape)\n",
        "    out = model(images)\n",
        "    print('out.shape:', out.shape)\n",
        "    print('out[0]:', out[0])\n",
        "    break"
      ],
      "execution_count": 45,
      "outputs": [
        {
          "output_type": "stream",
          "text": [
            "images.shape: torch.Size([32, 3, 224, 224])\n",
            "out.shape: torch.Size([32, 24])\n",
            "out[0]: tensor([ 0.6103,  0.5967,  2.7141, -1.8373, -0.1503, -0.6397, -0.2450, -2.9771,\n",
            "        -1.1667, -0.0621, -0.5704,  1.1962, -0.5771, -3.9012, -2.7447, -1.4376,\n",
            "        -1.9827,  1.6348,  1.1193, -0.9782,  4.6666,  2.2857,  0.1037, -0.5782],\n",
            "       grad_fn=<SelectBackward>)\n"
          ],
          "name": "stdout"
        }
      ]
    },
    {
      "cell_type": "code",
      "metadata": {
        "id": "P2S081qSlVEL"
      },
      "source": [
        ""
      ],
      "execution_count": 45,
      "outputs": []
    },
    {
      "cell_type": "code",
      "metadata": {
        "id": "YN1YRCCRr8RO"
      },
      "source": [
        "@torch.no_grad()\n",
        "def evaluate(model, val_loader):\n",
        "    model.eval()\n",
        "    outputs = [model.validation_step(batch) for batch in val_loader]\n",
        "    return model.validation_epoch_end(outputs)\n",
        "\n",
        "def fit(epochs, lr, model, train_loader, val_loader, opt_func=torch.optim.SGD):\n",
        "    history = []\n",
        "    optimizer = opt_func(model.parameters(), lr)\n",
        "    for epoch in range(epochs):\n",
        "        # Training Phase \n",
        "        model.train()\n",
        "        train_losses = []\n",
        "        for batch in train_loader:\n",
        "            loss = model.training_step(batch)\n",
        "            train_losses.append(loss)\n",
        "            loss.backward()\n",
        "            optimizer.step()\n",
        "            optimizer.zero_grad()\n",
        "        # Validation phase\n",
        "        result = evaluate(model, val_loader)\n",
        "        result['train_loss'] = torch.stack(train_losses).mean().item()\n",
        "        model.epoch_end(epoch, result)\n",
        "        history.append(result)\n",
        "    return history\n"
      ],
      "execution_count": 46,
      "outputs": []
    },
    {
      "cell_type": "code",
      "metadata": {
        "id": "Cav44shfr8N_"
      },
      "source": [
        "def get_default_device():\n",
        "    \"\"\"Pick GPU if available, else CPU\"\"\"\n",
        "    if torch.cuda.is_available():\n",
        "        return torch.device('cuda')\n",
        "    else:\n",
        "        return torch.device('cpu')\n",
        "    \n",
        "def to_device(data, device):\n",
        "    \"\"\"Move tensor(s) to chosen device\"\"\"\n",
        "    if isinstance(data, (list,tuple)):\n",
        "        return [to_device(x, device) for x in data]\n",
        "    return data.to(device, non_blocking=True)\n",
        "\n",
        "class DeviceDataLoader():\n",
        "    \"\"\"Wrap a dataloader to move data to a device\"\"\"\n",
        "    def __init__(self, dl, device):\n",
        "        self.dl = dl\n",
        "        self.device = device\n",
        "        \n",
        "    def __iter__(self):\n",
        "        \"\"\"Yield a batch of data after moving it to device\"\"\"\n",
        "        for b in self.dl: \n",
        "            yield to_device(b, self.device)\n",
        "\n",
        "    def __len__(self):\n",
        "        \"\"\"Number of batches\"\"\"\n",
        "        return len(self.dl)\n",
        "device = get_default_device()"
      ],
      "execution_count": 47,
      "outputs": []
    },
    {
      "cell_type": "code",
      "metadata": {
        "colab": {
          "base_uri": "https://localhost:8080/"
        },
        "id": "NnD5dfhUrQp0",
        "outputId": "43c789e4-7daf-41ae-cd12-e348062c1daf"
      },
      "source": [
        "device = get_default_device()\n",
        "device"
      ],
      "execution_count": 48,
      "outputs": [
        {
          "output_type": "execute_result",
          "data": {
            "text/plain": [
              "device(type='cpu')"
            ]
          },
          "metadata": {
            "tags": []
          },
          "execution_count": 48
        }
      ]
    },
    {
      "cell_type": "code",
      "metadata": {
        "id": "w5Kt0eNvrQnD"
      },
      "source": [
        "train_dl = DeviceDataLoader(train_dl, device)\n",
        "val_dl = DeviceDataLoader(val_dl, device)\n",
        "to_device(model, device);\n"
      ],
      "execution_count": 49,
      "outputs": []
    },
    {
      "cell_type": "code",
      "metadata": {
        "id": "IArCwvwfkPWQ"
      },
      "source": [
        "def accuracy(outputs, labels):\n",
        "    _, preds = torch.max(outputs, dim=1)\n",
        "    return torch.tensor(torch.sum(preds == labels).item() / len(preds))\n",
        "\n",
        "class FlowerClassification(nn.Module):\n",
        "    def training_step(self, batch):\n",
        "        images, labels = batch \n",
        "        out = self(images)                  # Generate predictions\n",
        "        loss = F.cross_entropy(out, labels) # Calculate loss\n",
        "        return loss\n",
        "    \n",
        "    def validation_step(self, batch):\n",
        "        images, labels = batch \n",
        "        out = self(images)                    # Generate predictions\n",
        "        loss = F.cross_entropy(out, labels)   # Calculate loss\n",
        "        acc = accuracy(out, labels)           # Calculate accuracy\n",
        "        return {'val_loss': loss.detach(), 'val_acc': acc}\n",
        "        \n",
        "    def validation_epoch_end(self, outputs):\n",
        "        batch_losses = [x['val_loss'] for x in outputs]\n",
        "        epoch_loss = torch.stack(batch_losses).mean()   # Combine losses\n",
        "        batch_accs = [x['val_acc'] for x in outputs]\n",
        "        epoch_acc = torch.stack(batch_accs).mean()      # Combine accuracies\n",
        "        return {'val_loss': epoch_loss.item(), 'val_acc': epoch_acc.item()}\n",
        "    \n",
        "    def epoch_end(self, epoch, result):\n",
        "        print(\"Epoch [{}], train_loss: {:.4f}, val_loss: {:.4f}, val_acc: {:.4f}\".format(\n",
        "            epoch, result['train_loss'], result['val_loss'], result['val_acc']))"
      ],
      "execution_count": 50,
      "outputs": []
    },
    {
      "cell_type": "code",
      "metadata": {
        "id": "y_LyfcQQkaU3"
      },
      "source": [
        "class FlowerModel18(FlowerClassification):\n",
        "    def __init__(self):\n",
        "        super().__init__()\n",
        "        # Use a pretrained model\n",
        "        self.network = models.resnet18(pretrained=True)\n",
        "        # Replace last layer\n",
        "        num_ftrs = self.network.fc.in_features\n",
        "        self.network.fc = nn.Linear(num_ftrs, 24)\n",
        "        \n",
        "    def forward(self, xb):\n",
        "        return torch.sigmoid(self.network(xb))"
      ],
      "execution_count": 51,
      "outputs": []
    },
    {
      "cell_type": "code",
      "metadata": {
        "colab": {
          "base_uri": "https://localhost:8080/",
          "height": 100,
          "referenced_widgets": [
            "934c2e3a4b6c424ca05e837de8bd2041",
            "35b79d037eba4e1480e8c27bd87457cf",
            "c596db52b2bf49e9bdb4ed10a81b7df5",
            "1f41a328de214c128ddf4bb8d412cbcd",
            "bd642ba64c204fe4adadd1f6a40d5a84",
            "fb0f949afbae426bbd3d74216cd3b5fd",
            "04a29d3294dd4ec9b130ffecb23bbfe7",
            "81675fbc938c48a9beeba2ae8fe4e4fd"
          ]
        },
        "id": "JzmQzteJkaQk",
        "outputId": "1adcc996-705a-4212-f956-ddc90b52c4d7"
      },
      "source": [
        "model = to_device(FlowerModel18(), device)\n",
        "evaluate(model, val_dl)"
      ],
      "execution_count": 52,
      "outputs": [
        {
          "output_type": "stream",
          "text": [
            "Downloading: \"https://download.pytorch.org/models/resnet18-f37072fd.pth\" to /root/.cache/torch/hub/checkpoints/resnet18-f37072fd.pth\n"
          ],
          "name": "stderr"
        },
        {
          "output_type": "display_data",
          "data": {
            "application/vnd.jupyter.widget-view+json": {
              "model_id": "934c2e3a4b6c424ca05e837de8bd2041",
              "version_minor": 0,
              "version_major": 2
            },
            "text/plain": [
              "HBox(children=(FloatProgress(value=0.0, max=46830571.0), HTML(value='')))"
            ]
          },
          "metadata": {
            "tags": []
          }
        },
        {
          "output_type": "stream",
          "text": [
            "\n"
          ],
          "name": "stdout"
        },
        {
          "output_type": "execute_result",
          "data": {
            "text/plain": [
              "{'val_acc': 0.07125686854124069, 'val_loss': 3.1713576316833496}"
            ]
          },
          "metadata": {
            "tags": []
          },
          "execution_count": 52
        }
      ]
    },
    {
      "cell_type": "code",
      "metadata": {
        "id": "YWaUBL_7kaNp"
      },
      "source": [
        "num_epochs = 20\n",
        "opt_func = torch.optim.Adam\n",
        "lr =  0.0001"
      ],
      "execution_count": 53,
      "outputs": []
    },
    {
      "cell_type": "code",
      "metadata": {
        "colab": {
          "base_uri": "https://localhost:8080/"
        },
        "id": "MIMyEL1EkaKK",
        "outputId": "bb6c82e9-2d65-4714-be88-cd36912a75ec"
      },
      "source": [
        "%%time\n",
        "try3 = fit(num_epochs, lr, model, train_dl, val_dl, opt_func)"
      ],
      "execution_count": 54,
      "outputs": [
        {
          "output_type": "stream",
          "text": [
            "Epoch [0], train_loss: 2.5455, val_loss: 2.3453, val_acc: 0.9405\n",
            "Epoch [1], train_loss: 2.3285, val_loss: 2.2927, val_acc: 0.9669\n",
            "Epoch [2], train_loss: 2.2901, val_loss: 2.2795, val_acc: 0.9778\n",
            "Epoch [3], train_loss: 2.2787, val_loss: 2.2729, val_acc: 0.9736\n",
            "Epoch [4], train_loss: 2.2726, val_loss: 2.2667, val_acc: 0.9808\n",
            "Epoch [5], train_loss: 2.2686, val_loss: 2.2675, val_acc: 0.9790\n",
            "Epoch [6], train_loss: 2.2664, val_loss: 2.2634, val_acc: 0.9802\n",
            "Epoch [7], train_loss: 2.2648, val_loss: 2.2639, val_acc: 0.9796\n",
            "Epoch [8], train_loss: 2.2708, val_loss: 2.2638, val_acc: 0.9820\n",
            "Epoch [9], train_loss: 2.2625, val_loss: 2.2622, val_acc: 0.9808\n",
            "Epoch [10], train_loss: 2.2619, val_loss: 2.2611, val_acc: 0.9808\n",
            "Epoch [11], train_loss: 2.2584, val_loss: 2.2627, val_acc: 0.9820\n",
            "Epoch [12], train_loss: 2.2595, val_loss: 2.2634, val_acc: 0.9808\n",
            "Epoch [13], train_loss: 2.2626, val_loss: 2.2666, val_acc: 0.9772\n",
            "Epoch [14], train_loss: 2.2611, val_loss: 2.2612, val_acc: 0.9814\n",
            "Epoch [15], train_loss: 2.2625, val_loss: 2.2641, val_acc: 0.9796\n",
            "Epoch [16], train_loss: 2.2579, val_loss: 2.2624, val_acc: 0.9802\n",
            "Epoch [17], train_loss: 2.2639, val_loss: 2.2641, val_acc: 0.9702\n",
            "Epoch [18], train_loss: 2.2585, val_loss: 2.2602, val_acc: 0.9838\n",
            "Epoch [19], train_loss: 2.2571, val_loss: 2.2609, val_acc: 0.9784\n",
            "CPU times: user 5h 59min 33s, sys: 4min, total: 6h 3min 33s\n",
            "Wall time: 6h 6min 26s\n"
          ],
          "name": "stdout"
        }
      ]
    },
    {
      "cell_type": "code",
      "metadata": {
        "colab": {
          "base_uri": "https://localhost:8080/"
        },
        "id": "7ZZX2t7-kaHg",
        "outputId": "6e676666-9d8f-46c6-da89-e2fab9ca5210"
      },
      "source": [
        "evaluate(model, train_dl)"
      ],
      "execution_count": 55,
      "outputs": [
        {
          "output_type": "execute_result",
          "data": {
            "text/plain": [
              "{'val_acc': 0.9904661178588867, 'val_loss': 2.250985860824585}"
            ]
          },
          "metadata": {
            "tags": []
          },
          "execution_count": 55
        }
      ]
    },
    {
      "cell_type": "code",
      "metadata": {
        "colab": {
          "base_uri": "https://localhost:8080/"
        },
        "id": "iOT_kJBxkaD8",
        "outputId": "e26daad4-e350-4cec-9c32-6ffbf790951c"
      },
      "source": [
        "evaluate(model, val_dl)"
      ],
      "execution_count": 56,
      "outputs": [
        {
          "output_type": "execute_result",
          "data": {
            "text/plain": [
              "{'val_acc': 0.9789663553237915, 'val_loss': 2.2622859477996826}"
            ]
          },
          "metadata": {
            "tags": []
          },
          "execution_count": 56
        }
      ]
    },
    {
      "cell_type": "code",
      "metadata": {
        "id": "HTv8MpQmkaAg",
        "colab": {
          "base_uri": "https://localhost:8080/"
        },
        "outputId": "56501476-e888-480f-e76e-04193b83afcd"
      },
      "source": [
        "evaluate(model, test_dl)"
      ],
      "execution_count": 57,
      "outputs": [
        {
          "output_type": "execute_result",
          "data": {
            "text/plain": [
              "{'val_acc': 0.9756097793579102, 'val_loss': 2.2611727714538574}"
            ]
          },
          "metadata": {
            "tags": []
          },
          "execution_count": 57
        }
      ]
    },
    {
      "cell_type": "code",
      "metadata": {
        "id": "gPXWU5m5kPSL",
        "colab": {
          "base_uri": "https://localhost:8080/",
          "height": 301
        },
        "outputId": "5fa57a8f-fade-4eda-a26e-b81dc7c10ac0"
      },
      "source": [
        "def plot_accuracies(try3):\n",
        "    accuracies = [x['val_acc'] for x in try3]\n",
        "    plt.plot(accuracies, '-x')\n",
        "    plt.xlabel('epoch')\n",
        "    plt.ylabel('accuracy')\n",
        "    plt.title('Accuracy vs. No. of epochs');\n",
        "\n",
        "plot_accuracies(try3)"
      ],
      "execution_count": 58,
      "outputs": [
        {
          "output_type": "display_data",
          "data": {
            "image/png": "[encoded data removed]",
            "text/plain": [
              "<Figure size 432x288 with 1 Axes>"
            ]
          },
          "metadata": {
            "tags": [],
            "needs_background": "light"
          }
        }
      ]
    },
    {
      "cell_type": "code",
      "metadata": {
        "id": "BsIQ5qO-kLCa",
        "colab": {
          "base_uri": "https://localhost:8080/",
          "height": 301
        },
        "outputId": "fe57916e-4eba-4f9b-aae0-85554384238c"
      },
      "source": [
        "def plot_losses(try3):\n",
        "    train_losses = [x.get('train_loss') for x in try3]\n",
        "    val_losses = [x['val_loss'] for x in try3]\n",
        "    plt.plot(train_losses, '-bx')\n",
        "    plt.plot(val_losses, '-rx')\n",
        "    plt.xlabel('epoch')\n",
        "    plt.ylabel('loss')\n",
        "    plt.legend(['Training', 'Validation'])\n",
        "    plt.title('Loss vs. No. of epochs');\n",
        "plot_losses(try3)"
      ],
      "execution_count": 59,
      "outputs": [
        {
          "output_type": "display_data",
          "data": {
            "image/png": "[encoded data removed]",
            "text/plain": [
              "<Figure size 432x288 with 1 Axes>"
            ]
          },
          "metadata": {
            "tags": [],
            "needs_background": "light"
          }
        }
      ]
    },
    {
      "cell_type": "code",
      "metadata": {
        "id": "54o_ku7wkwZw"
      },
      "source": [
        "def predict_image(img, model):\n",
        "    xb = img.unsqueeze(0)\n",
        "    yb = model(xb)\n",
        "    _, preds  = torch.max(yb, dim=1)\n",
        "    return flower_label[preds[0].item()]"
      ],
      "execution_count": 60,
      "outputs": []
    },
    {
      "cell_type": "code",
      "metadata": {
        "id": "PiYgpRe3kwVU",
        "colab": {
          "base_uri": "https://localhost:8080/",
          "height": 288
        },
        "outputId": "720212ff-fbd2-4732-c7ed-8833642a391c"
      },
      "source": [
        "img, label = test_ds[17]\n",
        "plt.imshow(img[0], cmap='gray')\n",
        "print('Label:', database.classes[label], ', Predicted:', predict_image(img, FlowerModel18()))\n"
      ],
      "execution_count": 61,
      "outputs": [
        {
          "output_type": "stream",
          "text": [
            "Label: class_8 , Predicted: class_9\n"
          ],
          "name": "stdout"
        },
        {
          "output_type": "display_data",
          "data": {
            "image/png": "[encoded data removed]",
            "text/plain": [
              "<Figure size 432x288 with 1 Axes>"
            ]
          },
          "metadata": {
            "tags": [],
            "needs_background": "light"
          }
        }
      ]
    },
    {
      "cell_type": "code",
      "metadata": {
        "id": "BjpdW6gpkK-k",
        "colab": {
          "base_uri": "https://localhost:8080/",
          "height": 288
        },
        "outputId": "8c9a207d-71f4-4349-e3c0-fb8432fda7ca"
      },
      "source": [
        "img, label = test_ds[10]\n",
        "plt.imshow(img[0], cmap='gray')\n",
        "print('Label:', database.classes[label], ', Predicted:', predict_image(img, FlowerModel18()))\n",
        "\n"
      ],
      "execution_count": 62,
      "outputs": [
        {
          "output_type": "stream",
          "text": [
            "Label: class_7 , Predicted: class_2\n"
          ],
          "name": "stdout"
        },
        {
          "output_type": "display_data",
          "data": {
            "image/png": "[encoded data removed]",
            "text/plain": [
              "<Figure size 432x288 with 1 Axes>"
            ]
          },
          "metadata": {
            "tags": [],
            "needs_background": "light"
          }
        }
      ]
    },
    {
      "cell_type": "code",
      "metadata": {
        "id": "bxOs0nfLk1su"
      },
      "source": [
        "torch.save(model.state_dict(), '/content/gdrive/My Drive/Space/Flower-classification3.pth')"
      ],
      "execution_count": 63,
      "outputs": []
    },
    {
      "cell_type": "code",
      "metadata": {
        "id": "fDv9QYIyk1q0",
        "colab": {
          "base_uri": "https://localhost:8080/"
        },
        "outputId": "ff62157f-cac7-4b7c-d489-35cb53033a47"
      },
      "source": [
        "from sklearn import metrics as sk_metrics\n",
        "import seaborn as sn\n",
        "from sklearn.metrics import confusion_matrix, classification_report\n",
        "\n",
        "y_pred = []\n",
        "y_valid = []\n",
        "for ind, batch in enumerate(test_dl):\n",
        "    pred_probs = model(batch[0])\n",
        "    y_pred.extend(pred_probs.argmax(axis=-1).cpu().numpy())\n",
        "    y_valid.extend(batch[1])\n",
        "\n",
        "# Calculate needed metrics\n",
        "print(f'Accuracy score on test data:\\t{sk_metrics.accuracy_score(y_valid, y_pred)}')\n",
        "print(f'Macro F1 score on test data:\\t{sk_metrics.f1_score(y_valid, y_pred, average=\"macro\")}')"
      ],
      "execution_count": 64,
      "outputs": [
        {
          "output_type": "stream",
          "text": [
            "Accuracy score on test data:\t0.9739263803680982\n",
            "Macro F1 score on test data:\t0.9685688650457234\n"
          ],
          "name": "stdout"
        }
      ]
    },
    {
      "cell_type": "code",
      "metadata": {
        "id": "kusUWN7Dk1nX",
        "colab": {
          "base_uri": "https://localhost:8080/",
          "height": 838
        },
        "outputId": "56132338-c312-4b3f-e7b7-deb4b0df3cb7"
      },
      "source": [
        "# Calculate confusion matrix\n",
        "labels = [\"apxs\",\"apxs cal target\",\"chemcam cal target\",\"chemin inlet open\",\"drill\",\"drill holes\",\"drt front\",\"drt side\",\"ground\",\"horizon\",\"inlet\",\"mahli\",\"mahli cal target\",\"mastcam\",\"mastcam cal target\",\"observation tray\",\"portion box\",\"portion tube\",\"portion tube opening\",\"rems uv sensor\",\"rover rear deck\",\"scoop\",\"turret\",\"wheel\"]\n",
        "confusion_matrix = sk_metrics.confusion_matrix(y_valid, y_pred)\n",
        "df_confusion_matrix = pd.DataFrame(confusion_matrix,index=labels,columns=labels)\n",
        "\n",
        "# Show confusion matrix\n",
        "plt.figure(figsize=(12, 12))\n",
        "sn.heatmap(df_confusion_matrix, annot=True, cbar=False, cmap='Oranges', linewidths=1, linecolor='black')\n",
        "plt.xlabel('Predicted labels', fontsize=15)\n",
        "plt.xticks(fontsize=12)\n",
        "plt.ylabel('True labels', fontsize=15)\n",
        "plt.yticks(fontsize=12);\n"
      ],
      "execution_count": 65,
      "outputs": [
        {
          "output_type": "display_data",
          "data": {
            "image/png": "[encoded data removed]",
            "text/plain": [
              "<Figure size 864x864 with 1 Axes>"
            ]
          },
          "metadata": {
            "tags": [],
            "needs_background": "light"
          }
        }
      ]
    },
    {
      "cell_type": "code",
      "metadata": {
        "id": "Z6HjPhuEk1j2",
        "colab": {
          "base_uri": "https://localhost:8080/",
          "height": 886
        },
        "outputId": "7237973d-c5b0-4cd1-8aa6-11493a7dfb67"
      },
      "source": [
        "cm = confusion_matrix.astype('float') / confusion_matrix.sum(axis=1)[:, np.newaxis]\n",
        "accuracies = cm.diagonal()\n",
        "list_acc =  accuracies.tolist()\n",
        "list_acc.append(0)\n",
        "list_acc.append(0)\n",
        "list_acc.append(0)\n",
        "\n",
        "report = classification_report(y_valid, y_pred,                        \n",
        "                               output_dict=True,\n",
        "                               target_names=labels)\n",
        "report_df = pd.DataFrame(report).transpose()\n",
        "report_df[\"accuracy\"] = list_acc\n",
        "pd.set_option(\"display.max_rows\", None)\n",
        "report_df.head(134)"
      ],
      "execution_count": 66,
      "outputs": [
        {
          "output_type": "execute_result",
          "data": {
            "text/html": [
              "<div>\n",
              "<style scoped>\n",
              "    .dataframe tbody tr th:only-of-type {\n",
              "        vertical-align: middle;\n",
              "    }\n",
              "\n",
              "    .dataframe tbody tr th {\n",
              "        vertical-align: top;\n",
              "    }\n",
              "\n",
              "    .dataframe thead th {\n",
              "        text-align: right;\n",
              "    }\n",
              "</style>\n",
              "<table border=\"1\" class=\"dataframe\">\n",
              "  <thead>\n",
              "    <tr style=\"text-align: right;\">\n",
              "      <th></th>\n",
              "      <th>precision</th>\n",
              "      <th>recall</th>\n",
              "      <th>f1-score</th>\n",
              "      <th>support</th>\n",
              "      <th>accuracy</th>\n",
              "    </tr>\n",
              "  </thead>\n",
              "  <tbody>\n",
              "    <tr>\n",
              "      <th>apxs</th>\n",
              "      <td>1.000000</td>\n",
              "      <td>1.000000</td>\n",
              "      <td>1.000000</td>\n",
              "      <td>13.000000</td>\n",
              "      <td>1.000000</td>\n",
              "    </tr>\n",
              "    <tr>\n",
              "      <th>apxs cal target</th>\n",
              "      <td>1.000000</td>\n",
              "      <td>1.000000</td>\n",
              "      <td>1.000000</td>\n",
              "      <td>6.000000</td>\n",
              "      <td>1.000000</td>\n",
              "    </tr>\n",
              "    <tr>\n",
              "      <th>chemcam cal target</th>\n",
              "      <td>0.984848</td>\n",
              "      <td>1.000000</td>\n",
              "      <td>0.992366</td>\n",
              "      <td>65.000000</td>\n",
              "      <td>1.000000</td>\n",
              "    </tr>\n",
              "    <tr>\n",
              "      <th>chemin inlet open</th>\n",
              "      <td>1.000000</td>\n",
              "      <td>0.750000</td>\n",
              "      <td>0.857143</td>\n",
              "      <td>4.000000</td>\n",
              "      <td>0.750000</td>\n",
              "    </tr>\n",
              "    <tr>\n",
              "      <th>drill</th>\n",
              "      <td>0.944444</td>\n",
              "      <td>0.944444</td>\n",
              "      <td>0.944444</td>\n",
              "      <td>18.000000</td>\n",
              "      <td>0.944444</td>\n",
              "    </tr>\n",
              "    <tr>\n",
              "      <th>drill holes</th>\n",
              "      <td>0.789474</td>\n",
              "      <td>1.000000</td>\n",
              "      <td>0.882353</td>\n",
              "      <td>15.000000</td>\n",
              "      <td>1.000000</td>\n",
              "    </tr>\n",
              "    <tr>\n",
              "      <th>drt front</th>\n",
              "      <td>1.000000</td>\n",
              "      <td>1.000000</td>\n",
              "      <td>1.000000</td>\n",
              "      <td>32.000000</td>\n",
              "      <td>1.000000</td>\n",
              "    </tr>\n",
              "    <tr>\n",
              "      <th>drt side</th>\n",
              "      <td>1.000000</td>\n",
              "      <td>0.950000</td>\n",
              "      <td>0.974359</td>\n",
              "      <td>20.000000</td>\n",
              "      <td>0.950000</td>\n",
              "    </tr>\n",
              "    <tr>\n",
              "      <th>ground</th>\n",
              "      <td>1.000000</td>\n",
              "      <td>1.000000</td>\n",
              "      <td>1.000000</td>\n",
              "      <td>14.000000</td>\n",
              "      <td>1.000000</td>\n",
              "    </tr>\n",
              "    <tr>\n",
              "      <th>horizon</th>\n",
              "      <td>1.000000</td>\n",
              "      <td>0.970588</td>\n",
              "      <td>0.985075</td>\n",
              "      <td>34.000000</td>\n",
              "      <td>0.970588</td>\n",
              "    </tr>\n",
              "    <tr>\n",
              "      <th>inlet</th>\n",
              "      <td>1.000000</td>\n",
              "      <td>1.000000</td>\n",
              "      <td>1.000000</td>\n",
              "      <td>7.000000</td>\n",
              "      <td>1.000000</td>\n",
              "    </tr>\n",
              "    <tr>\n",
              "      <th>mahli</th>\n",
              "      <td>0.916667</td>\n",
              "      <td>1.000000</td>\n",
              "      <td>0.956522</td>\n",
              "      <td>11.000000</td>\n",
              "      <td>1.000000</td>\n",
              "    </tr>\n",
              "    <tr>\n",
              "      <th>mahli cal target</th>\n",
              "      <td>1.000000</td>\n",
              "      <td>0.857143</td>\n",
              "      <td>0.923077</td>\n",
              "      <td>7.000000</td>\n",
              "      <td>0.857143</td>\n",
              "    </tr>\n",
              "    <tr>\n",
              "      <th>mastcam</th>\n",
              "      <td>1.000000</td>\n",
              "      <td>0.923077</td>\n",
              "      <td>0.960000</td>\n",
              "      <td>13.000000</td>\n",
              "      <td>0.923077</td>\n",
              "    </tr>\n",
              "    <tr>\n",
              "      <th>mastcam cal target</th>\n",
              "      <td>0.966667</td>\n",
              "      <td>1.000000</td>\n",
              "      <td>0.983051</td>\n",
              "      <td>29.000000</td>\n",
              "      <td>1.000000</td>\n",
              "    </tr>\n",
              "    <tr>\n",
              "      <th>observation tray</th>\n",
              "      <td>1.000000</td>\n",
              "      <td>1.000000</td>\n",
              "      <td>1.000000</td>\n",
              "      <td>40.000000</td>\n",
              "      <td>1.000000</td>\n",
              "    </tr>\n",
              "    <tr>\n",
              "      <th>portion box</th>\n",
              "      <td>1.000000</td>\n",
              "      <td>0.972678</td>\n",
              "      <td>0.986150</td>\n",
              "      <td>183.000000</td>\n",
              "      <td>0.972678</td>\n",
              "    </tr>\n",
              "    <tr>\n",
              "      <th>portion tube</th>\n",
              "      <td>1.000000</td>\n",
              "      <td>0.923077</td>\n",
              "      <td>0.960000</td>\n",
              "      <td>26.000000</td>\n",
              "      <td>0.923077</td>\n",
              "    </tr>\n",
              "    <tr>\n",
              "      <th>portion tube opening</th>\n",
              "      <td>1.000000</td>\n",
              "      <td>1.000000</td>\n",
              "      <td>1.000000</td>\n",
              "      <td>12.000000</td>\n",
              "      <td>1.000000</td>\n",
              "    </tr>\n",
              "    <tr>\n",
              "      <th>rems uv sensor</th>\n",
              "      <td>0.990099</td>\n",
              "      <td>1.000000</td>\n",
              "      <td>0.995025</td>\n",
              "      <td>100.000000</td>\n",
              "      <td>1.000000</td>\n",
              "    </tr>\n",
              "    <tr>\n",
              "      <th>rover rear deck</th>\n",
              "      <td>1.000000</td>\n",
              "      <td>1.000000</td>\n",
              "      <td>1.000000</td>\n",
              "      <td>16.000000</td>\n",
              "      <td>1.000000</td>\n",
              "    </tr>\n",
              "    <tr>\n",
              "      <th>scoop</th>\n",
              "      <td>1.000000</td>\n",
              "      <td>1.000000</td>\n",
              "      <td>1.000000</td>\n",
              "      <td>42.000000</td>\n",
              "      <td>1.000000</td>\n",
              "    </tr>\n",
              "    <tr>\n",
              "      <th>turret</th>\n",
              "      <td>0.990099</td>\n",
              "      <td>0.965251</td>\n",
              "      <td>0.977517</td>\n",
              "      <td>518.000000</td>\n",
              "      <td>0.965251</td>\n",
              "    </tr>\n",
              "    <tr>\n",
              "      <th>wheel</th>\n",
              "      <td>0.791667</td>\n",
              "      <td>0.962025</td>\n",
              "      <td>0.868571</td>\n",
              "      <td>79.000000</td>\n",
              "      <td>0.962025</td>\n",
              "    </tr>\n",
              "    <tr>\n",
              "      <th>accuracy</th>\n",
              "      <td>0.973926</td>\n",
              "      <td>0.973926</td>\n",
              "      <td>0.973926</td>\n",
              "      <td>0.973926</td>\n",
              "      <td>0.000000</td>\n",
              "    </tr>\n",
              "    <tr>\n",
              "      <th>macro avg</th>\n",
              "      <td>0.973915</td>\n",
              "      <td>0.967428</td>\n",
              "      <td>0.968569</td>\n",
              "      <td>1304.000000</td>\n",
              "      <td>0.000000</td>\n",
              "    </tr>\n",
              "    <tr>\n",
              "      <th>weighted avg</th>\n",
              "      <td>0.977298</td>\n",
              "      <td>0.973926</td>\n",
              "      <td>0.974707</td>\n",
              "      <td>1304.000000</td>\n",
              "      <td>0.000000</td>\n",
              "    </tr>\n",
              "  </tbody>\n",
              "</table>\n",
              "</div>"
            ],
            "text/plain": [
              "                      precision    recall  f1-score      support  accuracy\n",
              "apxs                   1.000000  1.000000  1.000000    13.000000  1.000000\n",
              "apxs cal target        1.000000  1.000000  1.000000     6.000000  1.000000\n",
              "chemcam cal target     0.984848  1.000000  0.992366    65.000000  1.000000\n",
              "chemin inlet open      1.000000  0.750000  0.857143     4.000000  0.750000\n",
              "drill                  0.944444  0.944444  0.944444    18.000000  0.944444\n",
              "drill holes            0.789474  1.000000  0.882353    15.000000  1.000000\n",
              "drt front              1.000000  1.000000  1.000000    32.000000  1.000000\n",
              "drt side               1.000000  0.950000  0.974359    20.000000  0.950000\n",
              "ground                 1.000000  1.000000  1.000000    14.000000  1.000000\n",
              "horizon                1.000000  0.970588  0.985075    34.000000  0.970588\n",
              "inlet                  1.000000  1.000000  1.000000     7.000000  1.000000\n",
              "mahli                  0.916667  1.000000  0.956522    11.000000  1.000000\n",
              "mahli cal target       1.000000  0.857143  0.923077     7.000000  0.857143\n",
              "mastcam                1.000000  0.923077  0.960000    13.000000  0.923077\n",
              "mastcam cal target     0.966667  1.000000  0.983051    29.000000  1.000000\n",
              "observation tray       1.000000  1.000000  1.000000    40.000000  1.000000\n",
              "portion box            1.000000  0.972678  0.986150   183.000000  0.972678\n",
              "portion tube           1.000000  0.923077  0.960000    26.000000  0.923077\n",
              "portion tube opening   1.000000  1.000000  1.000000    12.000000  1.000000\n",
              "rems uv sensor         0.990099  1.000000  0.995025   100.000000  1.000000\n",
              "rover rear deck        1.000000  1.000000  1.000000    16.000000  1.000000\n",
              "scoop                  1.000000  1.000000  1.000000    42.000000  1.000000\n",
              "turret                 0.990099  0.965251  0.977517   518.000000  0.965251\n",
              "wheel                  0.791667  0.962025  0.868571    79.000000  0.962025\n",
              "accuracy               0.973926  0.973926  0.973926     0.973926  0.000000\n",
              "macro avg              0.973915  0.967428  0.968569  1304.000000  0.000000\n",
              "weighted avg           0.977298  0.973926  0.974707  1304.000000  0.000000"
            ]
          },
          "metadata": {
            "tags": []
          },
          "execution_count": 66
        }
      ]
    }
  ]
}